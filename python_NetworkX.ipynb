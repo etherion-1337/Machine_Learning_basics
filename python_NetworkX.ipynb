{
 "cells": [
  {
   "cell_type": "markdown",
   "metadata": {},
   "source": [
    "# Python Library: NetworkX\n",
    "\n",
    "Networks are a useful tool for modelling **relationships** between **entities**.     \n",
    "By modelling data as a network, we can gain insight into:        \n",
    "Important entities (or nodes): influencer in a social network.      \n",
    "Pathfinding: optimising transportation between cities.       \n",
    "Clustering: find communities in the network.      \n",
    "\n",
    "Networks are described by two sets of items: **nodes** and **edges**. Together these form a network, known as *graph*.     \n",
    "Nodes and edges can have metadata associated with them. e.g. nodes can be two person with id no. and age, while edge represents Friendship associated with a date (they first met each other).      \n",
    "\n"
   ]
  },
  {
   "cell_type": "code",
   "execution_count": 10,
   "metadata": {},
   "outputs": [],
   "source": [
    "import networkx as nx\n",
    "import matplotlib.pyplot as plt"
   ]
  },
  {
   "cell_type": "code",
   "execution_count": 6,
   "metadata": {},
   "outputs": [
    {
     "name": "stdout",
     "output_type": "stream",
     "text": [
      "[1, 2, 3]\n"
     ]
    }
   ],
   "source": [
    "# initialize an empty Graph to which we can add nodes and edges\n",
    "G = nx.Graph()\n",
    "\n",
    "# add integer 1,2,3 as nodes to G\n",
    "G.add_nodes_from([1,2,3])\n",
    "\n",
    "# inspect and return a list of nodes\n",
    "print(G.nodes())"
   ]
  },
  {
   "cell_type": "code",
   "execution_count": 8,
   "metadata": {},
   "outputs": [
    {
     "name": "stdout",
     "output_type": "stream",
     "text": [
      "[(1, 2)]\n"
     ]
    }
   ],
   "source": [
    "# add edge between nodes 1 and 2\n",
    "G.add_edge(1,2)\n",
    "# returns a list of turple, where each turple shows the nodes that are present on that edge\n",
    "print(G.edges())"
   ]
  },
  {
   "cell_type": "code",
   "execution_count": 9,
   "metadata": {},
   "outputs": [
    {
     "data": {
      "text/plain": [
       "NodeDataView({1: {'label': 'blue'}, 2: {}, 3: {}})"
      ]
     },
     "execution_count": 9,
     "metadata": {},
     "output_type": "execute_result"
    }
   ],
   "source": [
    "# add node 1 a \"label\" with the value \"blue\"\n",
    "# somewhat like a dict\n",
    "G.node[1][\"label\"] = \"blue\"\n",
    "\n",
    "# retrieve the node list with the metadat attached\n",
    "# return a list of 2-turples, first element of each turple is the nodes, second elelment is a dict\n",
    "# where k-v pairs correspind to the metadata\n",
    "G.nodes(data=True)"
   ]
  },
  {
   "cell_type": "code",
   "execution_count": 11,
   "metadata": {},
   "outputs": [
    {
     "name": "stderr",
     "output_type": "stream",
     "text": [
      "/Users/XavierTang/anaconda3/lib/python3.7/site-packages/networkx/drawing/nx_pylab.py:579: MatplotlibDeprecationWarning: \n",
      "The iterable function was deprecated in Matplotlib 3.1 and will be removed in 3.3. Use np.iterable instead.\n",
      "  if not cb.iterable(width):\n"
     ]
    },
    {
     "data": {
      "image/png": "[encoded data removed]",
      "text/plain": [
       "<Figure size 432x288 with 1 Axes>"
      ]
     },
     "metadata": {},
     "output_type": "display_data"
    }
   ],
   "source": [
    "# draw node-link\n",
    "nx.draw(G)\n",
    "plt.show()"
   ]
  },
  {
   "cell_type": "code",
   "execution_count": null,
   "metadata": {},
   "outputs": [],
   "source": []
  }
 ],
 "metadata": {
  "kernelspec": {
   "display_name": "Python 3",
   "language": "python",
   "name": "python3"
  },
  "language_info": {
   "codemirror_mode": {
    "name": "ipython",
    "version": 3
   },
   "file_extension": ".py",
   "mimetype": "text/x-python",
   "name": "python",
   "nbconvert_exporter": "python",
   "pygments_lexer": "ipython3",
   "version": "3.7.4"
  }
 },
 "nbformat": 4,
 "nbformat_minor": 4
}
