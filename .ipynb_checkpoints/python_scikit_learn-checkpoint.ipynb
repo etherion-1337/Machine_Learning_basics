{
 "cells": [
  {
   "cell_type": "markdown",
   "metadata": {},
   "source": [
    "# Python library: Scikit-Learn"
   ]
  },
  {
   "cell_type": "markdown",
   "metadata": {},
   "source": [
    "## 0. Machine learning\n",
    "\n",
    "Giving computers the ability to learn to make decisions from data *without being explicitly programmed*.     \n"
   ]
  },
  {
   "cell_type": "markdown",
   "metadata": {},
   "source": [
    "## 0.1 Supervised learning VS Unsupervised learning VS reinforcement learning\n",
    "\n",
    "**Supervised learning** uses labeled data, an example will be learning if an email is spam or not. The label of each data is *spam* or *not spam*.    \n",
    "\n",
    "**Unsupervised learning** uncovers hidden patterns and structures from unlabeled data.    \n",
    "e.g. a bussiness may wish to group its customers into distinct categories base on their purchasing behavior, *without* knowing in advance what these categories maybe. (Clustering)    \n",
    "\n",
    "In **reinforcement learning** the machine or software agent interact with an environment. The reinforcement agent are able to automatically figure out how to optimise their behavior, *given a system of reward or punishment*. It draws inspiration from behavioral psychology.    \n"
   ]
  },
  {
   "cell_type": "code",
   "execution_count": null,
   "metadata": {},
   "outputs": [],
   "source": []
  }
 ],
 "metadata": {
  "kernelspec": {
   "display_name": "Python 3",
   "language": "python",
   "name": "python3"
  },
  "language_info": {
   "codemirror_mode": {
    "name": "ipython",
    "version": 3
   },
   "file_extension": ".py",
   "mimetype": "text/x-python",
   "name": "python",
   "nbconvert_exporter": "python",
   "pygments_lexer": "ipython3",
   "version": "3.7.4"
  }
 },
 "nbformat": 4,
 "nbformat_minor": 4
}
