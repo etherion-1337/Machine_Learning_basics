{
 "cells": [
  {
   "cell_type": "markdown",
   "metadata": {},
   "source": [
    "# Python Library: NetworkX\n",
    "\n",
    "Networks are a useful tool for modelling **relationships** between **entities**.     \n",
    "By modelling data as a network, we can gain insight into:        \n",
    "Important entities (or nodes): influencer in a social network.      \n",
    "Pathfinding: optimising transportation between cities.       \n",
    "Clustering: find communities in the network.      \n",
    "\n",
    "Networks are described by two sets of items: **nodes** and **edges**. Together these form a network, known as *graph*.     \n",
    "Nodes and edges can have metadata associated with them. e.g. nodes can be two person with id no. and age, while edge represents Friendship associated with a date (they first met each other).      \n",
    "\n"
   ]
  },
  {
   "cell_type": "code",
   "execution_count": 10,
   "metadata": {},
   "outputs": [],
   "source": [
    "import networkx as nx\n",
    "import matplotlib.pyplot as plt"
   ]
  },
  {
   "cell_type": "code",
   "execution_count": 6,
   "metadata": {},
   "outputs": [
    {
     "name": "stdout",
     "output_type": "stream",
     "text": [
      "[1, 2, 3]\n"
     ]
    }
   ],
   "source": [
    "# initialize an empty Graph to which we can add nodes and edges\n",
    "G = nx.Graph()\n",
    "\n",
    "# add integer 1,2,3 as nodes to G\n",
    "G.add_nodes_from([1,2,3])\n",
    "\n",
    "# inspect and return a list of nodes\n",
    "print(G.nodes())"
   ]
  },
  {
   "cell_type": "code",
   "execution_count": 8,
   "metadata": {},
   "outputs": [
    {
     "name": "stdout",
     "output_type": "stream",
     "text": [
      "[(1, 2)]\n"
     ]
    }
   ],
   "source": [
    "# add edge between nodes 1 and 2\n",
    "G.add_edge(1,2)\n",
    "# returns a list of turple, where each turple shows the nodes that are present on that edge\n",
    "print(G.edges())"
   ]
  },
  {
   "cell_type": "code",
   "execution_count": 9,
   "metadata": {},
   "outputs": [
    {
     "data": {
      "text/plain": [
       "NodeDataView({1: {'label': 'blue'}, 2: {}, 3: {}})"
      ]
     },
     "execution_count": 9,
     "metadata": {},
     "output_type": "execute_result"
    }
   ],
   "source": [
    "# add node 1 a \"label\" with the value \"blue\"\n",
    "# somewhat like a dict\n",
    "G.node[1][\"label\"] = \"blue\"\n",
    "\n",
    "# retrieve the node list with the metadat attached\n",
    "# return a list of 2-turples, first element of each turple is the nodes, second elelment is a dict\n",
    "# where k-v pairs correspind to the metadata\n",
    "G.nodes(data=True)"
   ]
  },
  {
   "cell_type": "code",
   "execution_count": 11,
   "metadata": {},
   "outputs": [
    {
     "name": "stderr",
     "output_type": "stream",
     "text": [
      "/Users/XavierTang/anaconda3/lib/python3.7/site-packages/networkx/drawing/nx_pylab.py:579: MatplotlibDeprecationWarning: \n",
      "The iterable function was deprecated in Matplotlib 3.1 and will be removed in 3.3. Use np.iterable instead.\n",
      "  if not cb.iterable(width):\n"
     ]
    },
    {
     "data": {
      "image/png": "[encoded data removed]",
      "text/plain": [
       "<Figure size 432x288 with 1 Axes>"
      ]
     },
     "metadata": {},
     "output_type": "display_data"
    }
   ],
   "source": [
    "# draw node-link\n",
    "nx.draw(G)\n",
    "plt.show()"
   ]
  },
  {
   "cell_type": "markdown",
   "metadata": {},
   "source": [
    "## 1. Types of graph\n",
    "\n",
    "**Undirected graphs**:      \n",
    "Like friendship status in Facebook.     \n",
    "Comprise of edges that do not have any inherent directionality associated with them.      \n",
    "Most commonly drawn a a line with no arrows between two circles.       \n",
    "\n",
    "**Directed graphs**:       \n",
    "Like Twitter's social graph. A follow B, but B might not follow A.       \n",
    "\n",
    "**multiple edge between nodes**:     \n",
    "Model trips between bike sharing station.     \n",
    "Each trip is 1 edge between 2 station (nodes)      \n",
    "\n",
    "Sometimes for practical reason, it maybe too memory-intensive to model multuple edge per pair of nodes. We may choose to collapse the edges into a single edge that contains a metadata summary of the original (like give a \"weight\" metadata with value \"3\", indicating originally 3 edges between the pair of nodes, while collapsed to 1 edge).     \n",
    "\n",
    "**self-loops**:      \n",
    "Like bike sharing data where a trip begins and end at the same station."
   ]
  },
  {
   "cell_type": "code",
   "execution_count": 13,
   "metadata": {},
   "outputs": [
    {
     "name": "stdout",
     "output_type": "stream",
     "text": [
      "<class 'networkx.classes.graph.Graph'>\n",
      "<class 'networkx.classes.digraph.DiGraph'>\n",
      "<class 'networkx.classes.multigraph.MultiGraph'>\n",
      "<class 'networkx.classes.multidigraph.MultiDiGraph'>\n"
     ]
    }
   ],
   "source": [
    "# undirected graphs\n",
    "G_undir = nx.Graph()\n",
    "print(type(G_undir))\n",
    "\n",
    "# directed graphs\n",
    "G_dir = nx.DiGraph()\n",
    "print(type(G_dir))\n",
    "\n",
    "# multi edge graph\n",
    "G_multi = nx.MultiGraph()\n",
    "print(type(G_multi))\n",
    "\n",
    "# multi directed edge graph\n",
    "G_multidir = nx.MultiDiGraph()\n",
    "print(type(G_multidir))\n"
   ]
  },
  {
   "cell_type": "markdown",
   "metadata": {},
   "source": [
    "## 2. Network visualisation\n",
    "\n",
    "Matrix plot:     \n",
    "nodes are the rows and coloumns of a matrix.     \n",
    "cells are filled in according to whether an edge exists between the pairs of nodes.       \n",
    "In an undirected graph, the matrix is symmetrical around the diagonal.      \n",
    "In an directed graph, (A,B) filled in but not (B,A) if A -> B only. (row,col)        \n",
    "If the nodes are ordered along the rows and cols, such that neighbours are listed close to one another, then a matrix plot can be used to visualise clusters, or cumminities of nodes.\n",
    "\n",
    "Arc plot: \n",
    "It is a transformation of the node-link layout.    \n",
    "Nodes are ordered along 1 axis of the plot, the edges are drawn using circular arcs from 1 node to another.     \n",
    "If the nodes are ordered according to some sortable rule, e.g. age in a social network, or group together by geographical location, it will be possible to visualise the relationship between connectivity and the sorted property.      \n",
    "\n",
    "Circos plot:        \n",
    "A transformation of Arc plot. Two ends of the Arc plot are joined togehter into a circle."
   ]
  },
  {
   "cell_type": "markdown",
   "metadata": {},
   "source": [
    "## 3. Which nodes are important ?  \n",
    "\n",
    "Being connected to other nodes means other nodes are considered a *neighbor* of the node.      \n",
    "Degree centrality = no. of neighbours the node has / total no. of neighbours that node could possibly have      \n",
    "\n",
    "If self-loops are allowed, then the no. neighbours the node could possibly have is every single node in the graph, including itself.     \n",
    "\n",
    "no. of neighbors that a node has is called its *degree*.     \n"
   ]
  },
  {
   "cell_type": "code",
   "execution_count": 14,
   "metadata": {},
   "outputs": [
    {
     "data": {
      "text/plain": [
       "EdgeView([(1, 2), (1, 3), (1, 4), (1, 5), (1, 6), (1, 7), (1, 8), (1, 9)])"
      ]
     },
     "execution_count": 14,
     "metadata": {},
     "output_type": "execute_result"
    }
   ],
   "source": [
    "# a \"star\" graph\n",
    "G = nx.Graph()\n",
    "G.add_nodes_from([1,2,3,4,5,6,7,8,9])\n",
    "G.add_edge(1,2)\n",
    "G.add_edge(1,3)\n",
    "G.add_edge(1,4)\n",
    "G.add_edge(1,5)\n",
    "G.add_edge(1,6)\n",
    "G.add_edge(1,7)\n",
    "G.add_edge(1,8)\n",
    "G.add_edge(1,9)\n",
    "G.edges()"
   ]
  },
  {
   "cell_type": "code",
   "execution_count": 19,
   "metadata": {},
   "outputs": [
    {
     "data": {
      "text/plain": [
       "[2, 3, 4, 5, 6, 7, 8, 9]"
      ]
     },
     "execution_count": 19,
     "metadata": {},
     "output_type": "execute_result"
    }
   ],
   "source": [
    "list(G.neighbors(1))"
   ]
  },
  {
   "cell_type": "code",
   "execution_count": 20,
   "metadata": {},
   "outputs": [
    {
     "data": {
      "text/plain": [
       "{1: 1.0,\n",
       " 2: 0.125,\n",
       " 3: 0.125,\n",
       " 4: 0.125,\n",
       " 5: 0.125,\n",
       " 6: 0.125,\n",
       " 7: 0.125,\n",
       " 8: 0.125,\n",
       " 9: 0.125}"
      ]
     },
     "execution_count": 20,
     "metadata": {},
     "output_type": "execute_result"
    }
   ],
   "source": [
    "# degree of centrality\n",
    "# self loop is not considered\n",
    "nx.degree_centrality(G)"
   ]
  },
  {
   "cell_type": "markdown",
   "metadata": {},
   "source": [
    "## 4. Graph algorithms (path finding)\n",
    "\n",
    "Pathfinding is important for:     \n",
    "Optimisation: e.g. shortest transport paths     \n",
    "Modelling: e.g. disease spread, information passing      \n",
    "\n",
    "How do we determine if path exist and find the shortest path?      \n",
    "One way is to use Breadth-first search algorithm.     \n",
    "\n",
    "1) at the starting node (node 1), ask node 1's neighbors, we then ask if the destination node is present in the set of node 1's neighbors.     \n",
    "2) if not, continue on, ask the neighbors of neighbors of node 1.     \n",
    "\n"
   ]
  },
  {
   "cell_type": "markdown",
   "metadata": {},
   "source": [
    "## 5. Betweenness centrality\n",
    "\n",
    "*All shortest path*:      \n",
    "Imagine we use BFS to find every shortest path between every pair of nodes. What we get back is the set of \"all shortest path\" in a graph. i.e. all shortest path are the set of paths in a graph, such that each path is the shortest path between a given pair of nodes, done for all pairs of nodes.    \n",
    "\n",
    "Betweenness centrality = no. of shortest paths through node / all possible shortest paths       \n",
    "This metric capture a different view of importance, in essence, it captures bottleneck nodes in a graph, rather than highly connected nodes.    \n",
    "\n"
   ]
  },
  {
   "cell_type": "code",
   "execution_count": 21,
   "metadata": {},
   "outputs": [
    {
     "data": {
      "image/png": "[encoded data removed]",
      "text/plain": [
       "<Figure size 432x288 with 1 Axes>"
      ]
     },
     "metadata": {},
     "output_type": "display_data"
    }
   ],
   "source": [
    "# generate a barbell graph\n",
    "# m1 = no.of nodes in barbell end, m2 no. of nodes in barbell bridge\n",
    "G = nx.barbell_graph(m1=5,m2=1)\n",
    "nx.draw(G)\n",
    "plt.show()\n",
    "# hign betweenness centrality, low degree centrality"
   ]
  },
  {
   "cell_type": "code",
   "execution_count": 22,
   "metadata": {},
   "outputs": [
    {
     "data": {
      "text/plain": [
       "{0: 0.0,\n",
       " 1: 0.0,\n",
       " 2: 0.0,\n",
       " 3: 0.0,\n",
       " 4: 0.5333333333333333,\n",
       " 6: 0.5333333333333333,\n",
       " 7: 0.0,\n",
       " 8: 0.0,\n",
       " 9: 0.0,\n",
       " 10: 0.0,\n",
       " 5: 0.5555555555555556}"
      ]
     },
     "execution_count": 22,
     "metadata": {},
     "output_type": "execute_result"
    }
   ],
   "source": [
    "# get betweenss centrality\n",
    "nx.betweenness_centrality(G)\n",
    "# 0 means they are at the end of the barbell graph\n",
    "# nodes within each end are fully connected with one another\n",
    "# no shortest path that has to run through any of those nodes to get to other nodes"
   ]
  },
  {
   "cell_type": "code",
   "execution_count": null,
   "metadata": {},
   "outputs": [],
   "source": []
  }
 ],
 "metadata": {
  "kernelspec": {
   "display_name": "Python 3",
   "language": "python",
   "name": "python3"
  },
  "language_info": {
   "codemirror_mode": {
    "name": "ipython",
    "version": 3
   },
   "file_extension": ".py",
   "mimetype": "text/x-python",
   "name": "python",
   "nbconvert_exporter": "python",
   "pygments_lexer": "ipython3",
   "version": "3.7.4"
  }
 },
 "nbformat": 4,
 "nbformat_minor": 4
}
