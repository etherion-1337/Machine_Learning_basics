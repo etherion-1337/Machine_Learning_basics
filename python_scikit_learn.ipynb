{
 "cells": [
  {
   "cell_type": "markdown",
   "metadata": {},
   "source": [
    "# Python library: Scikit-Learn\n",
    "\n",
    "\n",
    "All machine learning models in scikit-learn are implemented as python classes.     \n",
    "These classes serves 2 purposes:     \n",
    "1) they implement the algorithms for learning and predicting     \n",
    "2) store all the information that is learned from the data     \n",
    "\n",
    "**Training** a model on the data is also called fitting the model to the data:     \n",
    "In scikit-learn, we use the .fit() method.      \n",
    "\n",
    "To **predict** the label of an unlabeled data point:     \n",
    "In scikit-learn, we use the .predict() method.      \n"
   ]
  },
  {
   "cell_type": "markdown",
   "metadata": {},
   "source": [
    "## 0. Machine learning\n",
    "\n",
    "Giving computers the ability to learn to make decisions from data *without being explicitly programmed*.     \n"
   ]
  },
  {
   "cell_type": "markdown",
   "metadata": {},
   "source": [
    "### 0.1 Supervised learning VS Unsupervised learning VS reinforcement learning\n",
    "\n",
    "**Supervised learning** uses labeled data, an example will be learning if an email is spam or not. The label of each data is *spam* or *not spam*.    \n",
    "\n",
    "**Unsupervised learning** uncovers hidden patterns and structures from unlabeled data.    \n",
    "e.g. a bussiness may wish to group its customers into distinct categories base on their purchasing behavior, *without* knowing in advance what these categories maybe. (Clustering)    \n",
    "\n",
    "In **reinforcement learning** the machine or software agent interact with an environment. The reinforcement agent are able to automatically figure out how to optimise their behavior, *given a system of reward or punishment*. It draws inspiration from behavioral psychology.    \n"
   ]
  },
  {
   "cell_type": "markdown",
   "metadata": {},
   "source": [
    "### 0.2 Naming conventions\n",
    "\n",
    "features == predictor variables == independent variables    \n",
    "\n",
    "target variable == dependent variable == response variable    \n",
    "\n"
   ]
  },
  {
   "cell_type": "markdown",
   "metadata": {},
   "source": [
    "## 1. Supervised learning\n",
    "\n",
    "There are several data points (or samples) described using predictor variable (or features) and a target variable.    \n",
    "Data usually presented in a table, row for each data points and column for each feature.     \n",
    "The aim of supervised learning is to build a model that is able to predict the target variable, given the predictor variables.    \n",
    "e.g. given the Iris flower data set, the taget variable can be the species (setosa etc.), given the sepal length/petal length/width (predictor variables).     \n",
    "\n",
    "If the target variable consist of categories, like \"click\" or \"no click\", \"spam\" or \"not spam\", or different species of flowers, we call the learning task **Classification**.     \n",
    "\n",
    "If the target is a continuously varying variable, for example, the price of a house, then it is a **Regression** task.     \n",
    "Purpose of supervised learning:     \n",
    "1) automate time-consuming or expensive maual tasks (e.g. doctor's diagnosis)       \n",
    "2) make predictions about future (e.g. if a customer will click on an add)     \n",
    "\n",
    "**Need** labeled data, you can get it from:          \n",
    "1) historical data which already has labels that you are interested in.       \n",
    "2) perform experiments to get labeled data. (e.g. A/B testing to see how many clicks you get)      \n",
    "3) crowdsourced labeling data.       \n",
    "\n",
    "The goal of supervised learning is to learn from data for which the right output is known, so that we can make predication o new data for which we don't know the output.     \n",
    "\n",
    "\n"
   ]
  },
  {
   "cell_type": "code",
   "execution_count": 1,
   "metadata": {},
   "outputs": [],
   "source": [
    "from sklearn import datasets\n",
    "import pandas as pd\n",
    "import numpy as np\n",
    "import matplotlib.pyplot as plt\n",
    "import seaborn as sns\n",
    "plt.style.use(\"ggplot\")"
   ]
  },
  {
   "cell_type": "markdown",
   "metadata": {},
   "source": [
    "**Note on the Iris dataset**     \n",
    "It describe the Iris flower which the **features** consist of 4 measurements:    \n",
    "1) petal length     \n",
    "2) petal width     \n",
    "3) sepal length      \n",
    "4) sepal width      \n",
    "and the **target** variable encodes the species of flower and thereare 3 possibilities:     \n",
    "1) versicolor     \n",
    "2) virgincia     \n",
    "3) setosa      \n"
   ]
  },
  {
   "cell_type": "code",
   "execution_count": 2,
   "metadata": {},
   "outputs": [],
   "source": [
    "iris = datasets.load_iris()"
   ]
  },
  {
   "cell_type": "code",
   "execution_count": 3,
   "metadata": {},
   "outputs": [
    {
     "data": {
      "text/plain": [
       "sklearn.utils.Bunch"
      ]
     },
     "execution_count": 3,
     "metadata": {},
     "output_type": "execute_result"
    }
   ],
   "source": [
    "type(iris) #Bunch object, similar to a dictionary, contains k-v pairs"
   ]
  },
  {
   "cell_type": "code",
   "execution_count": 4,
   "metadata": {},
   "outputs": [
    {
     "name": "stdout",
     "output_type": "stream",
     "text": [
      "dict_keys(['data', 'target', 'target_names', 'DESCR', 'feature_names', 'filename'])\n"
     ]
    }
   ],
   "source": [
    "print(iris.keys())\n",
    "# DESCR: provide a description of the data set\n",
    "# data: contains the values of features\n",
    "# target: target data"
   ]
  },
  {
   "cell_type": "code",
   "execution_count": 5,
   "metadata": {},
   "outputs": [
    {
     "name": "stdout",
     "output_type": "stream",
     "text": [
      "<class 'numpy.ndarray'>\n",
      "<class 'numpy.ndarray'>\n"
     ]
    }
   ],
   "source": [
    "# both feature and target data are provided as NumPy arrays\n",
    "print(type(iris.data))\n",
    "print(type(iris.target))"
   ]
  },
  {
   "cell_type": "code",
   "execution_count": 6,
   "metadata": {},
   "outputs": [
    {
     "data": {
      "text/plain": [
       "(150, 4)"
      ]
     },
     "execution_count": 6,
     "metadata": {},
     "output_type": "execute_result"
    }
   ],
   "source": [
    "# 150 rows and 4 cols in features data\n",
    "iris.data.shape\n",
    "#150 samples with 4 features (petal/sepal length/width)"
   ]
  },
  {
   "cell_type": "markdown",
   "metadata": {},
   "source": [
    "target variable is encoded as:     \n",
    "setosa == 0      \n",
    "versicolor == 1       \n",
    "virginica == 2"
   ]
  },
  {
   "cell_type": "code",
   "execution_count": 7,
   "metadata": {},
   "outputs": [
    {
     "data": {
      "text/plain": [
       "array(['setosa', 'versicolor', 'virginica'], dtype='<U10')"
      ]
     },
     "execution_count": 7,
     "metadata": {},
     "output_type": "execute_result"
    }
   ],
   "source": [
    "iris.target_names"
   ]
  },
  {
   "cell_type": "markdown",
   "metadata": {},
   "source": [
    "## 2. Exploratory data analysis (EDA)"
   ]
  },
  {
   "cell_type": "code",
   "execution_count": 8,
   "metadata": {},
   "outputs": [
    {
     "name": "stdout",
     "output_type": "stream",
     "text": [
      "   sepal length (cm)  sepal width (cm)  petal length (cm)  petal width (cm)\n",
      "0                5.1               3.5                1.4               0.2\n",
      "1                4.9               3.0                1.4               0.2\n",
      "2                4.7               3.2                1.3               0.2\n",
      "3                4.6               3.1                1.5               0.2\n",
      "4                5.0               3.6                1.4               0.2\n"
     ]
    }
   ],
   "source": [
    "X = iris.data\n",
    "y = iris.target\n",
    "df = pd.DataFrame(X, columns=iris.feature_names)\n",
    "print(df.head())"
   ]
  },
  {
   "cell_type": "code",
   "execution_count": 9,
   "metadata": {},
   "outputs": [
    {
     "data": {
      "image/png": "[encoded data removed]",
      "text/plain": [
       "<Figure size 576x576 with 16 Axes>"
      ]
     },
     "metadata": {
      "needs_background": "light"
     },
     "output_type": "display_data"
    }
   ],
   "source": [
    "_ = pd.plotting.scatter_matrix(df,c = y , figsize = [8,8], s=150, marker = \"D\")\n",
    "# target variable to c (color), ensure our data points in fig will be colored by their species\n",
    "# s: marker size, marker : shape"
   ]
  },
  {
   "cell_type": "markdown",
   "metadata": {},
   "source": [
    "The results is a matrix of figures.      \n",
    "Diagonal are histogram of the features corresponding to the row and column.     \n",
    "Off-diagonal figures are scatter plots of the column features versus row features colored by target variable"
   ]
  },
  {
   "cell_type": "markdown",
   "metadata": {},
   "source": [
    "## 3. Classification (supervised)\n",
    "\n",
    "**The challenge**:     \n",
    "We would like to build a classifier that takes unlabeled data as input and outputs a label.     \n",
    "We first need to choose a type of classifier and it needs to learn from the already labeled data (training data).      \n"
   ]
  },
  {
   "cell_type": "markdown",
   "metadata": {},
   "source": [
    "### 3.1 k-Nearest Neighbors (KNN)\n",
    "\n",
    "Basic idea:     \n",
    "To predict the label of any data point by looking at the k (e.g. 3) closest labeled data points and getting them to (majority) vote on what label the unlabeled point should have.     \n",
    "\n",
    "Notice we named the feature array X and response variable y: This is in accordance with the common scikit-learn practice.    \n",
    "\n",
    "Larger k = smooth decision boundary and less curvy = less complex model = can lead to underfitting\n",
    "Smaller k = more complex model = can lead to overfitting     \n",
    "\n",
    "**Small** k can lead to sensitive to noise in the specific data we have, rather than relecting general trends in the data.         \n",
    "\n",
    "**Large** k can make model even simpler, then model will perform less well on both test and training set.(i.e. the testing and training accuracy will drop, the graph that shows testing and training accuracy vs k is called model complexity curve). This is called underfitting.     \n",
    "\n",
    "\n",
    "\n"
   ]
  },
  {
   "cell_type": "code",
   "execution_count": 10,
   "metadata": {},
   "outputs": [
    {
     "data": {
      "text/plain": [
       "KNeighborsClassifier(algorithm='auto', leaf_size=30, metric='minkowski',\n",
       "                     metric_params=None, n_jobs=None, n_neighbors=6, p=2,\n",
       "                     weights='uniform')"
      ]
     },
     "execution_count": 10,
     "metadata": {},
     "output_type": "execute_result"
    }
   ],
   "source": [
    "from sklearn.neighbors import KNeighborsClassifier\n",
    "#instantiate the classifier, set no. of neightbor to 6\n",
    "knn = KNeighborsClassifier(n_neighbors=6)\n",
    "#fit this classifier to our training set, the labeled data\n",
    "# sklearn API requires data as np array or pd df, features takes on continuous value (as oppose to categorical data)\n",
    "# requires no missing values in the data\n",
    "# sklearn requires each col is a feature, each row a diff observation or data point\n",
    "# target needs to be a single col with the same number of observation as the feature data\n",
    "knn.fit(iris[\"data\"],iris[\"target\"]) #X,y\n",
    "# The above returns the classifier itself and modifies it (knn object) to fit it to the data. "
   ]
  },
  {
   "cell_type": "code",
   "execution_count": 11,
   "metadata": {},
   "outputs": [],
   "source": [
    "# predict unlabeled data\n",
    "# set of observation X_new\n",
    "# API requires data as np array with feature in col and observations in rows"
   ]
  },
  {
   "cell_type": "code",
   "execution_count": 12,
   "metadata": {},
   "outputs": [
    {
     "name": "stdout",
     "output_type": "stream",
     "text": [
      "(3, 4)\n",
      "Prediction [0 0 0]\n"
     ]
    }
   ],
   "source": [
    "X_new = np.array([[4.7,3.1,1.2,0.2],[5.0,3.6,1.4,0.2],[5.6,4.1,1.8,0.4]]) #new observation to be labeled\n",
    "print(X_new.shape)\n",
    "prediction = knn.predict(X_new)\n",
    "print(\"Prediction {}\".format(prediction)) # all setosa prediction"
   ]
  },
  {
   "cell_type": "markdown",
   "metadata": {},
   "source": [
    "### 3.2 Measuring model performance\n",
    "\n",
    "In classification problems, accuracy is a commonly-used metric.     \n",
    "Accuracy = Fraction of correct predictions. (i,e, no. of correct prediction / total no. of data points)      \n",
    "\n",
    "It is common to split data into 2 sets:     \n",
    "1) training set (fit or train)     \n",
    "2) test set (predict on the labeled test set)      \n",
    "then compare these predictions with the known labels.      \n",
    "\n"
   ]
  },
  {
   "cell_type": "code",
   "execution_count": 13,
   "metadata": {},
   "outputs": [
    {
     "name": "stdout",
     "output_type": "stream",
     "text": [
      "Test set predictions:\n",
      " [2 1 2 2 1 0 1 0 0 1 0 2 0 2 2 0 0 0 1 0 2 2 2 0 1 1 1 0 0 1 2 2 0 0 1 2 2\n",
      " 1 1 2 1 1 0 2 1]\n"
     ]
    }
   ],
   "source": [
    "from sklearn.model_selection import train_test_split\n",
    "# use the train_test_split function to randomly split our data\n",
    "# 1st arg: feature data\n",
    "# 2nd arg: targets or label\n",
    "# test_size: what proportion of the original data is used for the test set\n",
    "# random_state: sets a seed for the RNG that splits the data into train and test\n",
    "# this func returns 4 array\n",
    "# by default, the split is 75% training data, 25% test data\n",
    "# stratify: labels to be distributed in train and test tests as they are in the original data set. To keep track\n",
    "X = iris[\"data\"] # already a np array, if its df then use .values to convert to array. df will also works\n",
    "y = iris[\"target\"]\n",
    "X_train, X_test, y_train, y_test = train_test_split(X, y, test_size=0.3,random_state=21,stratify=y)\n",
    "\n",
    "knn = KNeighborsClassifier(n_neighbors=8)\n",
    "knn.fit(X_train, y_train)\n",
    "y_pred = knn.predict(X_test)\n",
    "\n",
    "print(\"Test set predictions:\\n {}\".format(y_pred))"
   ]
  },
  {
   "cell_type": "code",
   "execution_count": 14,
   "metadata": {},
   "outputs": [
    {
     "data": {
      "text/plain": [
       "0.9555555555555556"
      ]
     },
     "execution_count": 14,
     "metadata": {},
     "output_type": "execute_result"
    }
   ],
   "source": [
    "# check accuracy, use .score() method\n",
    "knn.score(X_test, y_test)"
   ]
  },
  {
   "cell_type": "markdown",
   "metadata": {},
   "source": [
    "## Example: the digits recognition dataset\n",
    "\n",
    "In the following exercises, you'll be working with the MNIST digits recognition dataset, which has 10 classes, the digits 0 through 9. A reduced version of the MNIST dataset is one of scikit-learn's included datasets, and that is the one we will use in this exercise.    \n",
    "\n",
    "Each sample in this scikit-learn dataset is an 8x8 image representing a handwritten digit. Each pixel is represented by an integer in the range 0 to 16, indicating varying levels of black. Recall that scikit-learn's built-in datasets are of type Bunch, which are dictionary-like objects. Helpfully for the MNIST dataset, scikit-learn provides an 'images' key in addition to the 'data' and 'target' keys that you have seen with the Iris data. Because it is a 2D array of the images corresponding to each sample, this 'images' key is useful for visualizing the images, as you'll see in this exercise.     \n",
    "\n",
    "On the other hand, the 'data' key contains the feature array - that is, the images as a flattened array of 64 pixels."
   ]
  },
  {
   "cell_type": "code",
   "execution_count": 15,
   "metadata": {},
   "outputs": [
    {
     "name": "stdout",
     "output_type": "stream",
     "text": [
      "dict_keys(['data', 'target', 'target_names', 'images', 'DESCR'])\n",
      ".. _digits_dataset:\n",
      "\n",
      "Optical recognition of handwritten digits dataset\n",
      "--------------------------------------------------\n",
      "\n",
      "**Data Set Characteristics:**\n",
      "\n",
      "    :Number of Instances: 5620\n",
      "    :Number of Attributes: 64\n",
      "    :Attribute Information: 8x8 image of integer pixels in the range 0..16.\n",
      "    :Missing Attribute Values: None\n",
      "    :Creator: E. Alpaydin (alpaydin '@' boun.edu.tr)\n",
      "    :Date: July; 1998\n",
      "\n",
      "This is a copy of the test set of the UCI ML hand-written digits datasets\n",
      "https://archive.ics.uci.edu/ml/datasets/Optical+Recognition+of+Handwritten+Digits\n",
      "\n",
      "The data set contains images of hand-written digits: 10 classes where\n",
      "each class refers to a digit.\n",
      "\n",
      "Preprocessing programs made available by NIST were used to extract\n",
      "normalized bitmaps of handwritten digits from a preprinted form. From a\n",
      "total of 43 people, 30 contributed to the training set and different 13\n",
      "to the test set. 32x32 bitmaps are divided into nonoverlapping blocks of\n",
      "4x4 and the number of on pixels are counted in each block. This generates\n",
      "an input matrix of 8x8 where each element is an integer in the range\n",
      "0..16. This reduces dimensionality and gives invariance to small\n",
      "distortions.\n",
      "\n",
      "For info on NIST preprocessing routines, see M. D. Garris, J. L. Blue, G.\n",
      "T. Candela, D. L. Dimmick, J. Geist, P. J. Grother, S. A. Janet, and C.\n",
      "L. Wilson, NIST Form-Based Handprint Recognition System, NISTIR 5469,\n",
      "1994.\n",
      "\n",
      ".. topic:: References\n",
      "\n",
      "  - C. Kaynak (1995) Methods of Combining Multiple Classifiers and Their\n",
      "    Applications to Handwritten Digit Recognition, MSc Thesis, Institute of\n",
      "    Graduate Studies in Science and Engineering, Bogazici University.\n",
      "  - E. Alpaydin, C. Kaynak (1998) Cascading Classifiers, Kybernetika.\n",
      "  - Ken Tang and Ponnuthurai N. Suganthan and Xi Yao and A. Kai Qin.\n",
      "    Linear dimensionalityreduction using relevance weighted LDA. School of\n",
      "    Electrical and Electronic Engineering Nanyang Technological University.\n",
      "    2005.\n",
      "  - Claudio Gentile. A New Approximate Maximal Margin Classification\n",
      "    Algorithm. NIPS. 2000.\n",
      "(1797, 8, 8)\n",
      "(1797, 64)\n"
     ]
    },
    {
     "data": {
      "image/png": "[encoded data removed]",
      "text/plain": [
       "<Figure size 432x288 with 1 Axes>"
      ]
     },
     "metadata": {
      "needs_background": "light"
     },
     "output_type": "display_data"
    }
   ],
   "source": [
    "# Load the digits dataset: digits\n",
    "digits = datasets.load_digits()\n",
    "\n",
    "# Print the keys and DESCR of the dataset\n",
    "print(digits.keys())\n",
    "print(digits.DESCR)\n",
    "\n",
    "# Print the shape of the images and data keys\n",
    "print(digits.images.shape)\n",
    "print(digits.data.shape)\n",
    "\n",
    "# Display digit 1010 (1010th image)\n",
    "plt.imshow(digits.images[1010], cmap=plt.cm.gray_r, interpolation='nearest')\n",
    "plt.show()"
   ]
  },
  {
   "cell_type": "code",
   "execution_count": 16,
   "metadata": {},
   "outputs": [
    {
     "name": "stdout",
     "output_type": "stream",
     "text": [
      "(1797,)\n"
     ]
    }
   ],
   "source": [
    "print(digits.target.shape)"
   ]
  },
  {
   "cell_type": "code",
   "execution_count": 17,
   "metadata": {},
   "outputs": [
    {
     "name": "stdout",
     "output_type": "stream",
     "text": [
      "0.9833333333333333\n"
     ]
    }
   ],
   "source": [
    "# Create feature and target arrays\n",
    "X = digits.data\n",
    "y = digits.target\n",
    "\n",
    "# Split into training and test set\n",
    "X_train, X_test, y_train, y_test = train_test_split(X, y, test_size = 0.2, random_state=42, stratify=y)\n",
    "\n",
    "# Create a k-NN classifier with 7 neighbors: knn\n",
    "knn = KNeighborsClassifier(n_neighbors=7)\n",
    "\n",
    "# Fit the classifier to the training data\n",
    "knn.fit(X_train, y_train)\n",
    "\n",
    "# Print the accuracy\n",
    "print(knn.score(X_test, y_test))"
   ]
  },
  {
   "cell_type": "markdown",
   "metadata": {},
   "source": [
    "In this exercise, you will compute and plot the training and testing accuracy scores for a variety of different neighbor values. By observing how the accuracy scores differ for the training and testing sets with different values of k, you will develop your intuition for overfitting and underfitting."
   ]
  },
  {
   "cell_type": "code",
   "execution_count": 18,
   "metadata": {},
   "outputs": [
    {
     "data": {
      "image/png": "[encoded data removed]",
      "text/plain": [
       "<Figure size 432x288 with 1 Axes>"
      ]
     },
     "metadata": {
      "needs_background": "light"
     },
     "output_type": "display_data"
    }
   ],
   "source": [
    "# Setup arrays to store train and test accuracies\n",
    "neighbors = np.arange(1, 9)\n",
    "train_accuracy = np.empty(len(neighbors))\n",
    "test_accuracy = np.empty(len(neighbors))\n",
    "\n",
    "# Loop over different values of k\n",
    "for i, k in enumerate(neighbors):\n",
    "    # Setup a k-NN Classifier with k neighbors: knn\n",
    "    knn = KNeighborsClassifier(n_neighbors=k)\n",
    "\n",
    "    # Fit the classifier to the training data\n",
    "    knn.fit(X_train,y_train)\n",
    "    \n",
    "    #Compute accuracy on the training set\n",
    "    train_accuracy[i] = knn.score(X_train, y_train)\n",
    "\n",
    "    #Compute accuracy on the testing set\n",
    "    test_accuracy[i] = knn.score(X_test, y_test)\n",
    "\n",
    "# Generate plot\n",
    "plt.title('k-NN: Varying Number of Neighbors')\n",
    "plt.plot(neighbors, test_accuracy, label = 'Testing Accuracy')\n",
    "plt.plot(neighbors, train_accuracy, label = 'Training Accuracy')\n",
    "plt.legend()\n",
    "plt.xlabel('Number of Neighbors')\n",
    "plt.ylabel('Accuracy')\n",
    "plt.show()"
   ]
  },
  {
   "cell_type": "markdown",
   "metadata": {},
   "source": [
    "## 4. Regression (supervised)\n",
    "\n",
    "The target value is continuous varying variable, such as a country's GDP or price of a house.    \n",
    "\n",
    "Regression mechanics:    \n",
    "y = ax + b      \n",
    "y = target     \n",
    "x = single feature      \n",
    "a,b = parameters of model we want to learn      \n",
    "\n",
    "How do we choose a and b?    \n",
    "A common method is to define an error function for any given line and then to choose the line that minimizes the error function.     \n",
    "For linear regression, this lost function is Ordinary least squares (OLS): minimize sum of squares of residuals.     \n",
    "\n",
    "When you call .fit() on a linear regression model in scikit-learn, it performs this OLS under the hood.    \n",
    "\n",
    "When we have 2 features and 1 target, a line is of the form:      \n",
    "$y = a_1x_1 + a_2x_2 + b$\n",
    "which need to spcified 3 variables to fit a linear regression model.($a_1a_2b$)      \n",
    "\n",
    "For higher dimension:     \n",
    "$y=a_1x_1 + a_2x_2 + a_3x_3 + ... + a_n x_x +b$      \n",
    "must specify coefficient for each feature and the variable b.      \n",
    "\n",
    "Scikit-learn API works exactly the same way: passing two arrays: feature, and target.     \n",
    "\n",
    "In general, you will never use linear regression out of the box, you will most likely wish to use regularisation that place further constraints on the model coefficients.    \n",
    "\n",
    "\n"
   ]
  },
  {
   "cell_type": "code",
   "execution_count": 19,
   "metadata": {},
   "outputs": [
    {
     "name": "stdout",
     "output_type": "stream",
     "text": [
      "      CRIM    ZN  INDUS  CHAS     NX     RM   AGE     DIS  RAD    TAX  \\\n",
      "0  0.00632  18.0   2.31     0  0.538  6.575  65.2  4.0900    1  296.0   \n",
      "1  0.02731   0.0   7.07     0  0.469  6.421  78.9  4.9671    2  242.0   \n",
      "2  0.02729   0.0   7.07     0  0.469  7.185  61.1  4.9671    2  242.0   \n",
      "3  0.03237   0.0   2.18     0  0.458  6.998  45.8  6.0622    3  222.0   \n",
      "4  0.06905   0.0   2.18     0  0.458  7.147  54.2  6.0622    3  222.0   \n",
      "\n",
      "   PTRATIO       B  LSTAT  MEDV  \n",
      "0     15.3  396.90   4.98  24.0  \n",
      "1     17.8  396.90   9.14  21.6  \n",
      "2     17.8  392.83   4.03  34.7  \n",
      "3     18.7  394.63   2.94  33.4  \n",
      "4     18.7  396.90   5.33  36.2  \n"
     ]
    }
   ],
   "source": [
    "# boston housing data\n",
    "boston = pd.read_csv(\"../Machine_Learning_basics/data/boston.csv\")\n",
    "print(boston.head())\n",
    "# CRIM: per capita crime rate\n",
    "# NX: nitri oxide concentration\n",
    "# RM: avg no. of rooms per dwelling\n",
    "# target: MEDV: median value of owner occupied homes in thousand of dollors"
   ]
  },
  {
   "cell_type": "code",
   "execution_count": 20,
   "metadata": {},
   "outputs": [],
   "source": [
    "# creating df for X and y\n",
    "# drop target, get df for features\n",
    "X = boston.drop(\"MEDV\", axis=1).values #convert to np array with .values\n",
    "# keep only the target\n",
    "y = boston[\"MEDV\"].values"
   ]
  },
  {
   "cell_type": "code",
   "execution_count": 21,
   "metadata": {},
   "outputs": [],
   "source": [
    "# predict price from a single feature: the avg no. of rooms in a block\n",
    "# slice out no. of rooms col\n",
    "X_rooms = X[:,5] #np array\n",
    "\n",
    "# turn them into arrays of desired shape, use reshape\n",
    "y = y.reshape(-1,1) #-1 basically means unknown, this line only tell np to have 1 col, np has to figure out how many row to be compatible witht he original array\n",
    "X_rooms = X_rooms.reshape(-1,1)"
   ]
  },
  {
   "cell_type": "code",
   "execution_count": 22,
   "metadata": {},
   "outputs": [
    {
     "data": {
      "image/png": "[encoded data removed]",
      "text/plain": [
       "<Figure size 432x288 with 1 Axes>"
      ]
     },
     "metadata": {
      "needs_background": "light"
     },
     "output_type": "display_data"
    }
   ],
   "source": [
    "# plot house value as a func of no. of rooms\n",
    "plt.scatter(X_rooms, y)\n",
    "plt.ylabel(\"Value of house /1000($)\")\n",
    "plt.xlabel(\"Number of rooms\")\n",
    "plt.show()"
   ]
  },
  {
   "cell_type": "code",
   "execution_count": 23,
   "metadata": {},
   "outputs": [
    {
     "data": {
      "image/png": "[encoded data removed]",
      "text/plain": [
       "<Figure size 432x288 with 1 Axes>"
      ]
     },
     "metadata": {
      "needs_background": "light"
     },
     "output_type": "display_data"
    }
   ],
   "source": [
    "# linear regression model\n",
    "from sklearn import linear_model\n",
    "#instantiate LinearRegression as reg\n",
    "reg = linear_model.LinearRegression()\n",
    "\n",
    "#fit the regressor to the data\n",
    "reg.fit(X_rooms, y)\n",
    "\n",
    "#check out the regressors prediction over the range of data\n",
    "prediction_space = np.linspace(min(X_rooms),max(X_rooms)).reshape(-1,1)\n",
    "#data set\n",
    "plt.scatter(X_rooms, y, color=\"blue\")\n",
    "#predict over the range of the training dataset\n",
    "plt.plot(prediction_space, reg.predict(prediction_space),color=\"black\", linewidth=3)\n",
    "\n",
    "plt.show()"
   ]
  },
  {
   "cell_type": "markdown",
   "metadata": {},
   "source": [
    "### 4.1 Measuring model performace\n",
    "\n",
    "The default scoring method for linear regression is called R squared.    \n",
    "This metric quantifies the amount of variance in the target variable that is predicted from the feature variables (Explaned variance/Total variance). Higher the better.     \n"
   ]
  },
  {
   "cell_type": "code",
   "execution_count": 24,
   "metadata": {},
   "outputs": [
    {
     "data": {
      "text/plain": [
       "0.7112260057484953"
      ]
     },
     "execution_count": 24,
     "metadata": {},
     "output_type": "execute_result"
    }
   ],
   "source": [
    "# linear regression on all features (high dimension fit)\n",
    "X_train, X_test, y_train, y_test = train_test_split(X, y, test_size = 0.3, random_state=42)\n",
    "#instantiate the regressor\n",
    "reg_all = linear_model.LinearRegression()\n",
    "\n",
    "reg_all.fit(X_train, y_train)\n",
    "y_pred = reg_all.predict(X_test)\n",
    "\n",
    "#R squared\n",
    "reg_all.score(X_test, y_test)"
   ]
  },
  {
   "cell_type": "markdown",
   "metadata": {},
   "source": [
    "In addition to computing the R square score, you will also compute the Root Mean Squared Error (RMSE), which is another commonly used metric to evaluate regression models. "
   ]
  },
  {
   "cell_type": "code",
   "execution_count": 25,
   "metadata": {},
   "outputs": [
    {
     "name": "stdout",
     "output_type": "stream",
     "text": [
      "Root Mean Squared Error: 4.6386899261728045\n"
     ]
    }
   ],
   "source": [
    "from sklearn.metrics import mean_squared_error\n",
    "rmse = np.sqrt(mean_squared_error(y_test,y_pred))\n",
    "print(\"Root Mean Squared Error: {}\".format(rmse))"
   ]
  },
  {
   "cell_type": "markdown",
   "metadata": {},
   "source": [
    "### 4.2 Cross-validation\n",
    "\n",
    "The R squared returned is dependent on the way that you split up the data.     \n",
    "Not representative of the model's ability to generalise.     \n",
    "We can use cross-validation!      \n",
    "\n",
    "1) split the dataset into 5 groups or folds      \n",
    "2) we hold out the first fold as a test set, fit our model on the remaining four folds, predict on the test set and compute the metric of interest     \n",
    "3) hold out 2nd fold as test data, fit the model with the remaining data, compute the metric of interest       \n",
    "4) As a result, we will have 5 values of R squared from which we can compute metric of interest (mean, median, 95% confidence intervals)        \n",
    "5) This is called 5 fold Cross-Validation     \n",
    "\n",
    "Or k-fold CV in short for split into k folds.      \n"
   ]
  },
  {
   "cell_type": "code",
   "execution_count": 26,
   "metadata": {},
   "outputs": [
    {
     "name": "stdout",
     "output_type": "stream",
     "text": [
      "[ 0.63919994  0.71386698  0.58702344  0.07923081 -0.25294154]\n",
      "0.3532759243958813\n"
     ]
    }
   ],
   "source": [
    "from sklearn.model_selection import cross_val_score\n",
    "#instaniate regressor\n",
    "reg = linear_model.LinearRegression()\n",
    "\n",
    "#this returns an array of CV scores, length of array is no. fold used\n",
    "# value reported is R squared, default\n",
    "cv_results = cross_val_score(reg,X,y, cv=5)\n",
    "\n",
    "print(cv_results)\n",
    "print(np.mean(cv_results))"
   ]
  },
  {
   "cell_type": "markdown",
   "metadata": {},
   "source": [
    "### 4.3 Regularised regression (supervised)\n",
    "\n",
    "Linear regression try to minimise the loss function to choose a coefficient $a_i$ for each feature variable.     \n",
    "Large coefficient can lead to overfitting.      \n",
    "Therefore it is common practice to alter the loss function so that it penalises for large coefficients, i.e. **regularisation**.     \n",
    "\n",
    "**Ridge Regression**: (usually first choice)      \n",
    "Loss function is the standard OLS function plus the squred value of each coefficient multiplied by some constant alpha:    \n",
    "$\\text{Loss function} = \\text{OLS loss function} + \\alpha \\sum^{n}_{i=1} a^{2}_{i}$    \n",
    "\n",
    "Thus when minimising the loss function to fit the our data, models are penalised for coefficient with a large magnitude (both positively or negatively large).    \n",
    "we need to choose $\\alpha$ in order to fit and predict.     \n",
    "Picking $\\alpha$ is similar to picking k in knn, which is called hyperparameter tuning.    \n",
    "$\\alpha=0$: get back OLS (can lead to overfitting)     \n",
    "Very large $\\alpha$: lead to simple model and lead to underfitting.     \n",
    "\n",
    "**Lasso Regression**:    \n",
    "Loss function isthe standard OLS plus the absolute value of each coefficient multiplied by some constant $\\alpha$:    \n",
    "\n",
    "$\\text{Loss function} = \\text{OLS loss function} + \\alpha \\sum^{n}_{i=1} |a_{i}|$   \n",
    "\n",
    "Lasso regression can be used to select import feature of a dataset.     \n",
    "This is because it tends to shrink the coefficients of less important features to be exactly 0.     \n",
    "The features whose coefficients are not shrunk to 0 are \"selected\" by the Lasso algorithm.     \n"
   ]
  },
  {
   "cell_type": "code",
   "execution_count": 27,
   "metadata": {},
   "outputs": [
    {
     "data": {
      "text/plain": [
       "0.6996938275127315"
      ]
     },
     "execution_count": 27,
     "metadata": {},
     "output_type": "execute_result"
    }
   ],
   "source": [
    "# Ridge regression\n",
    "from sklearn.linear_model import Ridge\n",
    "\n",
    "X_trian, X_test, y_train, y_test = train_test_split(X,y,test_size=0.3,random_state=42)\n",
    "#instantiate\n",
    "ridge = Ridge(alpha=0.1, normalize=True) # norm: all our variables on the same scale\n",
    "ridge.fit(X_train,y_train)\n",
    "ridge_pred = ridge.predict(X_test)\n",
    "ridge.score(X_test, y_test)"
   ]
  },
  {
   "cell_type": "code",
   "execution_count": 28,
   "metadata": {},
   "outputs": [
    {
     "data": {
      "text/plain": [
       "0.5950229535328551"
      ]
     },
     "execution_count": 28,
     "metadata": {},
     "output_type": "execute_result"
    }
   ],
   "source": [
    "# Lasso regression\n",
    "from sklearn.linear_model import Lasso\n",
    "\n",
    "X_trian, X_test, y_train, y_test = train_test_split(X,y,test_size=0.3,random_state=42)\n",
    "#instantiate\n",
    "lasso = Lasso(alpha=0.1, normalize=True) # norm: all our variables on the same scale\n",
    "lasso.fit(X_train,y_train)\n",
    "lasso_pred = lasso.predict(X_test)\n",
    "lasso.score(X_test, y_test)"
   ]
  },
  {
   "cell_type": "code",
   "execution_count": 29,
   "metadata": {},
   "outputs": [
    {
     "data": {
      "image/png": "[encoded data removed]",
      "text/plain": [
       "<Figure size 432x288 with 1 Axes>"
      ]
     },
     "metadata": {
      "needs_background": "light"
     },
     "output_type": "display_data"
    }
   ],
   "source": [
    "# Lasso regression: feature selection\n",
    "from sklearn.linear_model import Lasso\n",
    "\n",
    "# store feature names in the variable names\n",
    "names = boston.drop(\"MEDV\",axis=1).columns\n",
    "\n",
    "#instantiate regressor\n",
    "lasso = Lasso(alpha=0.1)\n",
    "\n",
    "#fit and then extract the coef attribute and store it\n",
    "lasso_coef = lasso.fit(X,y).coef_\n",
    "\n",
    "#plotting the coefficient as a function of features yields this fig\n",
    "_ = plt.plot(range(len(names)),lasso_coef)\n",
    "_ = plt.xticks(range(len(names)),names, rotation = 60)\n",
    "_ =plt.ylabel(\"Coefficients\")\n",
    "plt.show()"
   ]
  },
  {
   "cell_type": "markdown",
   "metadata": {},
   "source": [
    "## Example: Gapminder"
   ]
  },
  {
   "cell_type": "code",
   "execution_count": 30,
   "metadata": {},
   "outputs": [
    {
     "name": "stdout",
     "output_type": "stream",
     "text": [
      "Dimensions of y before reshaping: (139,)\n",
      "Dimensions of X before reshaping: (506, 13)\n",
      "Dimensions of y after reshaping: (139, 1)\n",
      "Dimensions of X after reshaping: (506, 13)\n"
     ]
    }
   ],
   "source": [
    "# Read the CSV file into a DataFrame: df\n",
    "df = pd.read_csv(\"../Machine_Learning_basics/data/gm_2008_region.csv\")\n",
    "\n",
    "# Create arrays for features and target variable\n",
    "y = df[\"life\"].values\n",
    "X_fertility = df[\"fertility\"].values\n",
    "\n",
    "# Print the dimensions of X and y before reshaping\n",
    "print(\"Dimensions of y before reshaping: {}\".format(y.shape))\n",
    "print(\"Dimensions of X before reshaping: {}\".format(X.shape))\n",
    "\n",
    "# Reshape X and y\n",
    "y = y.reshape(-1,1)\n",
    "X_fertility = X_fertility.reshape(-1,1)\n",
    "\n",
    "# Print the dimensions of X and y after reshaping\n",
    "print(\"Dimensions of y after reshaping: {}\".format(y.shape))\n",
    "print(\"Dimensions of X after reshaping: {}\".format(X.shape))\n"
   ]
  },
  {
   "cell_type": "code",
   "execution_count": 31,
   "metadata": {},
   "outputs": [
    {
     "data": {
      "text/plain": [
       "<matplotlib.axes._subplots.AxesSubplot at 0x1a2216a890>"
      ]
     },
     "execution_count": 31,
     "metadata": {},
     "output_type": "execute_result"
    },
    {
     "data": {
      "image/png": "[encoded data removed]",
      "text/plain": [
       "<Figure size 432x288 with 2 Axes>"
      ]
     },
     "metadata": {
      "needs_background": "light"
     },
     "output_type": "display_data"
    }
   ],
   "source": [
    "# correlation between features\n",
    "sns.heatmap(df.corr(), square=True, cmap='RdYlGn')"
   ]
  },
  {
   "cell_type": "code",
   "execution_count": 32,
   "metadata": {},
   "outputs": [
    {
     "name": "stdout",
     "output_type": "stream",
     "text": [
      "0.6192442167740035\n"
     ]
    },
    {
     "data": {
      "image/png": "[encoded data removed]",
      "text/plain": [
       "<Figure size 432x288 with 1 Axes>"
      ]
     },
     "metadata": {
      "needs_background": "light"
     },
     "output_type": "display_data"
    }
   ],
   "source": [
    "# Create the regressor: reg\n",
    "reg = linear_model.LinearRegression()\n",
    "\n",
    "# Create the prediction space\n",
    "prediction_space = np.linspace(min(X_fertility), max(X_fertility)).reshape(-1,1)\n",
    "\n",
    "# Fit the model to the data\n",
    "reg.fit(X_fertility,y)\n",
    "\n",
    "# Compute predictions over the prediction space: y_pred\n",
    "y_pred = reg.predict(prediction_space)\n",
    "\n",
    "# Print R^2 \n",
    "print(reg.score(X_fertility, y))\n",
    "\n",
    "# Plot regression line\n",
    "plt.plot(prediction_space, y_pred, color='black', linewidth=3)\n",
    "plt.scatter(X_fertility,y, color=\"blue\")\n",
    "plt.show()\n"
   ]
  },
  {
   "cell_type": "markdown",
   "metadata": {},
   "source": [
    "## 5. Classification metric\n",
    "\n",
    "Sometimes accuracy (fraction of correctly classified samples) might not be the best metric. e.g. a spam classification problem in which 99% of emails are real and only 1% are spam. A model that classifies all emails as real will give 99% accuracy, not very helpful.     \n",
    "\n",
    "This situation when one class is more frequent is called class imbalance, because the class of real emails contains way more instances than the class of spam. It is pretty common in practice and often we need more nuanced metrics.    \n",
    "\n",
    "Given a binary classification problem, we can draw up a 2x2 matrix called the confusion matrix.     \n",
    "\n",
    "| confusion matrix | predicted: spam | predicted: real |\n",
    "| ---------------- | ----------------|-----------------|\n",
    "|actual: spam       | True Pos (TP)  | False Neg (FN)    |\n",
    "| actual : real     | False Pos (FP) | True Neg (TN)    |      \n",
    "\n",
    "\n",
    "What's positive and negative is up to us. We can think of it as:     \n",
    "1) if it is predicted correctly, it is **True**      \n",
    "2) if it is aligned with the goal (purpose) of the programe, it is **Positive**     \n",
    "\n",
    "Some metrics we can get from the confusion matrix:     \n",
    "1) Accuracy:    $\\frac{TP + TN}{TP + TN + FP + FN}$     \n",
    "2) Precision (positive predictive value or PPV):    $\\frac{TP}{TP+FP}$       \n",
    "3) Recall (sensitivity hit rate or true positive rate):    $\\frac{TP}{TP+FN}$       \n",
    "4) Fa score (harmonic mean of precision and recall):   $2 \\times \\frac{\\text{precision}\\times\\text{recall}}{\\text{precision}+\\text{recall}}$       \n",
    "5) High precision means that our classifier had a low false positive rate, i.e. not many real emails were predicated being spam.     \n",
    "\n",
    "\n",
    "\n"
   ]
  },
  {
   "cell_type": "code",
   "execution_count": 41,
   "metadata": {},
   "outputs": [
    {
     "name": "stdout",
     "output_type": "stream",
     "text": [
      "[[15  0  0]\n",
      " [ 0 14  1]\n",
      " [ 0  1 14]]\n",
      "              precision    recall  f1-score   support\n",
      "\n",
      "           0       1.00      1.00      1.00        15\n",
      "           1       0.93      0.93      0.93        15\n",
      "           2       0.93      0.93      0.93        15\n",
      "\n",
      "    accuracy                           0.96        45\n",
      "   macro avg       0.96      0.96      0.96        45\n",
      "weighted avg       0.96      0.96      0.96        45\n",
      "\n"
     ]
    }
   ],
   "source": [
    "# e.g. the Iris data set\n",
    "# note that this has 3 targets, should be binary , but the syntax is the same\n",
    "from sklearn.metrics import classification_report\n",
    "from sklearn.metrics import confusion_matrix\n",
    "X = iris[\"data\"] # already a np array, if its df then use .values to convert to array. df will also works\n",
    "y = iris[\"target\"]\n",
    "X_train, X_test, y_train, y_test = train_test_split(X, y, test_size=0.3,random_state=21,stratify=y)\n",
    "\n",
    "knn = KNeighborsClassifier(n_neighbors=8)\n",
    "knn.fit(X_train, y_train)\n",
    "y_pred = knn.predict(X_test)\n",
    "\n",
    "#confusion matrix\n",
    "print(confusion_matrix(y_test,y_pred)) #true label, prediction label\n",
    "\n",
    "print(classification_report(y_test, y_pred))"
   ]
  },
  {
   "cell_type": "markdown",
   "metadata": {},
   "source": [
    "The support gives the number of samples of the true response that lie in that class - so in the video example, the support was the number of Republicans or Democrats in the test set on which the classification report was computed. The precision, recall, and f1-score columns, then, gave the respective metrics for that particular class.     \n",
    "\n",
    "Here, you'll work with the PIMA Indians dataset obtained from the UCI Machine Learning Repository. The goal is to predict whether or not a given female patient will contract diabetes based on features such as BMI, age, and number of pregnancies. Therefore, it is a binary classification problem. A target value of 0 indicates that the patient does not have diabetes, while a value of 1 indicates that the patient does have diabetes"
   ]
  },
  {
   "cell_type": "code",
   "execution_count": 42,
   "metadata": {},
   "outputs": [
    {
     "name": "stdout",
     "output_type": "stream",
     "text": [
      "[[176  30]\n",
      " [ 56  46]]\n",
      "              precision    recall  f1-score   support\n",
      "\n",
      "           0       0.76      0.85      0.80       206\n",
      "           1       0.61      0.45      0.52       102\n",
      "\n",
      "    accuracy                           0.72       308\n",
      "   macro avg       0.68      0.65      0.66       308\n",
      "weighted avg       0.71      0.72      0.71       308\n",
      "\n"
     ]
    }
   ],
   "source": [
    "df_diabetes = pd.read_csv(\"../Machine_Learning_basics/data/diabetes.csv\")\n",
    "X = df_diabetes.drop(\"diabetes\", axis=1)\n",
    "y = df_diabetes[\"diabetes\"]\n",
    "\n",
    "# Create training and test set\n",
    "X_train, X_test, y_train, y_test = train_test_split(X,y,test_size=0.4, random_state=42)\n",
    "\n",
    "# Instantiate a k-NN classifier: knn\n",
    "knn = KNeighborsClassifier(n_neighbors=6)\n",
    "\n",
    "# Fit the classifier to the training data\n",
    "knn.fit(X_train,y_train)\n",
    "\n",
    "# Predict the labels of the test data: y_pred\n",
    "y_pred = knn.predict(X_test)\n",
    "\n",
    "# Generate the confusion matrix and classification report\n",
    "print(confusion_matrix(y_test, y_pred))\n",
    "print(classification_report(y_test, y_pred))"
   ]
  },
  {
   "cell_type": "markdown",
   "metadata": {},
   "source": [
    "## 6. Logistic Regression (log reg) (supervised)\n",
    "\n",
    "Despite its name, logistic regression is used in classification problems, **NOT** regression problems.     \n",
    "For binary classification, that is, when we have two possibile labels for the target variable.     \n",
    "Given one feature, logistic regression will output a probability, p, with respect to the target variable.     \n",
    "if p > 0.5: we label the data as 1      \n",
    "if p < 0.5: we label the data as 0     \n",
    "Note that log reg produces a linear decision boundary.    \n",
    "By default, log reg threshold = 0.5     \n",
    "\n",
    "When the threshold = 0, the model predicts 1 for all, which means that both True and False positive rates are 1.   \n",
    "When the threshold = 1, the model predicts 0 for all, which means that both True and False positive rates are 0.     \n",
    "\n",
    "If we vary the threshold between these 2 extremes, we a series of different false positive and true positive rates.    \n",
    "If we try all possible threshold is called the Receiver Operating Characteristic curve or ROC curve.     \n",
    "\n"
   ]
  },
  {
   "cell_type": "code",
   "execution_count": 46,
   "metadata": {},
   "outputs": [
    {
     "name": "stdout",
     "output_type": "stream",
     "text": [
      "[[174  32]\n",
      " [ 36  66]]\n",
      "              precision    recall  f1-score   support\n",
      "\n",
      "           0       0.83      0.84      0.84       206\n",
      "           1       0.67      0.65      0.66       102\n",
      "\n",
      "    accuracy                           0.78       308\n",
      "   macro avg       0.75      0.75      0.75       308\n",
      "weighted avg       0.78      0.78      0.78       308\n",
      "\n"
     ]
    },
    {
     "name": "stderr",
     "output_type": "stream",
     "text": [
      "/Users/XavierTang/anaconda3/lib/python3.7/site-packages/sklearn/linear_model/logistic.py:432: FutureWarning: Default solver will be changed to 'lbfgs' in 0.22. Specify a solver to silence this warning.\n",
      "  FutureWarning)\n"
     ]
    },
    {
     "data": {
      "image/png": "[encoded data removed]",
      "text/plain": [
       "<Figure size 432x288 with 1 Axes>"
      ]
     },
     "metadata": {
      "needs_background": "light"
     },
     "output_type": "display_data"
    }
   ],
   "source": [
    "#e.g.\n",
    "from sklearn.linear_model import LogisticRegression\n",
    "\n",
    "#instantiate the classifier\n",
    "logreg = LogisticRegression()\n",
    "\n",
    "X_train, X_test, y_train, y_test = train_test_split(X,y,test_size=0.4,random_state=42)\n",
    "\n",
    "logreg.fit(X_train, y_train)\n",
    "#default p=0.5, this shows the binary prediction\n",
    "y_pred = logreg.predict(X_test)\n",
    "\n",
    "print(confusion_matrix(y_test, y_pred))\n",
    "print(classification_report(y_test, y_pred))\n",
    "# ROC curve\n",
    "from sklearn.metrics import roc_curve\n",
    "\n",
    "# use predict_proba method to the model and pass the test data\n",
    "# predict_proba returns an array with 2 col\n",
    "# each col contains the probability for the respective target values\n",
    "# 1st col is the probability of the predicted labels being 0\n",
    "# 2nd col is the probability of the predicted labels being 1\n",
    "y_pred_prob = logreg.predict_proba(X_test)[:,1]\n",
    "\n",
    "# first arg is given by actual labels, 2nd arg is by predicted probability\n",
    "# unpack: false positive rate (fpr), true positive rate (tpr) and threshold\n",
    "# use predicted probability of the model assigin a value of 1 to the observation in question\n",
    "# to compute the ROC we do not just want the prediction on the test set, but we want the probability that our\n",
    "# log reg model outputs b4 using a threshold to predict the label.\n",
    "fpr, tpr, thresholds = roc_curve(y_test, y_pred_prob)\n",
    "\n",
    "#plot ROC curve\n",
    "plt.plot([0, 1], [0, 1], 'k--')\n",
    "plt.plot(fpr,tpr,label=\"Logistic Regression\")\n",
    "plt.xlabel(\"False Positive Rate\")\n",
    "plt.ylabel(\"True Positive Rate\")\n",
    "plt.title(\"Logistic Regression ROC curve\")\n",
    "plt.show()"
   ]
  },
  {
   "cell_type": "markdown",
   "metadata": {},
   "source": [
    "### 6.1 Area under the ROC curve\n",
    "\n",
    "Given the ROC curve, can we extract a metric of interest ?    \n",
    "\n",
    "The larger area under the ROC curve = better model     \n",
    "\n",
    "If we have a model which produced an ROC curve that had a single point at 1,0 (the upper left corner), representing a true positive of 1 and a false postive rate of 0, this would be a great model.     \n",
    "\n",
    "Therefore, the area under the ROC curve, or AUC is another popular metric for classification models.    \n",
    "\n"
   ]
  },
  {
   "cell_type": "code",
   "execution_count": 49,
   "metadata": {},
   "outputs": [
    {
     "name": "stderr",
     "output_type": "stream",
     "text": [
      "/Users/XavierTang/anaconda3/lib/python3.7/site-packages/sklearn/linear_model/logistic.py:432: FutureWarning: Default solver will be changed to 'lbfgs' in 0.22. Specify a solver to silence this warning.\n",
      "  FutureWarning)\n"
     ]
    },
    {
     "data": {
      "text/plain": [
       "0.8268608414239482"
      ]
     },
     "execution_count": 49,
     "metadata": {},
     "output_type": "execute_result"
    }
   ],
   "source": [
    "from sklearn.metrics import roc_auc_score\n",
    "from sklearn.metrics import roc_curve\n",
    "\n",
    "logreg = LogisticRegression()\n",
    "\n",
    "X_train, X_test, y_train, y_test = train_test_split(X,y,test_size=0.4,random_state=42)\n",
    "\n",
    "logreg.fit(X_train, y_train)\n",
    "\n",
    "y_pred_prob = logreg.predict_proba(X_test)[:,1]\n",
    "\n",
    "roc_auc_score(y_test,y_pred_prob)"
   ]
  },
  {
   "cell_type": "code",
   "execution_count": 50,
   "metadata": {},
   "outputs": [
    {
     "name": "stdout",
     "output_type": "stream",
     "text": [
      "[0.7987037  0.80777778 0.81944444 0.86622642 0.85037736]\n"
     ]
    },
    {
     "name": "stderr",
     "output_type": "stream",
     "text": [
      "/Users/XavierTang/anaconda3/lib/python3.7/site-packages/sklearn/linear_model/logistic.py:432: FutureWarning: Default solver will be changed to 'lbfgs' in 0.22. Specify a solver to silence this warning.\n",
      "  FutureWarning)\n",
      "/Users/XavierTang/anaconda3/lib/python3.7/site-packages/sklearn/linear_model/logistic.py:432: FutureWarning: Default solver will be changed to 'lbfgs' in 0.22. Specify a solver to silence this warning.\n",
      "  FutureWarning)\n",
      "/Users/XavierTang/anaconda3/lib/python3.7/site-packages/sklearn/linear_model/logistic.py:432: FutureWarning: Default solver will be changed to 'lbfgs' in 0.22. Specify a solver to silence this warning.\n",
      "  FutureWarning)\n",
      "/Users/XavierTang/anaconda3/lib/python3.7/site-packages/sklearn/linear_model/logistic.py:432: FutureWarning: Default solver will be changed to 'lbfgs' in 0.22. Specify a solver to silence this warning.\n",
      "  FutureWarning)\n",
      "/Users/XavierTang/anaconda3/lib/python3.7/site-packages/sklearn/linear_model/logistic.py:432: FutureWarning: Default solver will be changed to 'lbfgs' in 0.22. Specify a solver to silence this warning.\n",
      "  FutureWarning)\n"
     ]
    }
   ],
   "source": [
    "#AUC using cross-validation\n",
    "from sklearn.model_selection import cross_val_score\n",
    "\n",
    "cv_scores = cross_val_score(logreg, X, y, cv=5, scoring = \"roc_auc\")\n",
    "\n",
    "print(cv_scores)"
   ]
  },
  {
   "cell_type": "markdown",
   "metadata": {},
   "source": [
    "## 7. Hyperparameter tuning\n",
    "\n",
    "Linear regression: choosing parameters (the algorithms find the best a and b)     \n",
    "Ridge/lasso regression: choosing alpha      \n",
    "k-Nearest Neighbours: choosing n_neighbors      \n",
    "\n",
    "Such parameters (k and alpha), ones that need to be specified before fitting a model, are called **hyperparameters**.     \n",
    "These are the parameters that cannot be explicitly learned by fitting the model.     \n",
    "\n",
    "A fundamental key for building a successful mode -> choosing the correct hyperparameter:     \n",
    "1) try a bunch of different hyperparamter values      \n",
    "2) fit all of them separately      \n",
    "3) see how well each perform    \n",
    "4) choose the best one     \n",
    "This is called hyperparameter tuning.     \n",
    "\n",
    "It is essential to use cross-validation as using tran_test_split alone would risk overfitting the hyperparameter to the test set.     \n",
    "\n",
    "**Grid search cross-validation**:       \n",
    "\n",
    "If we have two hyperparameters, C and alpha, the grid of values to test could look like (x-axis is alpha, y-axis is C):     \n",
    "\n",
    "|0.5 | 0.701 | 0.703 | 0.697 | 0.696|\n",
    "| ----| ---- | ------ | ----- | ----|\n",
    "|0.4| 0.699 | 0.702| 0.698 | 0.702 |\n",
    "|0.3 | 0.721 | 0.726 | 0.713 | 0.701 |\n",
    "|0.2 | 0.696 | 0.702 | 0.704 | 0.701|\n",
    "|0.1 | 0.698 | 0.692 | 0.688 | 0.675 |\n",
    "|    | 0.1 | 0.2 | 0.3| 0.4 |    \n",
    "\n",
    "For each data point, we perform k-fold CV for the 2 hyperparamters and choose the best (in this case C = 0.3, alpha = 0.2 as it gives the highest value of R square)      \n",
    "\n",
    "**Randomized search cross-validation**:     \n",
    " \n",
    "GridSearchCV can be computationally expensive, especially if you are searching over a large hyperparameter space and dealing with multiple hyperparameters. A solution to this is to use RandomizedSearchCV, in which not all hyperparameter values are tried out. Instead, a fixed number of hyperparameter settings is sampled from specified probability distributions. Randomized search will never outperform GridSearchCV, but it saves on computation time."
   ]
  },
  {
   "cell_type": "code",
   "execution_count": 53,
   "metadata": {},
   "outputs": [
    {
     "name": "stdout",
     "output_type": "stream",
     "text": [
      "{'n_neighbors': 6}\n",
      "0.98\n"
     ]
    }
   ],
   "source": [
    "from sklearn.model_selection import GridSearchCV\n",
    "\n",
    "#specifies the hyperparameter\n",
    "# if there is more than 1 hyperparameter, all possible combinaiton will be tried\n",
    "param_grid = {\"n_neighbors\": np.arange(1,50)}\n",
    "\n",
    "knn = KNeighborsClassifier()\n",
    "\n",
    "# return a GridSearch object (GridsearchCV is a class)\n",
    "knn_cv = GridSearchCV(knn, param_grid, cv=5)\n",
    "\n",
    "#fit to data and this fit performs the actual grid search in place\n",
    "knn_cv.fit(iris[\"data\"],iris[\"target\"])\n",
    "\n",
    "#attribute\n",
    "print(knn_cv.best_params_)\n",
    "\n",
    "#best mean best validation score over the folds\n",
    "print(knn_cv.best_score_)"
   ]
  },
  {
   "cell_type": "markdown",
   "metadata": {},
   "source": [
    "Like the alpha parameter of lasso and ridge regularization that you saw earlier, logistic regression also has a regularization parameter: C. C controls the inverse of the regularization strength, and this is what you will tune in this exercise. A large C can lead to an overfit model, while a small C can lead to an underfit model."
   ]
  },
  {
   "cell_type": "code",
   "execution_count": 54,
   "metadata": {
    "collapsed": true,
    "jupyter": {
     "outputs_hidden": true
    }
   },
   "outputs": [
    {
     "name": "stderr",
     "output_type": "stream",
     "text": [
      "/Users/XavierTang/anaconda3/lib/python3.7/site-packages/sklearn/linear_model/logistic.py:432: FutureWarning: Default solver will be changed to 'lbfgs' in 0.22. Specify a solver to silence this warning.\n",
      "  FutureWarning)\n",
      "/Users/XavierTang/anaconda3/lib/python3.7/site-packages/sklearn/linear_model/logistic.py:432: FutureWarning: Default solver will be changed to 'lbfgs' in 0.22. Specify a solver to silence this warning.\n",
      "  FutureWarning)\n",
      "/Users/XavierTang/anaconda3/lib/python3.7/site-packages/sklearn/linear_model/logistic.py:432: FutureWarning: Default solver will be changed to 'lbfgs' in 0.22. Specify a solver to silence this warning.\n",
      "  FutureWarning)\n",
      "/Users/XavierTang/anaconda3/lib/python3.7/site-packages/sklearn/linear_model/logistic.py:432: FutureWarning: Default solver will be changed to 'lbfgs' in 0.22. Specify a solver to silence this warning.\n",
      "  FutureWarning)\n",
      "/Users/XavierTang/anaconda3/lib/python3.7/site-packages/sklearn/linear_model/logistic.py:432: FutureWarning: Default solver will be changed to 'lbfgs' in 0.22. Specify a solver to silence this warning.\n",
      "  FutureWarning)\n",
      "/Users/XavierTang/anaconda3/lib/python3.7/site-packages/sklearn/linear_model/logistic.py:432: FutureWarning: Default solver will be changed to 'lbfgs' in 0.22. Specify a solver to silence this warning.\n",
      "  FutureWarning)\n",
      "/Users/XavierTang/anaconda3/lib/python3.7/site-packages/sklearn/linear_model/logistic.py:432: FutureWarning: Default solver will be changed to 'lbfgs' in 0.22. Specify a solver to silence this warning.\n",
      "  FutureWarning)\n",
      "/Users/XavierTang/anaconda3/lib/python3.7/site-packages/sklearn/linear_model/logistic.py:432: FutureWarning: Default solver will be changed to 'lbfgs' in 0.22. Specify a solver to silence this warning.\n",
      "  FutureWarning)\n",
      "/Users/XavierTang/anaconda3/lib/python3.7/site-packages/sklearn/linear_model/logistic.py:432: FutureWarning: Default solver will be changed to 'lbfgs' in 0.22. Specify a solver to silence this warning.\n",
      "  FutureWarning)\n",
      "/Users/XavierTang/anaconda3/lib/python3.7/site-packages/sklearn/linear_model/logistic.py:432: FutureWarning: Default solver will be changed to 'lbfgs' in 0.22. Specify a solver to silence this warning.\n",
      "  FutureWarning)\n",
      "/Users/XavierTang/anaconda3/lib/python3.7/site-packages/sklearn/linear_model/logistic.py:432: FutureWarning: Default solver will be changed to 'lbfgs' in 0.22. Specify a solver to silence this warning.\n",
      "  FutureWarning)\n",
      "/Users/XavierTang/anaconda3/lib/python3.7/site-packages/sklearn/linear_model/logistic.py:432: FutureWarning: Default solver will be changed to 'lbfgs' in 0.22. Specify a solver to silence this warning.\n",
      "  FutureWarning)\n",
      "/Users/XavierTang/anaconda3/lib/python3.7/site-packages/sklearn/linear_model/logistic.py:432: FutureWarning: Default solver will be changed to 'lbfgs' in 0.22. Specify a solver to silence this warning.\n",
      "  FutureWarning)\n",
      "/Users/XavierTang/anaconda3/lib/python3.7/site-packages/sklearn/linear_model/logistic.py:432: FutureWarning: Default solver will be changed to 'lbfgs' in 0.22. Specify a solver to silence this warning.\n",
      "  FutureWarning)\n",
      "/Users/XavierTang/anaconda3/lib/python3.7/site-packages/sklearn/linear_model/logistic.py:432: FutureWarning: Default solver will be changed to 'lbfgs' in 0.22. Specify a solver to silence this warning.\n",
      "  FutureWarning)\n",
      "/Users/XavierTang/anaconda3/lib/python3.7/site-packages/sklearn/linear_model/logistic.py:432: FutureWarning: Default solver will be changed to 'lbfgs' in 0.22. Specify a solver to silence this warning.\n",
      "  FutureWarning)\n",
      "/Users/XavierTang/anaconda3/lib/python3.7/site-packages/sklearn/linear_model/logistic.py:432: FutureWarning: Default solver will be changed to 'lbfgs' in 0.22. Specify a solver to silence this warning.\n",
      "  FutureWarning)\n",
      "/Users/XavierTang/anaconda3/lib/python3.7/site-packages/sklearn/linear_model/logistic.py:432: FutureWarning: Default solver will be changed to 'lbfgs' in 0.22. Specify a solver to silence this warning.\n",
      "  FutureWarning)\n",
      "/Users/XavierTang/anaconda3/lib/python3.7/site-packages/sklearn/linear_model/logistic.py:432: FutureWarning: Default solver will be changed to 'lbfgs' in 0.22. Specify a solver to silence this warning.\n",
      "  FutureWarning)\n",
      "/Users/XavierTang/anaconda3/lib/python3.7/site-packages/sklearn/linear_model/logistic.py:432: FutureWarning: Default solver will be changed to 'lbfgs' in 0.22. Specify a solver to silence this warning.\n",
      "  FutureWarning)\n",
      "/Users/XavierTang/anaconda3/lib/python3.7/site-packages/sklearn/linear_model/logistic.py:432: FutureWarning: Default solver will be changed to 'lbfgs' in 0.22. Specify a solver to silence this warning.\n",
      "  FutureWarning)\n",
      "/Users/XavierTang/anaconda3/lib/python3.7/site-packages/sklearn/linear_model/logistic.py:432: FutureWarning: Default solver will be changed to 'lbfgs' in 0.22. Specify a solver to silence this warning.\n",
      "  FutureWarning)\n",
      "/Users/XavierTang/anaconda3/lib/python3.7/site-packages/sklearn/linear_model/logistic.py:432: FutureWarning: Default solver will be changed to 'lbfgs' in 0.22. Specify a solver to silence this warning.\n",
      "  FutureWarning)\n",
      "/Users/XavierTang/anaconda3/lib/python3.7/site-packages/sklearn/linear_model/logistic.py:432: FutureWarning: Default solver will be changed to 'lbfgs' in 0.22. Specify a solver to silence this warning.\n",
      "  FutureWarning)\n",
      "/Users/XavierTang/anaconda3/lib/python3.7/site-packages/sklearn/linear_model/logistic.py:432: FutureWarning: Default solver will be changed to 'lbfgs' in 0.22. Specify a solver to silence this warning.\n",
      "  FutureWarning)\n",
      "/Users/XavierTang/anaconda3/lib/python3.7/site-packages/sklearn/linear_model/logistic.py:432: FutureWarning: Default solver will be changed to 'lbfgs' in 0.22. Specify a solver to silence this warning.\n",
      "  FutureWarning)\n",
      "/Users/XavierTang/anaconda3/lib/python3.7/site-packages/sklearn/linear_model/logistic.py:432: FutureWarning: Default solver will be changed to 'lbfgs' in 0.22. Specify a solver to silence this warning.\n",
      "  FutureWarning)\n",
      "/Users/XavierTang/anaconda3/lib/python3.7/site-packages/sklearn/linear_model/logistic.py:432: FutureWarning: Default solver will be changed to 'lbfgs' in 0.22. Specify a solver to silence this warning.\n",
      "  FutureWarning)\n",
      "/Users/XavierTang/anaconda3/lib/python3.7/site-packages/sklearn/linear_model/logistic.py:432: FutureWarning: Default solver will be changed to 'lbfgs' in 0.22. Specify a solver to silence this warning.\n",
      "  FutureWarning)\n",
      "/Users/XavierTang/anaconda3/lib/python3.7/site-packages/sklearn/linear_model/logistic.py:432: FutureWarning: Default solver will be changed to 'lbfgs' in 0.22. Specify a solver to silence this warning.\n",
      "  FutureWarning)\n",
      "/Users/XavierTang/anaconda3/lib/python3.7/site-packages/sklearn/linear_model/logistic.py:432: FutureWarning: Default solver will be changed to 'lbfgs' in 0.22. Specify a solver to silence this warning.\n",
      "  FutureWarning)\n",
      "/Users/XavierTang/anaconda3/lib/python3.7/site-packages/sklearn/linear_model/logistic.py:432: FutureWarning: Default solver will be changed to 'lbfgs' in 0.22. Specify a solver to silence this warning.\n",
      "  FutureWarning)\n",
      "/Users/XavierTang/anaconda3/lib/python3.7/site-packages/sklearn/linear_model/logistic.py:432: FutureWarning: Default solver will be changed to 'lbfgs' in 0.22. Specify a solver to silence this warning.\n",
      "  FutureWarning)\n",
      "/Users/XavierTang/anaconda3/lib/python3.7/site-packages/sklearn/linear_model/logistic.py:432: FutureWarning: Default solver will be changed to 'lbfgs' in 0.22. Specify a solver to silence this warning.\n",
      "  FutureWarning)\n",
      "/Users/XavierTang/anaconda3/lib/python3.7/site-packages/sklearn/linear_model/logistic.py:432: FutureWarning: Default solver will be changed to 'lbfgs' in 0.22. Specify a solver to silence this warning.\n",
      "  FutureWarning)\n",
      "/Users/XavierTang/anaconda3/lib/python3.7/site-packages/sklearn/linear_model/logistic.py:432: FutureWarning: Default solver will be changed to 'lbfgs' in 0.22. Specify a solver to silence this warning.\n",
      "  FutureWarning)\n",
      "/Users/XavierTang/anaconda3/lib/python3.7/site-packages/sklearn/linear_model/logistic.py:432: FutureWarning: Default solver will be changed to 'lbfgs' in 0.22. Specify a solver to silence this warning.\n",
      "  FutureWarning)\n",
      "/Users/XavierTang/anaconda3/lib/python3.7/site-packages/sklearn/linear_model/logistic.py:432: FutureWarning: Default solver will be changed to 'lbfgs' in 0.22. Specify a solver to silence this warning.\n",
      "  FutureWarning)\n",
      "/Users/XavierTang/anaconda3/lib/python3.7/site-packages/sklearn/linear_model/logistic.py:432: FutureWarning: Default solver will be changed to 'lbfgs' in 0.22. Specify a solver to silence this warning.\n",
      "  FutureWarning)\n",
      "/Users/XavierTang/anaconda3/lib/python3.7/site-packages/sklearn/linear_model/logistic.py:432: FutureWarning: Default solver will be changed to 'lbfgs' in 0.22. Specify a solver to silence this warning.\n",
      "  FutureWarning)\n",
      "/Users/XavierTang/anaconda3/lib/python3.7/site-packages/sklearn/linear_model/logistic.py:432: FutureWarning: Default solver will be changed to 'lbfgs' in 0.22. Specify a solver to silence this warning.\n",
      "  FutureWarning)\n",
      "/Users/XavierTang/anaconda3/lib/python3.7/site-packages/sklearn/linear_model/logistic.py:432: FutureWarning: Default solver will be changed to 'lbfgs' in 0.22. Specify a solver to silence this warning.\n",
      "  FutureWarning)\n",
      "/Users/XavierTang/anaconda3/lib/python3.7/site-packages/sklearn/linear_model/logistic.py:432: FutureWarning: Default solver will be changed to 'lbfgs' in 0.22. Specify a solver to silence this warning.\n",
      "  FutureWarning)\n",
      "/Users/XavierTang/anaconda3/lib/python3.7/site-packages/sklearn/linear_model/logistic.py:432: FutureWarning: Default solver will be changed to 'lbfgs' in 0.22. Specify a solver to silence this warning.\n",
      "  FutureWarning)\n",
      "/Users/XavierTang/anaconda3/lib/python3.7/site-packages/sklearn/linear_model/logistic.py:432: FutureWarning: Default solver will be changed to 'lbfgs' in 0.22. Specify a solver to silence this warning.\n",
      "  FutureWarning)\n",
      "/Users/XavierTang/anaconda3/lib/python3.7/site-packages/sklearn/linear_model/logistic.py:432: FutureWarning: Default solver will be changed to 'lbfgs' in 0.22. Specify a solver to silence this warning.\n",
      "  FutureWarning)\n",
      "/Users/XavierTang/anaconda3/lib/python3.7/site-packages/sklearn/linear_model/logistic.py:432: FutureWarning: Default solver will be changed to 'lbfgs' in 0.22. Specify a solver to silence this warning.\n",
      "  FutureWarning)\n",
      "/Users/XavierTang/anaconda3/lib/python3.7/site-packages/sklearn/linear_model/logistic.py:432: FutureWarning: Default solver will be changed to 'lbfgs' in 0.22. Specify a solver to silence this warning.\n",
      "  FutureWarning)\n",
      "/Users/XavierTang/anaconda3/lib/python3.7/site-packages/sklearn/linear_model/logistic.py:432: FutureWarning: Default solver will be changed to 'lbfgs' in 0.22. Specify a solver to silence this warning.\n",
      "  FutureWarning)\n",
      "/Users/XavierTang/anaconda3/lib/python3.7/site-packages/sklearn/linear_model/logistic.py:432: FutureWarning: Default solver will be changed to 'lbfgs' in 0.22. Specify a solver to silence this warning.\n",
      "  FutureWarning)\n",
      "/Users/XavierTang/anaconda3/lib/python3.7/site-packages/sklearn/linear_model/logistic.py:432: FutureWarning: Default solver will be changed to 'lbfgs' in 0.22. Specify a solver to silence this warning.\n",
      "  FutureWarning)\n",
      "/Users/XavierTang/anaconda3/lib/python3.7/site-packages/sklearn/linear_model/logistic.py:432: FutureWarning: Default solver will be changed to 'lbfgs' in 0.22. Specify a solver to silence this warning.\n",
      "  FutureWarning)\n",
      "/Users/XavierTang/anaconda3/lib/python3.7/site-packages/sklearn/linear_model/logistic.py:432: FutureWarning: Default solver will be changed to 'lbfgs' in 0.22. Specify a solver to silence this warning.\n",
      "  FutureWarning)\n",
      "/Users/XavierTang/anaconda3/lib/python3.7/site-packages/sklearn/linear_model/logistic.py:432: FutureWarning: Default solver will be changed to 'lbfgs' in 0.22. Specify a solver to silence this warning.\n",
      "  FutureWarning)\n",
      "/Users/XavierTang/anaconda3/lib/python3.7/site-packages/sklearn/linear_model/logistic.py:432: FutureWarning: Default solver will be changed to 'lbfgs' in 0.22. Specify a solver to silence this warning.\n",
      "  FutureWarning)\n",
      "/Users/XavierTang/anaconda3/lib/python3.7/site-packages/sklearn/linear_model/logistic.py:432: FutureWarning: Default solver will be changed to 'lbfgs' in 0.22. Specify a solver to silence this warning.\n",
      "  FutureWarning)\n",
      "/Users/XavierTang/anaconda3/lib/python3.7/site-packages/sklearn/linear_model/logistic.py:432: FutureWarning: Default solver will be changed to 'lbfgs' in 0.22. Specify a solver to silence this warning.\n",
      "  FutureWarning)\n",
      "/Users/XavierTang/anaconda3/lib/python3.7/site-packages/sklearn/linear_model/logistic.py:432: FutureWarning: Default solver will be changed to 'lbfgs' in 0.22. Specify a solver to silence this warning.\n",
      "  FutureWarning)\n",
      "/Users/XavierTang/anaconda3/lib/python3.7/site-packages/sklearn/linear_model/logistic.py:432: FutureWarning: Default solver will be changed to 'lbfgs' in 0.22. Specify a solver to silence this warning.\n",
      "  FutureWarning)\n",
      "/Users/XavierTang/anaconda3/lib/python3.7/site-packages/sklearn/linear_model/logistic.py:432: FutureWarning: Default solver will be changed to 'lbfgs' in 0.22. Specify a solver to silence this warning.\n",
      "  FutureWarning)\n",
      "/Users/XavierTang/anaconda3/lib/python3.7/site-packages/sklearn/linear_model/logistic.py:432: FutureWarning: Default solver will be changed to 'lbfgs' in 0.22. Specify a solver to silence this warning.\n",
      "  FutureWarning)\n",
      "/Users/XavierTang/anaconda3/lib/python3.7/site-packages/sklearn/linear_model/logistic.py:432: FutureWarning: Default solver will be changed to 'lbfgs' in 0.22. Specify a solver to silence this warning.\n",
      "  FutureWarning)\n",
      "/Users/XavierTang/anaconda3/lib/python3.7/site-packages/sklearn/linear_model/logistic.py:432: FutureWarning: Default solver will be changed to 'lbfgs' in 0.22. Specify a solver to silence this warning.\n",
      "  FutureWarning)\n",
      "/Users/XavierTang/anaconda3/lib/python3.7/site-packages/sklearn/linear_model/logistic.py:432: FutureWarning: Default solver will be changed to 'lbfgs' in 0.22. Specify a solver to silence this warning.\n",
      "  FutureWarning)\n"
     ]
    },
    {
     "name": "stdout",
     "output_type": "stream",
     "text": [
      "Tuned Logistic Regression Parameters: {'C': 268.2695795279727}\n",
      "Best score is 0.7708333333333334\n"
     ]
    },
    {
     "name": "stderr",
     "output_type": "stream",
     "text": [
      "/Users/XavierTang/anaconda3/lib/python3.7/site-packages/sklearn/linear_model/logistic.py:432: FutureWarning: Default solver will be changed to 'lbfgs' in 0.22. Specify a solver to silence this warning.\n",
      "  FutureWarning)\n",
      "/Users/XavierTang/anaconda3/lib/python3.7/site-packages/sklearn/linear_model/logistic.py:432: FutureWarning: Default solver will be changed to 'lbfgs' in 0.22. Specify a solver to silence this warning.\n",
      "  FutureWarning)\n",
      "/Users/XavierTang/anaconda3/lib/python3.7/site-packages/sklearn/linear_model/logistic.py:432: FutureWarning: Default solver will be changed to 'lbfgs' in 0.22. Specify a solver to silence this warning.\n",
      "  FutureWarning)\n",
      "/Users/XavierTang/anaconda3/lib/python3.7/site-packages/sklearn/linear_model/logistic.py:432: FutureWarning: Default solver will be changed to 'lbfgs' in 0.22. Specify a solver to silence this warning.\n",
      "  FutureWarning)\n",
      "/Users/XavierTang/anaconda3/lib/python3.7/site-packages/sklearn/linear_model/logistic.py:432: FutureWarning: Default solver will be changed to 'lbfgs' in 0.22. Specify a solver to silence this warning.\n",
      "  FutureWarning)\n",
      "/Users/XavierTang/anaconda3/lib/python3.7/site-packages/sklearn/linear_model/logistic.py:432: FutureWarning: Default solver will be changed to 'lbfgs' in 0.22. Specify a solver to silence this warning.\n",
      "  FutureWarning)\n",
      "/Users/XavierTang/anaconda3/lib/python3.7/site-packages/sklearn/linear_model/logistic.py:432: FutureWarning: Default solver will be changed to 'lbfgs' in 0.22. Specify a solver to silence this warning.\n",
      "  FutureWarning)\n",
      "/Users/XavierTang/anaconda3/lib/python3.7/site-packages/sklearn/linear_model/logistic.py:432: FutureWarning: Default solver will be changed to 'lbfgs' in 0.22. Specify a solver to silence this warning.\n",
      "  FutureWarning)\n",
      "/Users/XavierTang/anaconda3/lib/python3.7/site-packages/sklearn/linear_model/logistic.py:432: FutureWarning: Default solver will be changed to 'lbfgs' in 0.22. Specify a solver to silence this warning.\n",
      "  FutureWarning)\n",
      "/Users/XavierTang/anaconda3/lib/python3.7/site-packages/sklearn/linear_model/logistic.py:432: FutureWarning: Default solver will be changed to 'lbfgs' in 0.22. Specify a solver to silence this warning.\n",
      "  FutureWarning)\n",
      "/Users/XavierTang/anaconda3/lib/python3.7/site-packages/sklearn/linear_model/logistic.py:432: FutureWarning: Default solver will be changed to 'lbfgs' in 0.22. Specify a solver to silence this warning.\n",
      "  FutureWarning)\n",
      "/Users/XavierTang/anaconda3/lib/python3.7/site-packages/sklearn/linear_model/logistic.py:432: FutureWarning: Default solver will be changed to 'lbfgs' in 0.22. Specify a solver to silence this warning.\n",
      "  FutureWarning)\n"
     ]
    }
   ],
   "source": [
    "df_diabetes = pd.read_csv(\"../Machine_Learning_basics/data/diabetes.csv\")\n",
    "X = df_diabetes.drop(\"diabetes\", axis=1)\n",
    "y = df_diabetes[\"diabetes\"]\n",
    "\n",
    "# Import necessary modules\n",
    "from sklearn.linear_model import LogisticRegression\n",
    "from sklearn.model_selection import GridSearchCV\n",
    "\n",
    "# Setup the hyperparameter grid\n",
    "c_space = np.logspace(-5, 8, 15)\n",
    "param_grid = {'C': c_space}\n",
    "\n",
    "# Instantiate a logistic regression classifier: logreg\n",
    "logreg = LogisticRegression()\n",
    "\n",
    "# Instantiate the GridSearchCV object: logreg_cv\n",
    "logreg_cv = GridSearchCV(logreg, param_grid, cv=5)\n",
    "\n",
    "# Fit it to the data\n",
    "logreg_cv.fit(X,y)\n",
    "\n",
    "# Print the tuned parameters and score\n",
    "print(\"Tuned Logistic Regression Parameters: {}\".format(logreg_cv.best_params_)) \n",
    "print(\"Best score is {}\".format(logreg_cv.best_score_))\n"
   ]
  },
  {
   "cell_type": "markdown",
   "metadata": {},
   "source": [
    "GridSearchCV can be computationally expensive, especially if you are searching over a large hyperparameter space and dealing with multiple hyperparameters. A solution to this is to use RandomizedSearchCV, in which not all hyperparameter values are tried out. Instead, a fixed number of hyperparameter settings is sampled from specified probability distributions. You'll practice using RandomizedSearchCV in this exercise and see how this works.     \n",
    "\n",
    "Here, you'll also be introduced to a new model: the Decision Tree. Don't worry about the specifics of how this model works. Just like k-NN, linear regression, and logistic regression, decision trees in scikit-learn have .fit() and .predict() methods that you can use in exactly the same way as before. Decision trees have many parameters that can be tuned, such as max_features, max_depth, and min_samples_leaf: This makes it an ideal use case for RandomizedSearchCV."
   ]
  },
  {
   "cell_type": "code",
   "execution_count": 55,
   "metadata": {},
   "outputs": [
    {
     "name": "stdout",
     "output_type": "stream",
     "text": [
      "Tuned Decision Tree Parameters: {'criterion': 'entropy', 'max_depth': 3, 'max_features': 4, 'min_samples_leaf': 2}\n",
      "Best score is 0.7447916666666666\n"
     ]
    }
   ],
   "source": [
    "from scipy.stats import randint\n",
    "from sklearn.tree import DecisionTreeClassifier\n",
    "from sklearn.model_selection import RandomizedSearchCV\n",
    "\n",
    "# Setup the parameters and distributions to sample from: param_dist\n",
    "param_dist = {\"max_depth\": [3, None],\n",
    "              \"max_features\": randint(1, 9),\n",
    "              \"min_samples_leaf\": randint(1, 9),\n",
    "              \"criterion\": [\"gini\", \"entropy\"]}\n",
    "\n",
    "# Instantiate a Decision Tree classifier: tree\n",
    "tree = DecisionTreeClassifier()\n",
    "\n",
    "# Instantiate the RandomizedSearchCV object: tree_cv\n",
    "tree_cv = RandomizedSearchCV(tree, param_dist, cv=5)\n",
    "\n",
    "# Fit it to the data\n",
    "tree_cv.fit(X,y)\n",
    "\n",
    "# Print the tuned parameters and score\n",
    "print(\"Tuned Decision Tree Parameters: {}\".format(tree_cv.best_params_))\n",
    "print(\"Best score is {}\".format(tree_cv.best_score_))\n"
   ]
  },
  {
   "cell_type": "markdown",
   "metadata": {},
   "source": [
    "## 8. Hold-out set of final evaluation\n",
    "\n",
    "Similar concept to train_test_split, just that for this time the test set is the hold-out set     \n",
    "\n",
    "How well can the model perform on never seen before data ?    \n",
    "Using ALL data for cross-validation is not ideal.     \n",
    "\n",
    "Split data into training and hold-out set at the begining      \n",
    "Perform grid search cross-validation on training set to tune the model's hyperparameters      \n",
    "Choose the best hyperparameters and use on the hold-out set, which has not been used before      \n",
    "\n",
    "\n",
    "\n"
   ]
  },
  {
   "cell_type": "markdown",
   "metadata": {},
   "source": [
    "**Example**      \n",
    "\n",
    "You will now practice evaluating a model with tuned hyperparameters on a hold-out set. The feature array and target variable array from the diabetes dataset have been pre-loaded as X and y.      \n",
    "\n",
    "In addition to C, logistic regression has a 'penalty' hyperparameter which specifies whether to use 'l1' or 'l2' regularization. Your job in this exercise is to create a hold-out set, tune the 'C' and 'penalty' hyperparameters of a logistic regression classifier using GridSearchCV on the training set."
   ]
  },
  {
   "cell_type": "code",
   "execution_count": 56,
   "metadata": {
    "collapsed": true,
    "jupyter": {
     "outputs_hidden": true
    }
   },
   "outputs": [
    {
     "name": "stderr",
     "output_type": "stream",
     "text": [
      "/Users/XavierTang/anaconda3/lib/python3.7/site-packages/sklearn/linear_model/logistic.py:432: FutureWarning: Default solver will be changed to 'lbfgs' in 0.22. Specify a solver to silence this warning.\n",
      "  FutureWarning)\n",
      "/Users/XavierTang/anaconda3/lib/python3.7/site-packages/sklearn/linear_model/logistic.py:432: FutureWarning: Default solver will be changed to 'lbfgs' in 0.22. Specify a solver to silence this warning.\n",
      "  FutureWarning)\n",
      "/Users/XavierTang/anaconda3/lib/python3.7/site-packages/sklearn/linear_model/logistic.py:432: FutureWarning: Default solver will be changed to 'lbfgs' in 0.22. Specify a solver to silence this warning.\n",
      "  FutureWarning)\n",
      "/Users/XavierTang/anaconda3/lib/python3.7/site-packages/sklearn/linear_model/logistic.py:432: FutureWarning: Default solver will be changed to 'lbfgs' in 0.22. Specify a solver to silence this warning.\n",
      "  FutureWarning)\n",
      "/Users/XavierTang/anaconda3/lib/python3.7/site-packages/sklearn/linear_model/logistic.py:432: FutureWarning: Default solver will be changed to 'lbfgs' in 0.22. Specify a solver to silence this warning.\n",
      "  FutureWarning)\n",
      "/Users/XavierTang/anaconda3/lib/python3.7/site-packages/sklearn/linear_model/logistic.py:432: FutureWarning: Default solver will be changed to 'lbfgs' in 0.22. Specify a solver to silence this warning.\n",
      "  FutureWarning)\n",
      "/Users/XavierTang/anaconda3/lib/python3.7/site-packages/sklearn/linear_model/logistic.py:432: FutureWarning: Default solver will be changed to 'lbfgs' in 0.22. Specify a solver to silence this warning.\n",
      "  FutureWarning)\n",
      "/Users/XavierTang/anaconda3/lib/python3.7/site-packages/sklearn/linear_model/logistic.py:432: FutureWarning: Default solver will be changed to 'lbfgs' in 0.22. Specify a solver to silence this warning.\n",
      "  FutureWarning)\n",
      "/Users/XavierTang/anaconda3/lib/python3.7/site-packages/sklearn/linear_model/logistic.py:432: FutureWarning: Default solver will be changed to 'lbfgs' in 0.22. Specify a solver to silence this warning.\n",
      "  FutureWarning)\n",
      "/Users/XavierTang/anaconda3/lib/python3.7/site-packages/sklearn/linear_model/logistic.py:432: FutureWarning: Default solver will be changed to 'lbfgs' in 0.22. Specify a solver to silence this warning.\n",
      "  FutureWarning)\n",
      "/Users/XavierTang/anaconda3/lib/python3.7/site-packages/sklearn/linear_model/logistic.py:432: FutureWarning: Default solver will be changed to 'lbfgs' in 0.22. Specify a solver to silence this warning.\n",
      "  FutureWarning)\n",
      "/Users/XavierTang/anaconda3/lib/python3.7/site-packages/sklearn/linear_model/logistic.py:432: FutureWarning: Default solver will be changed to 'lbfgs' in 0.22. Specify a solver to silence this warning.\n",
      "  FutureWarning)\n",
      "/Users/XavierTang/anaconda3/lib/python3.7/site-packages/sklearn/linear_model/logistic.py:432: FutureWarning: Default solver will be changed to 'lbfgs' in 0.22. Specify a solver to silence this warning.\n",
      "  FutureWarning)\n",
      "/Users/XavierTang/anaconda3/lib/python3.7/site-packages/sklearn/linear_model/logistic.py:432: FutureWarning: Default solver will be changed to 'lbfgs' in 0.22. Specify a solver to silence this warning.\n",
      "  FutureWarning)\n",
      "/Users/XavierTang/anaconda3/lib/python3.7/site-packages/sklearn/linear_model/logistic.py:432: FutureWarning: Default solver will be changed to 'lbfgs' in 0.22. Specify a solver to silence this warning.\n",
      "  FutureWarning)\n",
      "/Users/XavierTang/anaconda3/lib/python3.7/site-packages/sklearn/linear_model/logistic.py:432: FutureWarning: Default solver will be changed to 'lbfgs' in 0.22. Specify a solver to silence this warning.\n",
      "  FutureWarning)\n",
      "/Users/XavierTang/anaconda3/lib/python3.7/site-packages/sklearn/linear_model/logistic.py:432: FutureWarning: Default solver will be changed to 'lbfgs' in 0.22. Specify a solver to silence this warning.\n",
      "  FutureWarning)\n",
      "/Users/XavierTang/anaconda3/lib/python3.7/site-packages/sklearn/linear_model/logistic.py:432: FutureWarning: Default solver will be changed to 'lbfgs' in 0.22. Specify a solver to silence this warning.\n",
      "  FutureWarning)\n",
      "/Users/XavierTang/anaconda3/lib/python3.7/site-packages/sklearn/linear_model/logistic.py:432: FutureWarning: Default solver will be changed to 'lbfgs' in 0.22. Specify a solver to silence this warning.\n",
      "  FutureWarning)\n",
      "/Users/XavierTang/anaconda3/lib/python3.7/site-packages/sklearn/linear_model/logistic.py:432: FutureWarning: Default solver will be changed to 'lbfgs' in 0.22. Specify a solver to silence this warning.\n",
      "  FutureWarning)\n",
      "/Users/XavierTang/anaconda3/lib/python3.7/site-packages/sklearn/linear_model/logistic.py:432: FutureWarning: Default solver will be changed to 'lbfgs' in 0.22. Specify a solver to silence this warning.\n",
      "  FutureWarning)\n",
      "/Users/XavierTang/anaconda3/lib/python3.7/site-packages/sklearn/linear_model/logistic.py:432: FutureWarning: Default solver will be changed to 'lbfgs' in 0.22. Specify a solver to silence this warning.\n",
      "  FutureWarning)\n",
      "/Users/XavierTang/anaconda3/lib/python3.7/site-packages/sklearn/linear_model/logistic.py:432: FutureWarning: Default solver will be changed to 'lbfgs' in 0.22. Specify a solver to silence this warning.\n",
      "  FutureWarning)\n",
      "/Users/XavierTang/anaconda3/lib/python3.7/site-packages/sklearn/linear_model/logistic.py:432: FutureWarning: Default solver will be changed to 'lbfgs' in 0.22. Specify a solver to silence this warning.\n",
      "  FutureWarning)\n",
      "/Users/XavierTang/anaconda3/lib/python3.7/site-packages/sklearn/linear_model/logistic.py:432: FutureWarning: Default solver will be changed to 'lbfgs' in 0.22. Specify a solver to silence this warning.\n",
      "  FutureWarning)\n",
      "/Users/XavierTang/anaconda3/lib/python3.7/site-packages/sklearn/linear_model/logistic.py:432: FutureWarning: Default solver will be changed to 'lbfgs' in 0.22. Specify a solver to silence this warning.\n",
      "  FutureWarning)\n",
      "/Users/XavierTang/anaconda3/lib/python3.7/site-packages/sklearn/linear_model/logistic.py:432: FutureWarning: Default solver will be changed to 'lbfgs' in 0.22. Specify a solver to silence this warning.\n",
      "  FutureWarning)\n",
      "/Users/XavierTang/anaconda3/lib/python3.7/site-packages/sklearn/linear_model/logistic.py:432: FutureWarning: Default solver will be changed to 'lbfgs' in 0.22. Specify a solver to silence this warning.\n",
      "  FutureWarning)\n",
      "/Users/XavierTang/anaconda3/lib/python3.7/site-packages/sklearn/linear_model/logistic.py:432: FutureWarning: Default solver will be changed to 'lbfgs' in 0.22. Specify a solver to silence this warning.\n",
      "  FutureWarning)\n",
      "/Users/XavierTang/anaconda3/lib/python3.7/site-packages/sklearn/linear_model/logistic.py:432: FutureWarning: Default solver will be changed to 'lbfgs' in 0.22. Specify a solver to silence this warning.\n",
      "  FutureWarning)\n",
      "/Users/XavierTang/anaconda3/lib/python3.7/site-packages/sklearn/linear_model/logistic.py:432: FutureWarning: Default solver will be changed to 'lbfgs' in 0.22. Specify a solver to silence this warning.\n",
      "  FutureWarning)\n",
      "/Users/XavierTang/anaconda3/lib/python3.7/site-packages/sklearn/linear_model/logistic.py:432: FutureWarning: Default solver will be changed to 'lbfgs' in 0.22. Specify a solver to silence this warning.\n",
      "  FutureWarning)\n",
      "/Users/XavierTang/anaconda3/lib/python3.7/site-packages/sklearn/linear_model/logistic.py:432: FutureWarning: Default solver will be changed to 'lbfgs' in 0.22. Specify a solver to silence this warning.\n",
      "  FutureWarning)\n",
      "/Users/XavierTang/anaconda3/lib/python3.7/site-packages/sklearn/linear_model/logistic.py:432: FutureWarning: Default solver will be changed to 'lbfgs' in 0.22. Specify a solver to silence this warning.\n",
      "  FutureWarning)\n",
      "/Users/XavierTang/anaconda3/lib/python3.7/site-packages/sklearn/linear_model/logistic.py:432: FutureWarning: Default solver will be changed to 'lbfgs' in 0.22. Specify a solver to silence this warning.\n",
      "  FutureWarning)\n",
      "/Users/XavierTang/anaconda3/lib/python3.7/site-packages/sklearn/linear_model/logistic.py:432: FutureWarning: Default solver will be changed to 'lbfgs' in 0.22. Specify a solver to silence this warning.\n",
      "  FutureWarning)\n",
      "/Users/XavierTang/anaconda3/lib/python3.7/site-packages/sklearn/linear_model/logistic.py:432: FutureWarning: Default solver will be changed to 'lbfgs' in 0.22. Specify a solver to silence this warning.\n",
      "  FutureWarning)\n",
      "/Users/XavierTang/anaconda3/lib/python3.7/site-packages/sklearn/linear_model/logistic.py:432: FutureWarning: Default solver will be changed to 'lbfgs' in 0.22. Specify a solver to silence this warning.\n",
      "  FutureWarning)\n",
      "/Users/XavierTang/anaconda3/lib/python3.7/site-packages/sklearn/linear_model/logistic.py:432: FutureWarning: Default solver will be changed to 'lbfgs' in 0.22. Specify a solver to silence this warning.\n",
      "  FutureWarning)\n",
      "/Users/XavierTang/anaconda3/lib/python3.7/site-packages/sklearn/linear_model/logistic.py:432: FutureWarning: Default solver will be changed to 'lbfgs' in 0.22. Specify a solver to silence this warning.\n",
      "  FutureWarning)\n",
      "/Users/XavierTang/anaconda3/lib/python3.7/site-packages/sklearn/linear_model/logistic.py:432: FutureWarning: Default solver will be changed to 'lbfgs' in 0.22. Specify a solver to silence this warning.\n",
      "  FutureWarning)\n",
      "/Users/XavierTang/anaconda3/lib/python3.7/site-packages/sklearn/linear_model/logistic.py:432: FutureWarning: Default solver will be changed to 'lbfgs' in 0.22. Specify a solver to silence this warning.\n",
      "  FutureWarning)\n",
      "/Users/XavierTang/anaconda3/lib/python3.7/site-packages/sklearn/linear_model/logistic.py:432: FutureWarning: Default solver will be changed to 'lbfgs' in 0.22. Specify a solver to silence this warning.\n",
      "  FutureWarning)\n",
      "/Users/XavierTang/anaconda3/lib/python3.7/site-packages/sklearn/linear_model/logistic.py:432: FutureWarning: Default solver will be changed to 'lbfgs' in 0.22. Specify a solver to silence this warning.\n",
      "  FutureWarning)\n",
      "/Users/XavierTang/anaconda3/lib/python3.7/site-packages/sklearn/linear_model/logistic.py:432: FutureWarning: Default solver will be changed to 'lbfgs' in 0.22. Specify a solver to silence this warning.\n",
      "  FutureWarning)\n",
      "/Users/XavierTang/anaconda3/lib/python3.7/site-packages/sklearn/linear_model/logistic.py:432: FutureWarning: Default solver will be changed to 'lbfgs' in 0.22. Specify a solver to silence this warning.\n",
      "  FutureWarning)\n",
      "/Users/XavierTang/anaconda3/lib/python3.7/site-packages/sklearn/linear_model/logistic.py:432: FutureWarning: Default solver will be changed to 'lbfgs' in 0.22. Specify a solver to silence this warning.\n",
      "  FutureWarning)\n",
      "/Users/XavierTang/anaconda3/lib/python3.7/site-packages/sklearn/linear_model/logistic.py:432: FutureWarning: Default solver will be changed to 'lbfgs' in 0.22. Specify a solver to silence this warning.\n",
      "  FutureWarning)\n",
      "/Users/XavierTang/anaconda3/lib/python3.7/site-packages/sklearn/linear_model/logistic.py:432: FutureWarning: Default solver will be changed to 'lbfgs' in 0.22. Specify a solver to silence this warning.\n",
      "  FutureWarning)\n",
      "/Users/XavierTang/anaconda3/lib/python3.7/site-packages/sklearn/linear_model/logistic.py:432: FutureWarning: Default solver will be changed to 'lbfgs' in 0.22. Specify a solver to silence this warning.\n",
      "  FutureWarning)\n",
      "/Users/XavierTang/anaconda3/lib/python3.7/site-packages/sklearn/linear_model/logistic.py:432: FutureWarning: Default solver will be changed to 'lbfgs' in 0.22. Specify a solver to silence this warning.\n",
      "  FutureWarning)\n",
      "/Users/XavierTang/anaconda3/lib/python3.7/site-packages/sklearn/linear_model/logistic.py:432: FutureWarning: Default solver will be changed to 'lbfgs' in 0.22. Specify a solver to silence this warning.\n",
      "  FutureWarning)\n",
      "/Users/XavierTang/anaconda3/lib/python3.7/site-packages/sklearn/linear_model/logistic.py:432: FutureWarning: Default solver will be changed to 'lbfgs' in 0.22. Specify a solver to silence this warning.\n",
      "  FutureWarning)\n",
      "/Users/XavierTang/anaconda3/lib/python3.7/site-packages/sklearn/linear_model/logistic.py:432: FutureWarning: Default solver will be changed to 'lbfgs' in 0.22. Specify a solver to silence this warning.\n",
      "  FutureWarning)\n",
      "/Users/XavierTang/anaconda3/lib/python3.7/site-packages/sklearn/linear_model/logistic.py:432: FutureWarning: Default solver will be changed to 'lbfgs' in 0.22. Specify a solver to silence this warning.\n",
      "  FutureWarning)\n",
      "/Users/XavierTang/anaconda3/lib/python3.7/site-packages/sklearn/linear_model/logistic.py:432: FutureWarning: Default solver will be changed to 'lbfgs' in 0.22. Specify a solver to silence this warning.\n",
      "  FutureWarning)\n",
      "/Users/XavierTang/anaconda3/lib/python3.7/site-packages/sklearn/linear_model/logistic.py:432: FutureWarning: Default solver will be changed to 'lbfgs' in 0.22. Specify a solver to silence this warning.\n",
      "  FutureWarning)\n",
      "/Users/XavierTang/anaconda3/lib/python3.7/site-packages/sklearn/linear_model/logistic.py:432: FutureWarning: Default solver will be changed to 'lbfgs' in 0.22. Specify a solver to silence this warning.\n",
      "  FutureWarning)\n",
      "/Users/XavierTang/anaconda3/lib/python3.7/site-packages/sklearn/linear_model/logistic.py:432: FutureWarning: Default solver will be changed to 'lbfgs' in 0.22. Specify a solver to silence this warning.\n",
      "  FutureWarning)\n",
      "/Users/XavierTang/anaconda3/lib/python3.7/site-packages/sklearn/linear_model/logistic.py:432: FutureWarning: Default solver will be changed to 'lbfgs' in 0.22. Specify a solver to silence this warning.\n",
      "  FutureWarning)\n",
      "/Users/XavierTang/anaconda3/lib/python3.7/site-packages/sklearn/linear_model/logistic.py:432: FutureWarning: Default solver will be changed to 'lbfgs' in 0.22. Specify a solver to silence this warning.\n",
      "  FutureWarning)\n",
      "/Users/XavierTang/anaconda3/lib/python3.7/site-packages/sklearn/linear_model/logistic.py:432: FutureWarning: Default solver will be changed to 'lbfgs' in 0.22. Specify a solver to silence this warning.\n",
      "  FutureWarning)\n",
      "/Users/XavierTang/anaconda3/lib/python3.7/site-packages/sklearn/linear_model/logistic.py:432: FutureWarning: Default solver will be changed to 'lbfgs' in 0.22. Specify a solver to silence this warning.\n",
      "  FutureWarning)\n",
      "/Users/XavierTang/anaconda3/lib/python3.7/site-packages/sklearn/linear_model/logistic.py:432: FutureWarning: Default solver will be changed to 'lbfgs' in 0.22. Specify a solver to silence this warning.\n",
      "  FutureWarning)\n",
      "/Users/XavierTang/anaconda3/lib/python3.7/site-packages/sklearn/linear_model/logistic.py:432: FutureWarning: Default solver will be changed to 'lbfgs' in 0.22. Specify a solver to silence this warning.\n",
      "  FutureWarning)\n",
      "/Users/XavierTang/anaconda3/lib/python3.7/site-packages/sklearn/linear_model/logistic.py:432: FutureWarning: Default solver will be changed to 'lbfgs' in 0.22. Specify a solver to silence this warning.\n",
      "  FutureWarning)\n",
      "/Users/XavierTang/anaconda3/lib/python3.7/site-packages/sklearn/linear_model/logistic.py:432: FutureWarning: Default solver will be changed to 'lbfgs' in 0.22. Specify a solver to silence this warning.\n",
      "  FutureWarning)\n",
      "/Users/XavierTang/anaconda3/lib/python3.7/site-packages/sklearn/linear_model/logistic.py:432: FutureWarning: Default solver will be changed to 'lbfgs' in 0.22. Specify a solver to silence this warning.\n",
      "  FutureWarning)\n",
      "/Users/XavierTang/anaconda3/lib/python3.7/site-packages/sklearn/linear_model/logistic.py:432: FutureWarning: Default solver will be changed to 'lbfgs' in 0.22. Specify a solver to silence this warning.\n",
      "  FutureWarning)\n",
      "/Users/XavierTang/anaconda3/lib/python3.7/site-packages/sklearn/linear_model/logistic.py:432: FutureWarning: Default solver will be changed to 'lbfgs' in 0.22. Specify a solver to silence this warning.\n",
      "  FutureWarning)\n",
      "/Users/XavierTang/anaconda3/lib/python3.7/site-packages/sklearn/linear_model/logistic.py:432: FutureWarning: Default solver will be changed to 'lbfgs' in 0.22. Specify a solver to silence this warning.\n",
      "  FutureWarning)\n",
      "/Users/XavierTang/anaconda3/lib/python3.7/site-packages/sklearn/linear_model/logistic.py:432: FutureWarning: Default solver will be changed to 'lbfgs' in 0.22. Specify a solver to silence this warning.\n",
      "  FutureWarning)\n",
      "/Users/XavierTang/anaconda3/lib/python3.7/site-packages/sklearn/linear_model/logistic.py:432: FutureWarning: Default solver will be changed to 'lbfgs' in 0.22. Specify a solver to silence this warning.\n",
      "  FutureWarning)\n",
      "/Users/XavierTang/anaconda3/lib/python3.7/site-packages/sklearn/linear_model/logistic.py:432: FutureWarning: Default solver will be changed to 'lbfgs' in 0.22. Specify a solver to silence this warning.\n",
      "  FutureWarning)\n",
      "/Users/XavierTang/anaconda3/lib/python3.7/site-packages/sklearn/linear_model/logistic.py:432: FutureWarning: Default solver will be changed to 'lbfgs' in 0.22. Specify a solver to silence this warning.\n",
      "  FutureWarning)\n",
      "/Users/XavierTang/anaconda3/lib/python3.7/site-packages/sklearn/linear_model/logistic.py:432: FutureWarning: Default solver will be changed to 'lbfgs' in 0.22. Specify a solver to silence this warning.\n",
      "  FutureWarning)\n",
      "/Users/XavierTang/anaconda3/lib/python3.7/site-packages/sklearn/linear_model/logistic.py:432: FutureWarning: Default solver will be changed to 'lbfgs' in 0.22. Specify a solver to silence this warning.\n",
      "  FutureWarning)\n",
      "/Users/XavierTang/anaconda3/lib/python3.7/site-packages/sklearn/linear_model/logistic.py:432: FutureWarning: Default solver will be changed to 'lbfgs' in 0.22. Specify a solver to silence this warning.\n",
      "  FutureWarning)\n",
      "/Users/XavierTang/anaconda3/lib/python3.7/site-packages/sklearn/linear_model/logistic.py:432: FutureWarning: Default solver will be changed to 'lbfgs' in 0.22. Specify a solver to silence this warning.\n",
      "  FutureWarning)\n",
      "/Users/XavierTang/anaconda3/lib/python3.7/site-packages/sklearn/linear_model/logistic.py:432: FutureWarning: Default solver will be changed to 'lbfgs' in 0.22. Specify a solver to silence this warning.\n",
      "  FutureWarning)\n",
      "/Users/XavierTang/anaconda3/lib/python3.7/site-packages/sklearn/linear_model/logistic.py:432: FutureWarning: Default solver will be changed to 'lbfgs' in 0.22. Specify a solver to silence this warning.\n",
      "  FutureWarning)\n",
      "/Users/XavierTang/anaconda3/lib/python3.7/site-packages/sklearn/linear_model/logistic.py:432: FutureWarning: Default solver will be changed to 'lbfgs' in 0.22. Specify a solver to silence this warning.\n",
      "  FutureWarning)\n",
      "/Users/XavierTang/anaconda3/lib/python3.7/site-packages/sklearn/linear_model/logistic.py:432: FutureWarning: Default solver will be changed to 'lbfgs' in 0.22. Specify a solver to silence this warning.\n",
      "  FutureWarning)\n",
      "/Users/XavierTang/anaconda3/lib/python3.7/site-packages/sklearn/linear_model/logistic.py:432: FutureWarning: Default solver will be changed to 'lbfgs' in 0.22. Specify a solver to silence this warning.\n",
      "  FutureWarning)\n",
      "/Users/XavierTang/anaconda3/lib/python3.7/site-packages/sklearn/linear_model/logistic.py:432: FutureWarning: Default solver will be changed to 'lbfgs' in 0.22. Specify a solver to silence this warning.\n",
      "  FutureWarning)\n",
      "/Users/XavierTang/anaconda3/lib/python3.7/site-packages/sklearn/linear_model/logistic.py:432: FutureWarning: Default solver will be changed to 'lbfgs' in 0.22. Specify a solver to silence this warning.\n",
      "  FutureWarning)\n",
      "/Users/XavierTang/anaconda3/lib/python3.7/site-packages/sklearn/linear_model/logistic.py:432: FutureWarning: Default solver will be changed to 'lbfgs' in 0.22. Specify a solver to silence this warning.\n",
      "  FutureWarning)\n",
      "/Users/XavierTang/anaconda3/lib/python3.7/site-packages/sklearn/linear_model/logistic.py:432: FutureWarning: Default solver will be changed to 'lbfgs' in 0.22. Specify a solver to silence this warning.\n",
      "  FutureWarning)\n",
      "/Users/XavierTang/anaconda3/lib/python3.7/site-packages/sklearn/linear_model/logistic.py:432: FutureWarning: Default solver will be changed to 'lbfgs' in 0.22. Specify a solver to silence this warning.\n",
      "  FutureWarning)\n",
      "/Users/XavierTang/anaconda3/lib/python3.7/site-packages/sklearn/linear_model/logistic.py:432: FutureWarning: Default solver will be changed to 'lbfgs' in 0.22. Specify a solver to silence this warning.\n",
      "  FutureWarning)\n",
      "/Users/XavierTang/anaconda3/lib/python3.7/site-packages/sklearn/linear_model/logistic.py:432: FutureWarning: Default solver will be changed to 'lbfgs' in 0.22. Specify a solver to silence this warning.\n",
      "  FutureWarning)\n",
      "/Users/XavierTang/anaconda3/lib/python3.7/site-packages/sklearn/linear_model/logistic.py:432: FutureWarning: Default solver will be changed to 'lbfgs' in 0.22. Specify a solver to silence this warning.\n",
      "  FutureWarning)\n",
      "/Users/XavierTang/anaconda3/lib/python3.7/site-packages/sklearn/linear_model/logistic.py:432: FutureWarning: Default solver will be changed to 'lbfgs' in 0.22. Specify a solver to silence this warning.\n",
      "  FutureWarning)\n",
      "/Users/XavierTang/anaconda3/lib/python3.7/site-packages/sklearn/linear_model/logistic.py:432: FutureWarning: Default solver will be changed to 'lbfgs' in 0.22. Specify a solver to silence this warning.\n",
      "  FutureWarning)\n",
      "/Users/XavierTang/anaconda3/lib/python3.7/site-packages/sklearn/linear_model/logistic.py:432: FutureWarning: Default solver will be changed to 'lbfgs' in 0.22. Specify a solver to silence this warning.\n",
      "  FutureWarning)\n",
      "/Users/XavierTang/anaconda3/lib/python3.7/site-packages/sklearn/linear_model/logistic.py:432: FutureWarning: Default solver will be changed to 'lbfgs' in 0.22. Specify a solver to silence this warning.\n",
      "  FutureWarning)\n",
      "/Users/XavierTang/anaconda3/lib/python3.7/site-packages/sklearn/linear_model/logistic.py:432: FutureWarning: Default solver will be changed to 'lbfgs' in 0.22. Specify a solver to silence this warning.\n",
      "  FutureWarning)\n",
      "/Users/XavierTang/anaconda3/lib/python3.7/site-packages/sklearn/linear_model/logistic.py:432: FutureWarning: Default solver will be changed to 'lbfgs' in 0.22. Specify a solver to silence this warning.\n",
      "  FutureWarning)\n",
      "/Users/XavierTang/anaconda3/lib/python3.7/site-packages/sklearn/linear_model/logistic.py:432: FutureWarning: Default solver will be changed to 'lbfgs' in 0.22. Specify a solver to silence this warning.\n",
      "  FutureWarning)\n",
      "/Users/XavierTang/anaconda3/lib/python3.7/site-packages/sklearn/linear_model/logistic.py:432: FutureWarning: Default solver will be changed to 'lbfgs' in 0.22. Specify a solver to silence this warning.\n",
      "  FutureWarning)\n",
      "/Users/XavierTang/anaconda3/lib/python3.7/site-packages/sklearn/linear_model/logistic.py:432: FutureWarning: Default solver will be changed to 'lbfgs' in 0.22. Specify a solver to silence this warning.\n",
      "  FutureWarning)\n",
      "/Users/XavierTang/anaconda3/lib/python3.7/site-packages/sklearn/linear_model/logistic.py:432: FutureWarning: Default solver will be changed to 'lbfgs' in 0.22. Specify a solver to silence this warning.\n",
      "  FutureWarning)\n",
      "/Users/XavierTang/anaconda3/lib/python3.7/site-packages/sklearn/linear_model/logistic.py:432: FutureWarning: Default solver will be changed to 'lbfgs' in 0.22. Specify a solver to silence this warning.\n",
      "  FutureWarning)\n",
      "/Users/XavierTang/anaconda3/lib/python3.7/site-packages/sklearn/linear_model/logistic.py:432: FutureWarning: Default solver will be changed to 'lbfgs' in 0.22. Specify a solver to silence this warning.\n",
      "  FutureWarning)\n",
      "/Users/XavierTang/anaconda3/lib/python3.7/site-packages/sklearn/linear_model/logistic.py:432: FutureWarning: Default solver will be changed to 'lbfgs' in 0.22. Specify a solver to silence this warning.\n",
      "  FutureWarning)\n",
      "/Users/XavierTang/anaconda3/lib/python3.7/site-packages/sklearn/linear_model/logistic.py:432: FutureWarning: Default solver will be changed to 'lbfgs' in 0.22. Specify a solver to silence this warning.\n",
      "  FutureWarning)\n",
      "/Users/XavierTang/anaconda3/lib/python3.7/site-packages/sklearn/linear_model/logistic.py:432: FutureWarning: Default solver will be changed to 'lbfgs' in 0.22. Specify a solver to silence this warning.\n",
      "  FutureWarning)\n",
      "/Users/XavierTang/anaconda3/lib/python3.7/site-packages/sklearn/linear_model/logistic.py:432: FutureWarning: Default solver will be changed to 'lbfgs' in 0.22. Specify a solver to silence this warning.\n",
      "  FutureWarning)\n",
      "/Users/XavierTang/anaconda3/lib/python3.7/site-packages/sklearn/linear_model/logistic.py:432: FutureWarning: Default solver will be changed to 'lbfgs' in 0.22. Specify a solver to silence this warning.\n",
      "  FutureWarning)\n",
      "/Users/XavierTang/anaconda3/lib/python3.7/site-packages/sklearn/linear_model/logistic.py:432: FutureWarning: Default solver will be changed to 'lbfgs' in 0.22. Specify a solver to silence this warning.\n",
      "  FutureWarning)\n",
      "/Users/XavierTang/anaconda3/lib/python3.7/site-packages/sklearn/linear_model/logistic.py:432: FutureWarning: Default solver will be changed to 'lbfgs' in 0.22. Specify a solver to silence this warning.\n",
      "  FutureWarning)\n",
      "/Users/XavierTang/anaconda3/lib/python3.7/site-packages/sklearn/linear_model/logistic.py:432: FutureWarning: Default solver will be changed to 'lbfgs' in 0.22. Specify a solver to silence this warning.\n",
      "  FutureWarning)\n",
      "/Users/XavierTang/anaconda3/lib/python3.7/site-packages/sklearn/linear_model/logistic.py:432: FutureWarning: Default solver will be changed to 'lbfgs' in 0.22. Specify a solver to silence this warning.\n",
      "  FutureWarning)\n",
      "/Users/XavierTang/anaconda3/lib/python3.7/site-packages/sklearn/linear_model/logistic.py:432: FutureWarning: Default solver will be changed to 'lbfgs' in 0.22. Specify a solver to silence this warning.\n",
      "  FutureWarning)\n",
      "/Users/XavierTang/anaconda3/lib/python3.7/site-packages/sklearn/linear_model/logistic.py:432: FutureWarning: Default solver will be changed to 'lbfgs' in 0.22. Specify a solver to silence this warning.\n",
      "  FutureWarning)\n",
      "/Users/XavierTang/anaconda3/lib/python3.7/site-packages/sklearn/linear_model/logistic.py:432: FutureWarning: Default solver will be changed to 'lbfgs' in 0.22. Specify a solver to silence this warning.\n",
      "  FutureWarning)\n",
      "/Users/XavierTang/anaconda3/lib/python3.7/site-packages/sklearn/linear_model/logistic.py:432: FutureWarning: Default solver will be changed to 'lbfgs' in 0.22. Specify a solver to silence this warning.\n",
      "  FutureWarning)\n",
      "/Users/XavierTang/anaconda3/lib/python3.7/site-packages/sklearn/linear_model/logistic.py:432: FutureWarning: Default solver will be changed to 'lbfgs' in 0.22. Specify a solver to silence this warning.\n",
      "  FutureWarning)\n",
      "/Users/XavierTang/anaconda3/lib/python3.7/site-packages/sklearn/linear_model/logistic.py:432: FutureWarning: Default solver will be changed to 'lbfgs' in 0.22. Specify a solver to silence this warning.\n",
      "  FutureWarning)\n",
      "/Users/XavierTang/anaconda3/lib/python3.7/site-packages/sklearn/linear_model/logistic.py:432: FutureWarning: Default solver will be changed to 'lbfgs' in 0.22. Specify a solver to silence this warning.\n",
      "  FutureWarning)\n",
      "/Users/XavierTang/anaconda3/lib/python3.7/site-packages/sklearn/linear_model/logistic.py:432: FutureWarning: Default solver will be changed to 'lbfgs' in 0.22. Specify a solver to silence this warning.\n",
      "  FutureWarning)\n",
      "/Users/XavierTang/anaconda3/lib/python3.7/site-packages/sklearn/linear_model/logistic.py:432: FutureWarning: Default solver will be changed to 'lbfgs' in 0.22. Specify a solver to silence this warning.\n",
      "  FutureWarning)\n",
      "/Users/XavierTang/anaconda3/lib/python3.7/site-packages/sklearn/linear_model/logistic.py:432: FutureWarning: Default solver will be changed to 'lbfgs' in 0.22. Specify a solver to silence this warning.\n",
      "  FutureWarning)\n",
      "/Users/XavierTang/anaconda3/lib/python3.7/site-packages/sklearn/linear_model/logistic.py:432: FutureWarning: Default solver will be changed to 'lbfgs' in 0.22. Specify a solver to silence this warning.\n",
      "  FutureWarning)\n",
      "/Users/XavierTang/anaconda3/lib/python3.7/site-packages/sklearn/linear_model/logistic.py:432: FutureWarning: Default solver will be changed to 'lbfgs' in 0.22. Specify a solver to silence this warning.\n",
      "  FutureWarning)\n",
      "/Users/XavierTang/anaconda3/lib/python3.7/site-packages/sklearn/linear_model/logistic.py:432: FutureWarning: Default solver will be changed to 'lbfgs' in 0.22. Specify a solver to silence this warning.\n",
      "  FutureWarning)\n",
      "/Users/XavierTang/anaconda3/lib/python3.7/site-packages/sklearn/linear_model/logistic.py:432: FutureWarning: Default solver will be changed to 'lbfgs' in 0.22. Specify a solver to silence this warning.\n",
      "  FutureWarning)\n",
      "/Users/XavierTang/anaconda3/lib/python3.7/site-packages/sklearn/linear_model/logistic.py:432: FutureWarning: Default solver will be changed to 'lbfgs' in 0.22. Specify a solver to silence this warning.\n",
      "  FutureWarning)\n",
      "/Users/XavierTang/anaconda3/lib/python3.7/site-packages/sklearn/linear_model/logistic.py:432: FutureWarning: Default solver will be changed to 'lbfgs' in 0.22. Specify a solver to silence this warning.\n",
      "  FutureWarning)\n",
      "/Users/XavierTang/anaconda3/lib/python3.7/site-packages/sklearn/linear_model/logistic.py:432: FutureWarning: Default solver will be changed to 'lbfgs' in 0.22. Specify a solver to silence this warning.\n",
      "  FutureWarning)\n",
      "/Users/XavierTang/anaconda3/lib/python3.7/site-packages/sklearn/linear_model/logistic.py:432: FutureWarning: Default solver will be changed to 'lbfgs' in 0.22. Specify a solver to silence this warning.\n",
      "  FutureWarning)\n",
      "/Users/XavierTang/anaconda3/lib/python3.7/site-packages/sklearn/linear_model/logistic.py:432: FutureWarning: Default solver will be changed to 'lbfgs' in 0.22. Specify a solver to silence this warning.\n",
      "  FutureWarning)\n",
      "/Users/XavierTang/anaconda3/lib/python3.7/site-packages/sklearn/linear_model/logistic.py:432: FutureWarning: Default solver will be changed to 'lbfgs' in 0.22. Specify a solver to silence this warning.\n",
      "  FutureWarning)\n",
      "/Users/XavierTang/anaconda3/lib/python3.7/site-packages/sklearn/linear_model/logistic.py:432: FutureWarning: Default solver will be changed to 'lbfgs' in 0.22. Specify a solver to silence this warning.\n",
      "  FutureWarning)\n",
      "/Users/XavierTang/anaconda3/lib/python3.7/site-packages/sklearn/linear_model/logistic.py:432: FutureWarning: Default solver will be changed to 'lbfgs' in 0.22. Specify a solver to silence this warning.\n",
      "  FutureWarning)\n",
      "/Users/XavierTang/anaconda3/lib/python3.7/site-packages/sklearn/linear_model/logistic.py:432: FutureWarning: Default solver will be changed to 'lbfgs' in 0.22. Specify a solver to silence this warning.\n",
      "  FutureWarning)\n",
      "/Users/XavierTang/anaconda3/lib/python3.7/site-packages/sklearn/linear_model/logistic.py:432: FutureWarning: Default solver will be changed to 'lbfgs' in 0.22. Specify a solver to silence this warning.\n",
      "  FutureWarning)\n",
      "/Users/XavierTang/anaconda3/lib/python3.7/site-packages/sklearn/linear_model/logistic.py:432: FutureWarning: Default solver will be changed to 'lbfgs' in 0.22. Specify a solver to silence this warning.\n",
      "  FutureWarning)\n",
      "/Users/XavierTang/anaconda3/lib/python3.7/site-packages/sklearn/linear_model/logistic.py:432: FutureWarning: Default solver will be changed to 'lbfgs' in 0.22. Specify a solver to silence this warning.\n",
      "  FutureWarning)\n",
      "/Users/XavierTang/anaconda3/lib/python3.7/site-packages/sklearn/linear_model/logistic.py:432: FutureWarning: Default solver will be changed to 'lbfgs' in 0.22. Specify a solver to silence this warning.\n",
      "  FutureWarning)\n",
      "/Users/XavierTang/anaconda3/lib/python3.7/site-packages/sklearn/linear_model/logistic.py:432: FutureWarning: Default solver will be changed to 'lbfgs' in 0.22. Specify a solver to silence this warning.\n",
      "  FutureWarning)\n",
      "/Users/XavierTang/anaconda3/lib/python3.7/site-packages/sklearn/linear_model/logistic.py:432: FutureWarning: Default solver will be changed to 'lbfgs' in 0.22. Specify a solver to silence this warning.\n",
      "  FutureWarning)\n",
      "/Users/XavierTang/anaconda3/lib/python3.7/site-packages/sklearn/linear_model/logistic.py:432: FutureWarning: Default solver will be changed to 'lbfgs' in 0.22. Specify a solver to silence this warning.\n",
      "  FutureWarning)\n",
      "/Users/XavierTang/anaconda3/lib/python3.7/site-packages/sklearn/linear_model/logistic.py:432: FutureWarning: Default solver will be changed to 'lbfgs' in 0.22. Specify a solver to silence this warning.\n",
      "  FutureWarning)\n",
      "/Users/XavierTang/anaconda3/lib/python3.7/site-packages/sklearn/linear_model/logistic.py:432: FutureWarning: Default solver will be changed to 'lbfgs' in 0.22. Specify a solver to silence this warning.\n",
      "  FutureWarning)\n",
      "/Users/XavierTang/anaconda3/lib/python3.7/site-packages/sklearn/linear_model/logistic.py:432: FutureWarning: Default solver will be changed to 'lbfgs' in 0.22. Specify a solver to silence this warning.\n",
      "  FutureWarning)\n",
      "/Users/XavierTang/anaconda3/lib/python3.7/site-packages/sklearn/linear_model/logistic.py:432: FutureWarning: Default solver will be changed to 'lbfgs' in 0.22. Specify a solver to silence this warning.\n",
      "  FutureWarning)\n",
      "/Users/XavierTang/anaconda3/lib/python3.7/site-packages/sklearn/linear_model/logistic.py:432: FutureWarning: Default solver will be changed to 'lbfgs' in 0.22. Specify a solver to silence this warning.\n",
      "  FutureWarning)\n",
      "/Users/XavierTang/anaconda3/lib/python3.7/site-packages/sklearn/linear_model/logistic.py:432: FutureWarning: Default solver will be changed to 'lbfgs' in 0.22. Specify a solver to silence this warning.\n",
      "  FutureWarning)\n"
     ]
    },
    {
     "name": "stdout",
     "output_type": "stream",
     "text": [
      "Tuned Logistic Regression Parameter: {'C': 31.622776601683793, 'penalty': 'l2'}\n",
      "Tuned Logistic Regression Accuracy: 0.7673913043478261\n"
     ]
    },
    {
     "name": "stderr",
     "output_type": "stream",
     "text": [
      "/Users/XavierTang/anaconda3/lib/python3.7/site-packages/sklearn/linear_model/logistic.py:432: FutureWarning: Default solver will be changed to 'lbfgs' in 0.22. Specify a solver to silence this warning.\n",
      "  FutureWarning)\n",
      "/Users/XavierTang/anaconda3/lib/python3.7/site-packages/sklearn/model_selection/_search.py:813: DeprecationWarning: The default of the `iid` parameter will change from True to False in version 0.22 and will be removed in 0.24. This will change numeric results when test-set sizes are unequal.\n",
      "  DeprecationWarning)\n",
      "/Users/XavierTang/anaconda3/lib/python3.7/site-packages/sklearn/linear_model/logistic.py:432: FutureWarning: Default solver will be changed to 'lbfgs' in 0.22. Specify a solver to silence this warning.\n",
      "  FutureWarning)\n"
     ]
    }
   ],
   "source": [
    "# Import necessary modules\n",
    "from sklearn.model_selection import train_test_split\n",
    "from sklearn.linear_model import LogisticRegression\n",
    "from sklearn.model_selection import GridSearchCV\n",
    "\n",
    "# Create the hyperparameter grid\n",
    "c_space = np.logspace(-5, 8, 15)\n",
    "param_grid = {\"C\": c_space, \"penalty\": ['l1', 'l2']}\n",
    "\n",
    "# Instantiate the logistic regression classifier: logreg\n",
    "logreg = LogisticRegression()\n",
    "\n",
    "# Create train and test sets\n",
    "X_train, X_test, y_train, y_test = train_test_split(X,y,test_size=0.4,random_state=42)\n",
    "\n",
    "# Instantiate the GridSearchCV object: logreg_cv\n",
    "logreg_cv = GridSearchCV(logreg, param_grid,cv=5)\n",
    "\n",
    "# Fit it to the training data\n",
    "logreg_cv.fit(X_train,y_train)\n",
    "\n",
    "# Print the optimal parameters and best score\n",
    "print(\"Tuned Logistic Regression Parameter: {}\".format(logreg_cv.best_params_))\n",
    "print(\"Tuned Logistic Regression Accuracy: {}\".format(logreg_cv.best_score_))\n"
   ]
  },
  {
   "cell_type": "markdown",
   "metadata": {},
   "source": [
    "## 9. Preprocessing data\n"
   ]
  },
  {
   "cell_type": "markdown",
   "metadata": {},
   "source": [
    "### 9.1 Categorical data\n",
    "\n",
    "scikit-learn will not accept categorical features by default (usually they can be strings, but sklearn only accepts numerical categorical data like 0,1)     \n",
    "\n",
    "Therefore need to encode categorical features numerically.    \n",
    "\n",
    "We can split the feature into a number of binary features called \"dummy variables\".     \n",
    "one for each category: 0 means the observation was not that category, while 1 means it was.     \n",
    "\n",
    "Say if the automobile data set has a \"origin\" feature with 3 different possible values \"US\", \"Asia\" and \"Europe\". We can create binary features for each of the origins as each car is made exactly 1 country:      \n",
    "\n",
    "| origin_Asia | origin_Europe | origin_US |\n",
    "| -------- | -----------| ------------|\n",
    "|  0    |     0      |   1    |\n",
    "|  0    |     1     |   0     |\n",
    "|  1    |     0      |   0     |     \n",
    "\n",
    "We actually only need two features instead of three. so we can delete the Europe col.\n",
    "\n",
    "| origin_Asia | origin_US |\n",
    "| -------- |------------|\n",
    "|  0    |      1    |\n",
    "|  0    |       0     |\n",
    "|  1    |       0     |     \n",
    "\n",
    "To create dummy variable we can use:     \n",
    "scikit-learn: OneHotEncoder()      \n",
    "pandas: get_dummies()  "
   ]
  },
  {
   "cell_type": "code",
   "execution_count": 59,
   "metadata": {},
   "outputs": [
    {
     "data": {
      "text/html": [
       "<div>\n",
       "<style scoped>\n",
       "    .dataframe tbody tr th:only-of-type {\n",
       "        vertical-align: middle;\n",
       "    }\n",
       "\n",
       "    .dataframe tbody tr th {\n",
       "        vertical-align: top;\n",
       "    }\n",
       "\n",
       "    .dataframe thead th {\n",
       "        text-align: right;\n",
       "    }\n",
       "</style>\n",
       "<table border=\"1\" class=\"dataframe\">\n",
       "  <thead>\n",
       "    <tr style=\"text-align: right;\">\n",
       "      <th></th>\n",
       "      <th>mpg</th>\n",
       "      <th>displ</th>\n",
       "      <th>hp</th>\n",
       "      <th>weight</th>\n",
       "      <th>accel</th>\n",
       "      <th>origin</th>\n",
       "      <th>size</th>\n",
       "    </tr>\n",
       "  </thead>\n",
       "  <tbody>\n",
       "    <tr>\n",
       "      <th>0</th>\n",
       "      <td>18.0</td>\n",
       "      <td>250.0</td>\n",
       "      <td>88</td>\n",
       "      <td>3139</td>\n",
       "      <td>14.5</td>\n",
       "      <td>US</td>\n",
       "      <td>15.0</td>\n",
       "    </tr>\n",
       "    <tr>\n",
       "      <th>1</th>\n",
       "      <td>9.0</td>\n",
       "      <td>304.0</td>\n",
       "      <td>193</td>\n",
       "      <td>4732</td>\n",
       "      <td>18.5</td>\n",
       "      <td>US</td>\n",
       "      <td>20.0</td>\n",
       "    </tr>\n",
       "    <tr>\n",
       "      <th>2</th>\n",
       "      <td>36.1</td>\n",
       "      <td>91.0</td>\n",
       "      <td>60</td>\n",
       "      <td>1800</td>\n",
       "      <td>16.4</td>\n",
       "      <td>Asia</td>\n",
       "      <td>10.0</td>\n",
       "    </tr>\n",
       "    <tr>\n",
       "      <th>3</th>\n",
       "      <td>18.5</td>\n",
       "      <td>250.0</td>\n",
       "      <td>98</td>\n",
       "      <td>3525</td>\n",
       "      <td>19.0</td>\n",
       "      <td>US</td>\n",
       "      <td>15.0</td>\n",
       "    </tr>\n",
       "    <tr>\n",
       "      <th>4</th>\n",
       "      <td>34.3</td>\n",
       "      <td>97.0</td>\n",
       "      <td>78</td>\n",
       "      <td>2188</td>\n",
       "      <td>15.8</td>\n",
       "      <td>Europe</td>\n",
       "      <td>10.0</td>\n",
       "    </tr>\n",
       "  </tbody>\n",
       "</table>\n",
       "</div>"
      ],
      "text/plain": [
       "    mpg  displ   hp  weight  accel  origin  size\n",
       "0  18.0  250.0   88    3139   14.5      US  15.0\n",
       "1   9.0  304.0  193    4732   18.5      US  20.0\n",
       "2  36.1   91.0   60    1800   16.4    Asia  10.0\n",
       "3  18.5  250.0   98    3525   19.0      US  15.0\n",
       "4  34.3   97.0   78    2188   15.8  Europe  10.0"
      ]
     },
     "execution_count": 59,
     "metadata": {},
     "output_type": "execute_result"
    }
   ],
   "source": [
    "df_auto = pd.read_csv(\"../Machine_Learning_basics/data/auto.csv\")\n",
    "df_auto.head()"
   ]
  },
  {
   "cell_type": "code",
   "execution_count": 60,
   "metadata": {},
   "outputs": [
    {
     "data": {
      "text/html": [
       "<div>\n",
       "<style scoped>\n",
       "    .dataframe tbody tr th:only-of-type {\n",
       "        vertical-align: middle;\n",
       "    }\n",
       "\n",
       "    .dataframe tbody tr th {\n",
       "        vertical-align: top;\n",
       "    }\n",
       "\n",
       "    .dataframe thead th {\n",
       "        text-align: right;\n",
       "    }\n",
       "</style>\n",
       "<table border=\"1\" class=\"dataframe\">\n",
       "  <thead>\n",
       "    <tr style=\"text-align: right;\">\n",
       "      <th></th>\n",
       "      <th>mpg</th>\n",
       "      <th>displ</th>\n",
       "      <th>hp</th>\n",
       "      <th>weight</th>\n",
       "      <th>accel</th>\n",
       "      <th>size</th>\n",
       "      <th>origin_Asia</th>\n",
       "      <th>origin_Europe</th>\n",
       "      <th>origin_US</th>\n",
       "    </tr>\n",
       "  </thead>\n",
       "  <tbody>\n",
       "    <tr>\n",
       "      <th>0</th>\n",
       "      <td>18.0</td>\n",
       "      <td>250.0</td>\n",
       "      <td>88</td>\n",
       "      <td>3139</td>\n",
       "      <td>14.5</td>\n",
       "      <td>15.0</td>\n",
       "      <td>0</td>\n",
       "      <td>0</td>\n",
       "      <td>1</td>\n",
       "    </tr>\n",
       "    <tr>\n",
       "      <th>1</th>\n",
       "      <td>9.0</td>\n",
       "      <td>304.0</td>\n",
       "      <td>193</td>\n",
       "      <td>4732</td>\n",
       "      <td>18.5</td>\n",
       "      <td>20.0</td>\n",
       "      <td>0</td>\n",
       "      <td>0</td>\n",
       "      <td>1</td>\n",
       "    </tr>\n",
       "    <tr>\n",
       "      <th>2</th>\n",
       "      <td>36.1</td>\n",
       "      <td>91.0</td>\n",
       "      <td>60</td>\n",
       "      <td>1800</td>\n",
       "      <td>16.4</td>\n",
       "      <td>10.0</td>\n",
       "      <td>1</td>\n",
       "      <td>0</td>\n",
       "      <td>0</td>\n",
       "    </tr>\n",
       "    <tr>\n",
       "      <th>3</th>\n",
       "      <td>18.5</td>\n",
       "      <td>250.0</td>\n",
       "      <td>98</td>\n",
       "      <td>3525</td>\n",
       "      <td>19.0</td>\n",
       "      <td>15.0</td>\n",
       "      <td>0</td>\n",
       "      <td>0</td>\n",
       "      <td>1</td>\n",
       "    </tr>\n",
       "    <tr>\n",
       "      <th>4</th>\n",
       "      <td>34.3</td>\n",
       "      <td>97.0</td>\n",
       "      <td>78</td>\n",
       "      <td>2188</td>\n",
       "      <td>15.8</td>\n",
       "      <td>10.0</td>\n",
       "      <td>0</td>\n",
       "      <td>1</td>\n",
       "      <td>0</td>\n",
       "    </tr>\n",
       "  </tbody>\n",
       "</table>\n",
       "</div>"
      ],
      "text/plain": [
       "    mpg  displ   hp  weight  accel  size  origin_Asia  origin_Europe  \\\n",
       "0  18.0  250.0   88    3139   14.5  15.0            0              0   \n",
       "1   9.0  304.0  193    4732   18.5  20.0            0              0   \n",
       "2  36.1   91.0   60    1800   16.4  10.0            1              0   \n",
       "3  18.5  250.0   98    3525   19.0  15.0            0              0   \n",
       "4  34.3   97.0   78    2188   15.8  10.0            0              1   \n",
       "\n",
       "   origin_US  \n",
       "0          1  \n",
       "1          1  \n",
       "2          0  \n",
       "3          1  \n",
       "4          0  "
      ]
     },
     "execution_count": 60,
     "metadata": {},
     "output_type": "execute_result"
    }
   ],
   "source": [
    "# target variable: mpg, miles per gallon\n",
    "# categorical feature: origin\n",
    "df_origin = pd.get_dummies(df_auto)\n",
    "df_origin.head()"
   ]
  },
  {
   "cell_type": "code",
   "execution_count": 61,
   "metadata": {},
   "outputs": [
    {
     "data": {
      "text/html": [
       "<div>\n",
       "<style scoped>\n",
       "    .dataframe tbody tr th:only-of-type {\n",
       "        vertical-align: middle;\n",
       "    }\n",
       "\n",
       "    .dataframe tbody tr th {\n",
       "        vertical-align: top;\n",
       "    }\n",
       "\n",
       "    .dataframe thead th {\n",
       "        text-align: right;\n",
       "    }\n",
       "</style>\n",
       "<table border=\"1\" class=\"dataframe\">\n",
       "  <thead>\n",
       "    <tr style=\"text-align: right;\">\n",
       "      <th></th>\n",
       "      <th>mpg</th>\n",
       "      <th>displ</th>\n",
       "      <th>hp</th>\n",
       "      <th>weight</th>\n",
       "      <th>accel</th>\n",
       "      <th>size</th>\n",
       "      <th>origin_Europe</th>\n",
       "      <th>origin_US</th>\n",
       "    </tr>\n",
       "  </thead>\n",
       "  <tbody>\n",
       "    <tr>\n",
       "      <th>0</th>\n",
       "      <td>18.0</td>\n",
       "      <td>250.0</td>\n",
       "      <td>88</td>\n",
       "      <td>3139</td>\n",
       "      <td>14.5</td>\n",
       "      <td>15.0</td>\n",
       "      <td>0</td>\n",
       "      <td>1</td>\n",
       "    </tr>\n",
       "    <tr>\n",
       "      <th>1</th>\n",
       "      <td>9.0</td>\n",
       "      <td>304.0</td>\n",
       "      <td>193</td>\n",
       "      <td>4732</td>\n",
       "      <td>18.5</td>\n",
       "      <td>20.0</td>\n",
       "      <td>0</td>\n",
       "      <td>1</td>\n",
       "    </tr>\n",
       "    <tr>\n",
       "      <th>2</th>\n",
       "      <td>36.1</td>\n",
       "      <td>91.0</td>\n",
       "      <td>60</td>\n",
       "      <td>1800</td>\n",
       "      <td>16.4</td>\n",
       "      <td>10.0</td>\n",
       "      <td>0</td>\n",
       "      <td>0</td>\n",
       "    </tr>\n",
       "    <tr>\n",
       "      <th>3</th>\n",
       "      <td>18.5</td>\n",
       "      <td>250.0</td>\n",
       "      <td>98</td>\n",
       "      <td>3525</td>\n",
       "      <td>19.0</td>\n",
       "      <td>15.0</td>\n",
       "      <td>0</td>\n",
       "      <td>1</td>\n",
       "    </tr>\n",
       "    <tr>\n",
       "      <th>4</th>\n",
       "      <td>34.3</td>\n",
       "      <td>97.0</td>\n",
       "      <td>78</td>\n",
       "      <td>2188</td>\n",
       "      <td>15.8</td>\n",
       "      <td>10.0</td>\n",
       "      <td>1</td>\n",
       "      <td>0</td>\n",
       "    </tr>\n",
       "  </tbody>\n",
       "</table>\n",
       "</div>"
      ],
      "text/plain": [
       "    mpg  displ   hp  weight  accel  size  origin_Europe  origin_US\n",
       "0  18.0  250.0   88    3139   14.5  15.0              0          1\n",
       "1   9.0  304.0  193    4732   18.5  20.0              0          1\n",
       "2  36.1   91.0   60    1800   16.4  10.0              0          0\n",
       "3  18.5  250.0   98    3525   19.0  15.0              0          1\n",
       "4  34.3   97.0   78    2188   15.8  10.0              1          0"
      ]
     },
     "execution_count": 61,
     "metadata": {},
     "output_type": "execute_result"
    }
   ],
   "source": [
    "# remove redundancy\n",
    "df_origin = df_origin.drop(\"origin_Asia\", axis=1)\n",
    "df_origin.head()"
   ]
  },
  {
   "cell_type": "markdown",
   "metadata": {},
   "source": [
    "## Example: gapminder dataset"
   ]
  },
  {
   "cell_type": "code",
   "execution_count": 63,
   "metadata": {},
   "outputs": [
    {
     "data": {
      "image/png": "[encoded data removed]",
      "text/plain": [
       "<Figure size 432x288 with 1 Axes>"
      ]
     },
     "metadata": {
      "needs_background": "light"
     },
     "output_type": "display_data"
    },
    {
     "name": "stdout",
     "output_type": "stream",
     "text": [
      "   population  fertility  HIV        CO2  BMI_male      GDP  BMI_female  life  \\\n",
      "0  34811059.0       2.73  0.1   3.328945  24.59620  12314.0    129.9049  75.3   \n",
      "1  19842251.0       6.43  2.0   1.474353  22.25083   7103.0    130.1247  58.3   \n",
      "2  40381860.0       2.24  0.5   4.785170  27.50170  14646.0    118.8915  75.5   \n",
      "3   2975029.0       1.40  0.1   1.804106  25.35542   7383.0    132.8108  72.5   \n",
      "4  21370348.0       1.96  0.1  18.016313  27.56373  41312.0    117.3755  81.5   \n",
      "\n",
      "   child_mortality                      Region  \n",
      "0             29.5  Middle East & North Africa  \n",
      "1            192.0          Sub-Saharan Africa  \n",
      "2             15.4                     America  \n",
      "3             20.0       Europe & Central Asia  \n",
      "4              5.2         East Asia & Pacific  \n"
     ]
    }
   ],
   "source": [
    "#example: gapminder\n",
    "# Read 'gapminder.csv' into a DataFrame: df\n",
    "df_all = pd.read_csv(\"../Machine_Learning_basics/data/gm_2008_region.csv\")\n",
    "\n",
    "# Create a boxplot of life expectancy per region\n",
    "df_all.boxplot(\"life\", \"Region\", rot=60)\n",
    "\n",
    "# Show the plot\n",
    "plt.show()\n",
    "\n",
    "print(df_all.head())"
   ]
  },
  {
   "cell_type": "markdown",
   "metadata": {},
   "source": [
    "scikit-learn does not accept non-numerical features. You saw in the previous exercise that the 'Region' feature contains very useful information that can predict life expectancy. For example, Sub-Saharan Africa has a lower life expectancy compared to Europe and Central Asia. Therefore, if you are trying to predict life expectancy, it would be preferable to retain the 'Region' feature."
   ]
  },
  {
   "cell_type": "code",
   "execution_count": 64,
   "metadata": {},
   "outputs": [
    {
     "name": "stdout",
     "output_type": "stream",
     "text": [
      "Index(['population', 'fertility', 'HIV', 'CO2', 'BMI_male', 'GDP',\n",
      "       'BMI_female', 'life', 'child_mortality', 'Region_America',\n",
      "       'Region_East Asia & Pacific', 'Region_Europe & Central Asia',\n",
      "       'Region_Middle East & North Africa', 'Region_South Asia',\n",
      "       'Region_Sub-Saharan Africa'],\n",
      "      dtype='object')\n",
      "Index(['population', 'fertility', 'HIV', 'CO2', 'BMI_male', 'GDP',\n",
      "       'BMI_female', 'life', 'child_mortality', 'Region_East Asia & Pacific',\n",
      "       'Region_Europe & Central Asia', 'Region_Middle East & North Africa',\n",
      "       'Region_South Asia', 'Region_Sub-Saharan Africa'],\n",
      "      dtype='object')\n"
     ]
    }
   ],
   "source": [
    "# Create dummy variables: df_region\n",
    "df_region = pd.get_dummies(df_all)\n",
    "\n",
    "# Print the columns of df_region\n",
    "print(df_region.columns)\n",
    "\n",
    "# Create dummy variables with drop_first=True: df_region\n",
    "# drop the redundant\n",
    "df_region = pd.get_dummies(df_all,drop_first=True)\n",
    "\n",
    "# Print the new columns of df_region\n",
    "print(df_region.columns)"
   ]
  },
  {
   "cell_type": "code",
   "execution_count": 65,
   "metadata": {},
   "outputs": [
    {
     "name": "stdout",
     "output_type": "stream",
     "text": [
      "[0.86808336 0.80623545 0.84004203 0.7754344  0.87503712]\n"
     ]
    }
   ],
   "source": [
    "from sklearn.linear_model import Ridge\n",
    "from sklearn.model_selection import cross_val_score\n",
    "\n",
    "y = df_region[\"life\"].values\n",
    "X = df_region.drop(\"life\", axis = 1).values\n",
    "\n",
    "# Instantiate a ridge regressor: ridge\n",
    "ridge = Ridge(alpha=0.5,normalize=True)\n",
    "\n",
    "# Perform 5-fold cross-validation: ridge_cv\n",
    "ridge_cv = cross_val_score(ridge,X,y,cv=5)\n",
    "\n",
    "# Print the cross-validated scores\n",
    "print(ridge_cv)\n"
   ]
  },
  {
   "cell_type": "markdown",
   "metadata": {},
   "source": [
    "### 9.2 Handling missing data\n",
    "\n",
    "Data is missing when there is no value for a given feature in a particular row.    \n",
    "Missig values can be encoded in many ways such as 0, ? or -1.    \n",
    "\n"
   ]
  },
  {
   "cell_type": "code",
   "execution_count": 66,
   "metadata": {},
   "outputs": [
    {
     "name": "stdout",
     "output_type": "stream",
     "text": [
      "<class 'pandas.core.frame.DataFrame'>\n",
      "RangeIndex: 768 entries, 0 to 767\n",
      "Data columns (total 9 columns):\n",
      "pregnancies    768 non-null int64\n",
      "glucose        768 non-null int64\n",
      "diastolic      768 non-null int64\n",
      "triceps        768 non-null int64\n",
      "insulin        768 non-null int64\n",
      "bmi            768 non-null float64\n",
      "dpf            768 non-null float64\n",
      "age            768 non-null int64\n",
      "diabetes       768 non-null int64\n",
      "dtypes: float64(2), int64(7)\n",
      "memory usage: 54.1 KB\n"
     ]
    }
   ],
   "source": [
    "df_diabetes = pd.read_csv(\"../Machine_Learning_basics/data/diabetes.csv\")\n",
    "df_diabetes.info()"
   ]
  },
  {
   "cell_type": "code",
   "execution_count": 67,
   "metadata": {},
   "outputs": [
    {
     "data": {
      "text/html": [
       "<div>\n",
       "<style scoped>\n",
       "    .dataframe tbody tr th:only-of-type {\n",
       "        vertical-align: middle;\n",
       "    }\n",
       "\n",
       "    .dataframe tbody tr th {\n",
       "        vertical-align: top;\n",
       "    }\n",
       "\n",
       "    .dataframe thead th {\n",
       "        text-align: right;\n",
       "    }\n",
       "</style>\n",
       "<table border=\"1\" class=\"dataframe\">\n",
       "  <thead>\n",
       "    <tr style=\"text-align: right;\">\n",
       "      <th></th>\n",
       "      <th>pregnancies</th>\n",
       "      <th>glucose</th>\n",
       "      <th>diastolic</th>\n",
       "      <th>triceps</th>\n",
       "      <th>insulin</th>\n",
       "      <th>bmi</th>\n",
       "      <th>dpf</th>\n",
       "      <th>age</th>\n",
       "      <th>diabetes</th>\n",
       "    </tr>\n",
       "  </thead>\n",
       "  <tbody>\n",
       "    <tr>\n",
       "      <th>0</th>\n",
       "      <td>6</td>\n",
       "      <td>148</td>\n",
       "      <td>72</td>\n",
       "      <td>35</td>\n",
       "      <td>0</td>\n",
       "      <td>33.6</td>\n",
       "      <td>0.627</td>\n",
       "      <td>50</td>\n",
       "      <td>1</td>\n",
       "    </tr>\n",
       "    <tr>\n",
       "      <th>1</th>\n",
       "      <td>1</td>\n",
       "      <td>85</td>\n",
       "      <td>66</td>\n",
       "      <td>29</td>\n",
       "      <td>0</td>\n",
       "      <td>26.6</td>\n",
       "      <td>0.351</td>\n",
       "      <td>31</td>\n",
       "      <td>0</td>\n",
       "    </tr>\n",
       "    <tr>\n",
       "      <th>2</th>\n",
       "      <td>8</td>\n",
       "      <td>183</td>\n",
       "      <td>64</td>\n",
       "      <td>0</td>\n",
       "      <td>0</td>\n",
       "      <td>23.3</td>\n",
       "      <td>0.672</td>\n",
       "      <td>32</td>\n",
       "      <td>1</td>\n",
       "    </tr>\n",
       "    <tr>\n",
       "      <th>3</th>\n",
       "      <td>1</td>\n",
       "      <td>89</td>\n",
       "      <td>66</td>\n",
       "      <td>23</td>\n",
       "      <td>94</td>\n",
       "      <td>28.1</td>\n",
       "      <td>0.167</td>\n",
       "      <td>21</td>\n",
       "      <td>0</td>\n",
       "    </tr>\n",
       "    <tr>\n",
       "      <th>4</th>\n",
       "      <td>0</td>\n",
       "      <td>137</td>\n",
       "      <td>40</td>\n",
       "      <td>35</td>\n",
       "      <td>168</td>\n",
       "      <td>43.1</td>\n",
       "      <td>2.288</td>\n",
       "      <td>33</td>\n",
       "      <td>1</td>\n",
       "    </tr>\n",
       "  </tbody>\n",
       "</table>\n",
       "</div>"
      ],
      "text/plain": [
       "   pregnancies  glucose  diastolic  triceps  insulin   bmi    dpf  age  \\\n",
       "0            6      148         72       35        0  33.6  0.627   50   \n",
       "1            1       85         66       29        0  26.6  0.351   31   \n",
       "2            8      183         64        0        0  23.3  0.672   32   \n",
       "3            1       89         66       23       94  28.1  0.167   21   \n",
       "4            0      137         40       35      168  43.1  2.288   33   \n",
       "\n",
       "   diabetes  \n",
       "0         1  \n",
       "1         0  \n",
       "2         1  \n",
       "3         0  \n",
       "4         1  "
      ]
     },
     "execution_count": 67,
     "metadata": {},
     "output_type": "execute_result"
    }
   ],
   "source": [
    "df_diabetes.head()"
   ]
  },
  {
   "cell_type": "code",
   "execution_count": 68,
   "metadata": {},
   "outputs": [
    {
     "name": "stdout",
     "output_type": "stream",
     "text": [
      "<class 'pandas.core.frame.DataFrame'>\n",
      "RangeIndex: 768 entries, 0 to 767\n",
      "Data columns (total 9 columns):\n",
      "pregnancies    768 non-null int64\n",
      "glucose        768 non-null int64\n",
      "diastolic      768 non-null int64\n",
      "triceps        541 non-null float64\n",
      "insulin        394 non-null float64\n",
      "bmi            757 non-null float64\n",
      "dpf            768 non-null float64\n",
      "age            768 non-null int64\n",
      "diabetes       768 non-null int64\n",
      "dtypes: float64(4), int64(5)\n",
      "memory usage: 54.1 KB\n"
     ]
    }
   ],
   "source": [
    "# make all these 0 entry NaN\n",
    "df_diabetes.insulin.replace(0,np.nan, inplace=True)\n",
    "df_diabetes.triceps.replace(0,np.nan, inplace=True)\n",
    "df_diabetes.bmi.replace(0,np.nan, inplace=True)\n",
    "df_diabetes.info()"
   ]
  },
  {
   "cell_type": "code",
   "execution_count": null,
   "metadata": {},
   "outputs": [],
   "source": [
    "# drop missing data, but too many row will be dropped\n",
    "df_diabetes = df_diabetes.dropna()\n"
   ]
  },
  {
   "cell_type": "code",
   "execution_count": 69,
   "metadata": {},
   "outputs": [
    {
     "name": "stderr",
     "output_type": "stream",
     "text": [
      "/Users/XavierTang/anaconda3/lib/python3.7/site-packages/sklearn/utils/deprecation.py:66: DeprecationWarning: Class Imputer is deprecated; Imputer was deprecated in version 0.20 and will be removed in 0.22. Import impute.SimpleImputer from sklearn instead.\n",
      "  warnings.warn(msg, category=DeprecationWarning)\n"
     ]
    }
   ],
   "source": [
    "# imputing missing data, i.e. educated guess\n",
    "# compute the mean of the non-missing entries\n",
    "# example using gapminder uses SimpleImputer\n",
    "from sklearn.preprocessing import Imputer\n",
    "\n",
    "# instantiate an instance of the Imputer\n",
    "# also known as transformers\n",
    "imp = Imputer(missing_values=\"NaN\", strategy=\"mean\", axis=0) #along col\n",
    "\n",
    "# transform data\n",
    "imp.fit(X)\n",
    "X = imp.transform(X)\n"
   ]
  },
  {
   "cell_type": "markdown",
   "metadata": {},
   "source": [
    "### 9.3 Imputing within a pipeline\n",
    "\n",
    "**The pipeline workflow**:      \n",
    "It is a repeatable way to go from raw data to trained model.     \n",
    "The pipeline object takes sequential list of steps where the output of one step is input to next step.      \n",
    "Each step is represented by a 2-turple, with a name for the step, that is simply a string, and an object that implements the .fit() and the .transform() methods.     \n",
    "You can have a sub pipeline as one of the steps.    \n",
    "The beauty of the pipline is that it encapsulates every transformation from raw data to a trained model.\n",
    "\n",
    "transform and then perform modelling with pipeline     \n",
    "Each step but the last one must be a transformer     \n",
    "Last step must be an estimator, such as a classifier or a regressor     \n"
   ]
  },
  {
   "cell_type": "code",
   "execution_count": 70,
   "metadata": {},
   "outputs": [
    {
     "name": "stderr",
     "output_type": "stream",
     "text": [
      "/Users/XavierTang/anaconda3/lib/python3.7/site-packages/sklearn/utils/deprecation.py:66: DeprecationWarning: Class Imputer is deprecated; Imputer was deprecated in version 0.20 and will be removed in 0.22. Import impute.SimpleImputer from sklearn instead.\n",
      "  warnings.warn(msg, category=DeprecationWarning)\n"
     ]
    }
   ],
   "source": [
    "from sklearn.pipeline import Pipeline\n",
    "from sklearn.preprocessing import Imputer\n",
    "\n",
    "imp = Imputer(missing_values=\"NaN\", strategy=\"mean\", axis=0) #along col\n",
    "logreg = LogisticRegression()\n",
    "\n",
    "#build the pipeline object\n",
    "# list of steps in the pipeline\n",
    "# each step is a 2-tuple containing the name you wish for the step and the estimator\n",
    "steps = [(\"imputation\", imp), (\"logistic_regression\",logreg)]\n",
    "\n",
    "#pass this list to the pipeline constructor\n",
    "pipeline = Pipeline(steps)\n",
    "\n",
    "X_train, X_test , y_train, y_test = train_test_split(X,y,test_size=0.3,random_state=42)\n",
    "\n",
    "#fit pipeline to trainset\n",
    "pipeline.fit(X_train, y_train)\n",
    "\n",
    "y_pred = pipeline.predict(X_test)\n",
    "\n",
    "pipeline.score(X_test, y_test)\n",
    "\n",
    "#See Voting dataset example below to see how pipeline works"
   ]
  },
  {
   "cell_type": "markdown",
   "metadata": {},
   "source": [
    "### 9.4 Centering and scaling\n",
    "\n",
    "Motivation:     \n",
    "From the red wine quality data set below, we see that features (like acidity, pH and alcohol content) have wide range. Target variable is quality in this case.      \n",
    "\n",
    "Many ML use some form of distance to inform them. If we have features on far larger scale, they can influence the model. e.g.k-NN uses distance explicitly.     \n",
    "\n",
    "We want features to be on a similar scale.     \n",
    "To achieve this, we do what is called normalizing (or scaling and centering)     \n",
    "\n",
    "There are several way to normalise data:     \n",
    "1) Standardisation: given any column, you can subtract the mean and divide by the variance so that all features are centerd around 0 and have variance 1.      \n",
    "2) Subtract the minimum and divide by the range of the data so that the normalised dataset has minimum 0 and maxmum 1.   \n",
    "3) Normalise so that data ranges from -1 to 1 instead.     \n",
    "\n"
   ]
  },
  {
   "cell_type": "code",
   "execution_count": 70,
   "metadata": {},
   "outputs": [
    {
     "name": "stdout",
     "output_type": "stream",
     "text": [
      "   fixed acidity  volatile acidity  citric acid  residual sugar  chlorides  \\\n",
      "0            7.4              0.70         0.00             1.9      0.076   \n",
      "1            7.8              0.88         0.00             2.6      0.098   \n",
      "2            7.8              0.76         0.04             2.3      0.092   \n",
      "3           11.2              0.28         0.56             1.9      0.075   \n",
      "4            7.4              0.70         0.00             1.9      0.076   \n",
      "\n",
      "   free sulfur dioxide  total sulfur dioxide  density    pH  sulphates  \\\n",
      "0                 11.0                  34.0   0.9978  3.51       0.56   \n",
      "1                 25.0                  67.0   0.9968  3.20       0.68   \n",
      "2                 15.0                  54.0   0.9970  3.26       0.65   \n",
      "3                 17.0                  60.0   0.9980  3.16       0.58   \n",
      "4                 11.0                  34.0   0.9978  3.51       0.56   \n",
      "\n",
      "   alcohol  quality  \n",
      "0      9.4        5  \n",
      "1      9.8        5  \n",
      "2      9.8        5  \n",
      "3      9.8        6  \n",
      "4      9.4        5  \n",
      "       fixed acidity  volatile acidity  citric acid  residual sugar  \\\n",
      "count    1599.000000       1599.000000  1599.000000     1599.000000   \n",
      "mean        8.319637          0.527821     0.270976        2.538806   \n",
      "std         1.741096          0.179060     0.194801        1.409928   \n",
      "min         4.600000          0.120000     0.000000        0.900000   \n",
      "25%         7.100000          0.390000     0.090000        1.900000   \n",
      "50%         7.900000          0.520000     0.260000        2.200000   \n",
      "75%         9.200000          0.640000     0.420000        2.600000   \n",
      "max        15.900000          1.580000     1.000000       15.500000   \n",
      "\n",
      "         chlorides  free sulfur dioxide  total sulfur dioxide      density  \\\n",
      "count  1599.000000          1599.000000           1599.000000  1599.000000   \n",
      "mean      0.087467            15.874922             46.467792     0.996747   \n",
      "std       0.047065            10.460157             32.895324     0.001887   \n",
      "min       0.012000             1.000000              6.000000     0.990070   \n",
      "25%       0.070000             7.000000             22.000000     0.995600   \n",
      "50%       0.079000            14.000000             38.000000     0.996750   \n",
      "75%       0.090000            21.000000             62.000000     0.997835   \n",
      "max       0.611000            72.000000            289.000000     1.003690   \n",
      "\n",
      "                pH    sulphates      alcohol      quality  \n",
      "count  1599.000000  1599.000000  1599.000000  1599.000000  \n",
      "mean      3.311113     0.658149    10.422983     5.636023  \n",
      "std       0.154386     0.169507     1.065668     0.807569  \n",
      "min       2.740000     0.330000     8.400000     3.000000  \n",
      "25%       3.210000     0.550000     9.500000     5.000000  \n",
      "50%       3.310000     0.620000    10.200000     6.000000  \n",
      "75%       3.400000     0.730000    11.100000     6.000000  \n",
      "max       4.010000     2.000000    14.900000     8.000000  \n"
     ]
    }
   ],
   "source": [
    "df_redwine = pd.read_csv(\"../Machine_Learning_basics/data/winequality-red.csv\",delimiter=\";\")\n",
    "print(df_redwine.head())\n",
    "print(df_redwine.describe())"
   ]
  },
  {
   "cell_type": "code",
   "execution_count": 71,
   "metadata": {},
   "outputs": [
    {
     "name": "stdout",
     "output_type": "stream",
     "text": [
      "7.351244527829893\n",
      "3.208545966064839\n",
      "1.0842553316164131e-15\n",
      "1.0\n"
     ]
    }
   ],
   "source": [
    "#standardisation\n",
    "#scaling in scikit-learn\n",
    "from sklearn.preprocessing import scale\n",
    "\n",
    "X = df_redwine[[\"fixed acidity\",\"pH\",\"alcohol\"]].values\n",
    "y = df_redwine[\"quality\"].values\n",
    "#y = y.reshape(-1,1)\n",
    "\n",
    "X_scaled = scale(X)\n",
    "\n",
    "print(np.mean(X))\n",
    "print(np.std(X))\n",
    "print(np.mean(X_scaled))\n",
    "print(np.std(X_scaled))"
   ]
  },
  {
   "cell_type": "code",
   "execution_count": 74,
   "metadata": {},
   "outputs": [
    {
     "name": "stdout",
     "output_type": "stream",
     "text": [
      "0.54375\n",
      "0.55\n"
     ]
    }
   ],
   "source": [
    "# scaling in a pipeline\n",
    "# need standardScaler class\n",
    "from sklearn.preprocessing import StandardScaler\n",
    "from sklearn.neighbors import KNeighborsClassifier\n",
    "from sklearn.model_selection import train_test_split\n",
    "from sklearn.metrics import accuracy_score\n",
    "\n",
    "steps = [(\"scaler\",StandardScaler()),(\"knn\",KNeighborsClassifier())]\n",
    "\n",
    "pipeline = Pipeline(steps)\n",
    "\n",
    "X_train, X_test, y_train, y_test = train_test_split(X,y,test_size=0.2,random_state=21)\n",
    "\n",
    "knn_scaled = pipeline.fit(X_train,y_train)\n",
    "\n",
    "y_pred = pipeline.predict(X_test)\n",
    "\n",
    "print(accuracy_score(y_test, y_pred))\n",
    "\n",
    "#knn w/o scaling\n",
    "knn_unscaled = KNeighborsClassifier().fit(X_train,y_train)\n",
    "print(knn_unscaled.score(X_test,y_test))"
   ]
  },
  {
   "cell_type": "code",
   "execution_count": 83,
   "metadata": {},
   "outputs": [
    {
     "name": "stderr",
     "output_type": "stream",
     "text": [
      "/Users/XavierTang/anaconda3/lib/python3.7/site-packages/sklearn/model_selection/_split.py:1978: FutureWarning: The default value of cv will change from 3 to 5 in version 0.22. Specify it explicitly to silence this warning.\n",
      "  warnings.warn(CV_WARNING, FutureWarning)\n"
     ]
    },
    {
     "name": "stdout",
     "output_type": "stream",
     "text": [
      "{'knn__n_neighbors': 18}\n",
      "0.58125\n",
      "              precision    recall  f1-score   support\n",
      "\n",
      "           3       0.00      0.00      0.00         1\n",
      "           4       0.00      0.00      0.00        16\n",
      "           5       0.61      0.77      0.68       127\n",
      "           6       0.55      0.60      0.57       131\n",
      "           7       0.53      0.24      0.33        42\n",
      "           8       0.00      0.00      0.00         3\n",
      "\n",
      "    accuracy                           0.58       320\n",
      "   macro avg       0.28      0.27      0.26       320\n",
      "weighted avg       0.54      0.58      0.55       320\n",
      "\n"
     ]
    },
    {
     "name": "stderr",
     "output_type": "stream",
     "text": [
      "/Users/XavierTang/anaconda3/lib/python3.7/site-packages/sklearn/metrics/classification.py:1437: UndefinedMetricWarning: Precision and F-score are ill-defined and being set to 0.0 in labels with no predicted samples.\n",
      "  'precision', 'predicted', average, warn_for)\n"
     ]
    }
   ],
   "source": [
    "# search grid cross-validation with scaling in a pipeline\n",
    "# superised ML\n",
    "from sklearn.model_selection import GridSearchCV\n",
    "\n",
    "steps = [(\"scaler\",StandardScaler()),(\"knn\",KNeighborsClassifier())]\n",
    "pipeline = Pipeline(steps)\n",
    "\n",
    "# specific hyperparameter space by a dict\n",
    "# k: step name__hyperparameter name\n",
    "# v: list or array try for that hyperparameter\n",
    "parameters = {\"knn__n_neighbors\":np.arange(1,50)}\n",
    "\n",
    "#cv set and hold-out set\n",
    "X_train, X_test, y_train, y_test = train_test_split(X,y,test_size=0.2,random_state=21)\n",
    "\n",
    "#gridsearch\n",
    "cv = GridSearchCV(pipeline,param_grid=parameters)\n",
    "\n",
    "cv.fit(X_train,y_train)\n",
    "\n",
    "y_pred=cv.predict(X_test)\n",
    "\n",
    "print(cv.best_params_)\n",
    "print(cv.score(X_test,y_test))\n",
    "print(classification_report(y_test,y_pred))"
   ]
  },
  {
   "cell_type": "markdown",
   "metadata": {},
   "source": [
    "## Example: Voting dataset\n",
    "\n"
   ]
  },
  {
   "cell_type": "code",
   "execution_count": 49,
   "metadata": {},
   "outputs": [
    {
     "name": "stdout",
     "output_type": "stream",
     "text": [
      "        party infants water budget physician salvador religious satellite aid  \\\n",
      "0  republican       0     1      0         1        1         1         0   0   \n",
      "1  republican       0     1      0         1        1         1         0   0   \n",
      "2    democrat       ?     1      1         ?        1         1         0   0   \n",
      "3    democrat       0     1      1         0        ?         1         0   0   \n",
      "4    democrat       1     1      1         0        1         1         0   0   \n",
      "\n",
      "  missile immigration synfuels education superfund crime duty_free_exports  \\\n",
      "0       0           1        ?         1         1     1                 0   \n",
      "1       0           0        0         1         1     1                 0   \n",
      "2       0           0        1         0         1     1                 0   \n",
      "3       0           0        1         0         1     0                 0   \n",
      "4       0           0        1         ?         1     1                 1   \n",
      "\n",
      "  eaa_rsa  \n",
      "0       1  \n",
      "1       ?  \n",
      "2       0  \n",
      "3       1  \n",
      "4       1  \n"
     ]
    }
   ],
   "source": [
    "col_label = ['party', 'infants', 'water', 'budget', 'physician', 'salvador',\n",
    "       'religious', 'satellite', 'aid', 'missile', 'immigration', 'synfuels',\n",
    "       'education', 'superfund', 'crime', 'duty_free_exports', 'eaa_rsa']\n",
    "df_vote = pd.read_csv(\"../Machine_Learning_basics/data/house-votes-84.csv\",header=None, names=col_label)\n",
    "dict_label = {\"n\":0,\"y\":1}\n",
    "df_vote = df_vote.replace(dict_label)\n",
    "print(df_vote.head())"
   ]
  },
  {
   "cell_type": "code",
   "execution_count": 50,
   "metadata": {},
   "outputs": [
    {
     "name": "stdout",
     "output_type": "stream",
     "text": [
      "party                  0\n",
      "infants               12\n",
      "water                 48\n",
      "budget                11\n",
      "physician             11\n",
      "salvador              15\n",
      "religious             11\n",
      "satellite             14\n",
      "aid                   15\n",
      "missile               22\n",
      "immigration            7\n",
      "synfuels              21\n",
      "education             31\n",
      "superfund             25\n",
      "crime                 17\n",
      "duty_free_exports     28\n",
      "eaa_rsa              104\n",
      "dtype: int64\n",
      "Shape of Original DataFrame: (435, 17)\n",
      "Shape of DataFrame After Dropping All Rows with Missing Values: (232, 17)\n"
     ]
    },
    {
     "data": {
      "text/html": [
       "<div>\n",
       "<style scoped>\n",
       "    .dataframe tbody tr th:only-of-type {\n",
       "        vertical-align: middle;\n",
       "    }\n",
       "\n",
       "    .dataframe tbody tr th {\n",
       "        vertical-align: top;\n",
       "    }\n",
       "\n",
       "    .dataframe thead th {\n",
       "        text-align: right;\n",
       "    }\n",
       "</style>\n",
       "<table border=\"1\" class=\"dataframe\">\n",
       "  <thead>\n",
       "    <tr style=\"text-align: right;\">\n",
       "      <th></th>\n",
       "      <th>party</th>\n",
       "      <th>infants</th>\n",
       "      <th>water</th>\n",
       "      <th>budget</th>\n",
       "      <th>physician</th>\n",
       "      <th>salvador</th>\n",
       "      <th>religious</th>\n",
       "      <th>satellite</th>\n",
       "      <th>aid</th>\n",
       "      <th>missile</th>\n",
       "      <th>immigration</th>\n",
       "      <th>synfuels</th>\n",
       "      <th>education</th>\n",
       "      <th>superfund</th>\n",
       "      <th>crime</th>\n",
       "      <th>duty_free_exports</th>\n",
       "      <th>eaa_rsa</th>\n",
       "    </tr>\n",
       "  </thead>\n",
       "  <tbody>\n",
       "    <tr>\n",
       "      <th>0</th>\n",
       "      <td>democrat</td>\n",
       "      <td>0</td>\n",
       "      <td>1</td>\n",
       "      <td>1</td>\n",
       "      <td>0</td>\n",
       "      <td>1</td>\n",
       "      <td>1</td>\n",
       "      <td>0</td>\n",
       "      <td>0</td>\n",
       "      <td>0</td>\n",
       "      <td>0</td>\n",
       "      <td>0</td>\n",
       "      <td>0</td>\n",
       "      <td>1</td>\n",
       "      <td>1</td>\n",
       "      <td>1</td>\n",
       "      <td>1</td>\n",
       "    </tr>\n",
       "    <tr>\n",
       "      <th>1</th>\n",
       "      <td>republican</td>\n",
       "      <td>0</td>\n",
       "      <td>1</td>\n",
       "      <td>0</td>\n",
       "      <td>1</td>\n",
       "      <td>1</td>\n",
       "      <td>1</td>\n",
       "      <td>0</td>\n",
       "      <td>0</td>\n",
       "      <td>0</td>\n",
       "      <td>0</td>\n",
       "      <td>0</td>\n",
       "      <td>1</td>\n",
       "      <td>1</td>\n",
       "      <td>1</td>\n",
       "      <td>0</td>\n",
       "      <td>1</td>\n",
       "    </tr>\n",
       "    <tr>\n",
       "      <th>2</th>\n",
       "      <td>democrat</td>\n",
       "      <td>1</td>\n",
       "      <td>1</td>\n",
       "      <td>1</td>\n",
       "      <td>0</td>\n",
       "      <td>0</td>\n",
       "      <td>0</td>\n",
       "      <td>1</td>\n",
       "      <td>1</td>\n",
       "      <td>1</td>\n",
       "      <td>0</td>\n",
       "      <td>1</td>\n",
       "      <td>0</td>\n",
       "      <td>0</td>\n",
       "      <td>0</td>\n",
       "      <td>1</td>\n",
       "      <td>1</td>\n",
       "    </tr>\n",
       "    <tr>\n",
       "      <th>3</th>\n",
       "      <td>democrat</td>\n",
       "      <td>1</td>\n",
       "      <td>1</td>\n",
       "      <td>1</td>\n",
       "      <td>0</td>\n",
       "      <td>0</td>\n",
       "      <td>0</td>\n",
       "      <td>1</td>\n",
       "      <td>1</td>\n",
       "      <td>1</td>\n",
       "      <td>0</td>\n",
       "      <td>0</td>\n",
       "      <td>0</td>\n",
       "      <td>0</td>\n",
       "      <td>0</td>\n",
       "      <td>1</td>\n",
       "      <td>1</td>\n",
       "    </tr>\n",
       "    <tr>\n",
       "      <th>4</th>\n",
       "      <td>democrat</td>\n",
       "      <td>1</td>\n",
       "      <td>0</td>\n",
       "      <td>1</td>\n",
       "      <td>0</td>\n",
       "      <td>0</td>\n",
       "      <td>0</td>\n",
       "      <td>1</td>\n",
       "      <td>1</td>\n",
       "      <td>1</td>\n",
       "      <td>1</td>\n",
       "      <td>0</td>\n",
       "      <td>0</td>\n",
       "      <td>0</td>\n",
       "      <td>0</td>\n",
       "      <td>1</td>\n",
       "      <td>1</td>\n",
       "    </tr>\n",
       "  </tbody>\n",
       "</table>\n",
       "</div>"
      ],
      "text/plain": [
       "        party infants water budget physician salvador religious satellite aid  \\\n",
       "0    democrat       0     1      1         0        1         1         0   0   \n",
       "1  republican       0     1      0         1        1         1         0   0   \n",
       "2    democrat       1     1      1         0        0         0         1   1   \n",
       "3    democrat       1     1      1         0        0         0         1   1   \n",
       "4    democrat       1     0      1         0        0         0         1   1   \n",
       "\n",
       "  missile immigration synfuels education superfund crime duty_free_exports  \\\n",
       "0       0           0        0         0         1     1                 1   \n",
       "1       0           0        0         1         1     1                 0   \n",
       "2       1           0        1         0         0     0                 1   \n",
       "3       1           0        0         0         0     0                 1   \n",
       "4       1           1        0         0         0     0                 1   \n",
       "\n",
       "  eaa_rsa  \n",
       "0       1  \n",
       "1       1  \n",
       "2       1  \n",
       "3       1  \n",
       "4       1  "
      ]
     },
     "execution_count": 50,
     "metadata": {},
     "output_type": "execute_result"
    }
   ],
   "source": [
    "# Convert '?' to NaN\n",
    "df_vote[df_vote == '?'] = np.nan\n",
    "\n",
    "# Print the number of NaNs\n",
    "print(df_vote.isnull().sum())\n",
    "\n",
    "# Print shape of original DataFrame\n",
    "print(\"Shape of Original DataFrame: {}\".format(df_vote.shape))\n",
    "\n",
    "# Drop missing values and print shape of new DataFrame\n",
    "df_vote = df_vote.dropna()\n",
    "df_vote = df_vote.reset_index(drop=True)\n",
    "\n",
    "# Print shape of new DataFrame\n",
    "print(\"Shape of DataFrame After Dropping All Rows with Missing Values: {}\".format(df_vote.shape))\n",
    "\n",
    "df_vote.head()"
   ]
  },
  {
   "cell_type": "code",
   "execution_count": 51,
   "metadata": {},
   "outputs": [
    {
     "name": "stderr",
     "output_type": "stream",
     "text": [
      "/Users/XavierTang/anaconda3/lib/python3.7/site-packages/sklearn/utils/deprecation.py:66: DeprecationWarning: Class Imputer is deprecated; Imputer was deprecated in version 0.20 and will be removed in 0.22. Import impute.SimpleImputer from sklearn instead.\n",
      "  warnings.warn(msg, category=DeprecationWarning)\n"
     ]
    }
   ],
   "source": [
    "# Import the Imputer module\n",
    "from sklearn.preprocessing import Imputer\n",
    "from sklearn.svm import SVC\n",
    "\n",
    "# Setup the Imputation transformer: imp\n",
    "imp = Imputer(missing_values=\"NaN\", strategy=\"most_frequent\", axis=0)\n",
    "\n",
    "# Instantiate the SVC classifier: clf\n",
    "clf = SVC()\n",
    "\n",
    "# Setup the pipeline with the required steps: steps\n",
    "steps = [('imputation', imp),\n",
    "        ('SVM', clf)]"
   ]
  },
  {
   "cell_type": "code",
   "execution_count": 52,
   "metadata": {},
   "outputs": [],
   "source": [
    "X = df_vote.drop(\"party\",axis=1)\n",
    "y = df_vote[\"party\"]"
   ]
  },
  {
   "cell_type": "code",
   "execution_count": 53,
   "metadata": {},
   "outputs": [
    {
     "name": "stdout",
     "output_type": "stream",
     "text": [
      "              precision    recall  f1-score   support\n",
      "\n",
      "    democrat       0.97      0.97      0.97        36\n",
      "  republican       0.97      0.97      0.97        34\n",
      "\n",
      "    accuracy                           0.97        70\n",
      "   macro avg       0.97      0.97      0.97        70\n",
      "weighted avg       0.97      0.97      0.97        70\n",
      "\n"
     ]
    },
    {
     "name": "stderr",
     "output_type": "stream",
     "text": [
      "/Users/XavierTang/anaconda3/lib/python3.7/site-packages/sklearn/utils/deprecation.py:66: DeprecationWarning: Class Imputer is deprecated; Imputer was deprecated in version 0.20 and will be removed in 0.22. Import impute.SimpleImputer from sklearn instead.\n",
      "  warnings.warn(msg, category=DeprecationWarning)\n",
      "/Users/XavierTang/anaconda3/lib/python3.7/site-packages/sklearn/svm/base.py:193: FutureWarning: The default value of gamma will change from 'auto' to 'scale' in version 0.22 to account better for unscaled features. Set gamma explicitly to 'auto' or 'scale' to avoid this warning.\n",
      "  \"avoid this warning.\", FutureWarning)\n"
     ]
    }
   ],
   "source": [
    "from sklearn.pipeline import Pipeline\n",
    "from sklearn.model_selection import train_test_split\n",
    "from sklearn.metrics import classification_report\n",
    "\n",
    "# Setup the pipeline steps: steps\n",
    "steps = [('imputation', Imputer(missing_values='NaN', strategy='most_frequent', axis=0)),\n",
    "        ('SVM', SVC())]\n",
    "\n",
    "# Create the pipeline: pipeline\n",
    "pipeline = Pipeline(steps)\n",
    "\n",
    "# Create training and test sets\n",
    "X_train, X_test, y_train, y_test = train_test_split(X,y,test_size=0.3, random_state=42)\n",
    "\n",
    "# Fit the pipeline to the train set\n",
    "pipeline.fit(X_train,y_train)\n",
    "\n",
    "# Predict the labels of the test set\n",
    "y_pred = pipeline.predict(X_test)\n",
    "\n",
    "# Compute metrics\n",
    "print(classification_report(y_test, y_pred))\n"
   ]
  },
  {
   "cell_type": "markdown",
   "metadata": {},
   "source": [
    "## Example: white wine quality"
   ]
  },
  {
   "cell_type": "code",
   "execution_count": 84,
   "metadata": {},
   "outputs": [
    {
     "data": {
      "text/html": [
       "<div>\n",
       "<style scoped>\n",
       "    .dataframe tbody tr th:only-of-type {\n",
       "        vertical-align: middle;\n",
       "    }\n",
       "\n",
       "    .dataframe tbody tr th {\n",
       "        vertical-align: top;\n",
       "    }\n",
       "\n",
       "    .dataframe thead th {\n",
       "        text-align: right;\n",
       "    }\n",
       "</style>\n",
       "<table border=\"1\" class=\"dataframe\">\n",
       "  <thead>\n",
       "    <tr style=\"text-align: right;\">\n",
       "      <th></th>\n",
       "      <th>fixed acidity</th>\n",
       "      <th>volatile acidity</th>\n",
       "      <th>citric acid</th>\n",
       "      <th>residual sugar</th>\n",
       "      <th>chlorides</th>\n",
       "      <th>free sulfur dioxide</th>\n",
       "      <th>total sulfur dioxide</th>\n",
       "      <th>density</th>\n",
       "      <th>pH</th>\n",
       "      <th>sulphates</th>\n",
       "      <th>alcohol</th>\n",
       "      <th>quality</th>\n",
       "    </tr>\n",
       "  </thead>\n",
       "  <tbody>\n",
       "    <tr>\n",
       "      <th>0</th>\n",
       "      <td>7.0</td>\n",
       "      <td>0.27</td>\n",
       "      <td>0.36</td>\n",
       "      <td>20.7</td>\n",
       "      <td>0.045</td>\n",
       "      <td>45.0</td>\n",
       "      <td>170.0</td>\n",
       "      <td>1.0010</td>\n",
       "      <td>3.00</td>\n",
       "      <td>0.45</td>\n",
       "      <td>8.8</td>\n",
       "      <td>6</td>\n",
       "    </tr>\n",
       "    <tr>\n",
       "      <th>1</th>\n",
       "      <td>6.3</td>\n",
       "      <td>0.30</td>\n",
       "      <td>0.34</td>\n",
       "      <td>1.6</td>\n",
       "      <td>0.049</td>\n",
       "      <td>14.0</td>\n",
       "      <td>132.0</td>\n",
       "      <td>0.9940</td>\n",
       "      <td>3.30</td>\n",
       "      <td>0.49</td>\n",
       "      <td>9.5</td>\n",
       "      <td>6</td>\n",
       "    </tr>\n",
       "    <tr>\n",
       "      <th>2</th>\n",
       "      <td>8.1</td>\n",
       "      <td>0.28</td>\n",
       "      <td>0.40</td>\n",
       "      <td>6.9</td>\n",
       "      <td>0.050</td>\n",
       "      <td>30.0</td>\n",
       "      <td>97.0</td>\n",
       "      <td>0.9951</td>\n",
       "      <td>3.26</td>\n",
       "      <td>0.44</td>\n",
       "      <td>10.1</td>\n",
       "      <td>6</td>\n",
       "    </tr>\n",
       "    <tr>\n",
       "      <th>3</th>\n",
       "      <td>7.2</td>\n",
       "      <td>0.23</td>\n",
       "      <td>0.32</td>\n",
       "      <td>8.5</td>\n",
       "      <td>0.058</td>\n",
       "      <td>47.0</td>\n",
       "      <td>186.0</td>\n",
       "      <td>0.9956</td>\n",
       "      <td>3.19</td>\n",
       "      <td>0.40</td>\n",
       "      <td>9.9</td>\n",
       "      <td>6</td>\n",
       "    </tr>\n",
       "    <tr>\n",
       "      <th>4</th>\n",
       "      <td>7.2</td>\n",
       "      <td>0.23</td>\n",
       "      <td>0.32</td>\n",
       "      <td>8.5</td>\n",
       "      <td>0.058</td>\n",
       "      <td>47.0</td>\n",
       "      <td>186.0</td>\n",
       "      <td>0.9956</td>\n",
       "      <td>3.19</td>\n",
       "      <td>0.40</td>\n",
       "      <td>9.9</td>\n",
       "      <td>6</td>\n",
       "    </tr>\n",
       "  </tbody>\n",
       "</table>\n",
       "</div>"
      ],
      "text/plain": [
       "   fixed acidity  volatile acidity  citric acid  residual sugar  chlorides  \\\n",
       "0            7.0              0.27         0.36            20.7      0.045   \n",
       "1            6.3              0.30         0.34             1.6      0.049   \n",
       "2            8.1              0.28         0.40             6.9      0.050   \n",
       "3            7.2              0.23         0.32             8.5      0.058   \n",
       "4            7.2              0.23         0.32             8.5      0.058   \n",
       "\n",
       "   free sulfur dioxide  total sulfur dioxide  density    pH  sulphates  \\\n",
       "0                 45.0                 170.0   1.0010  3.00       0.45   \n",
       "1                 14.0                 132.0   0.9940  3.30       0.49   \n",
       "2                 30.0                  97.0   0.9951  3.26       0.44   \n",
       "3                 47.0                 186.0   0.9956  3.19       0.40   \n",
       "4                 47.0                 186.0   0.9956  3.19       0.40   \n",
       "\n",
       "   alcohol  quality  \n",
       "0      8.8        6  \n",
       "1      9.5        6  \n",
       "2     10.1        6  \n",
       "3      9.9        6  \n",
       "4      9.9        6  "
      ]
     },
     "execution_count": 84,
     "metadata": {},
     "output_type": "execute_result"
    }
   ],
   "source": [
    "pd_whitewine = pd.read_csv(\"../Machine_Learning_basics/data/white-wine.csv\")\n",
    "pd_whitewine.head()"
   ]
  },
  {
   "cell_type": "code",
   "execution_count": 89,
   "metadata": {},
   "outputs": [
    {
     "name": "stdout",
     "output_type": "stream",
     "text": [
      "[False False False ... False False False]\n",
      "[[ 7.    0.27  0.36 ...  3.    0.45  8.8 ]\n",
      " [ 6.3   0.3   0.34 ...  3.3   0.49  9.5 ]\n",
      " [ 8.1   0.28  0.4  ...  3.26  0.44 10.1 ]\n",
      " ...\n",
      " [ 6.5   0.24  0.19 ...  2.99  0.46  9.4 ]\n",
      " [ 5.5   0.29  0.3  ...  3.34  0.38 12.8 ]\n",
      " [ 6.    0.21  0.38 ...  3.26  0.32 11.8 ]]\n"
     ]
    }
   ],
   "source": [
    "y = (pd_whitewine[\"quality\"] < 5).map({True:True, False:False})\n",
    "y = y.values\n",
    "print(y)\n",
    "X = pd_whitewine.drop(\"quality\",axis=1).values\n",
    "print(X)"
   ]
  },
  {
   "cell_type": "code",
   "execution_count": 90,
   "metadata": {},
   "outputs": [
    {
     "name": "stdout",
     "output_type": "stream",
     "text": [
      "Accuracy with Scaling: 0.964625850340136\n",
      "Accuracy without Scaling: 0.9666666666666667\n"
     ]
    }
   ],
   "source": [
    "# Import the necessary modules\n",
    "from sklearn.preprocessing import StandardScaler\n",
    "from sklearn.pipeline import Pipeline\n",
    "\n",
    "# Setup the pipeline steps: steps\n",
    "steps = [('scaler', StandardScaler()),\n",
    "        ('knn', KNeighborsClassifier())]\n",
    "        \n",
    "# Create the pipeline: pipeline\n",
    "pipeline = Pipeline(steps)\n",
    "\n",
    "# Create train and test sets\n",
    "X_train, X_test, y_train, y_test = train_test_split(X,y,test_size=0.3,random_state=42)\n",
    "\n",
    "# Fit the pipeline to the training set: knn_scaled\n",
    "knn_scaled = pipeline.fit(X_train,y_train)\n",
    "\n",
    "# Instantiate and fit a k-NN classifier to the unscaled data\n",
    "knn_unscaled = KNeighborsClassifier().fit(X_train, y_train)\n",
    "\n",
    "# Compute and print metrics\n",
    "print('Accuracy with Scaling: {}'.format(knn_scaled.score(X_test,y_test)))\n",
    "print('Accuracy without Scaling: {}'.format(knn_unscaled.score(X_test,y_test)))\n"
   ]
  },
  {
   "cell_type": "markdown",
   "metadata": {},
   "source": [
    "Your job in this exercise is to build a pipeline that includes scaling and hyperparameter tuning to classify wine quality.        \n",
    "\n",
    "You'll return to using the SVM classifier you were briefly introduced to earlier in this chapter. The hyperparameters you will tune are C and gamma. C controls the regularization strength. It is analogous to the C you tuned for logistic regression, while gamma controls the kernel coefficient"
   ]
  },
  {
   "cell_type": "code",
   "execution_count": 92,
   "metadata": {},
   "outputs": [
    {
     "name": "stdout",
     "output_type": "stream",
     "text": [
      "Accuracy: 0.9693877551020408\n",
      "              precision    recall  f1-score   support\n",
      "\n",
      "       False       0.97      1.00      0.98       951\n",
      "        True       0.43      0.10      0.17        29\n",
      "\n",
      "    accuracy                           0.97       980\n",
      "   macro avg       0.70      0.55      0.58       980\n",
      "weighted avg       0.96      0.97      0.96       980\n",
      "\n",
      "Tuned Model Parameters: {'SVM__C': 100, 'SVM__gamma': 0.01}\n"
     ]
    }
   ],
   "source": [
    "# Setup the pipeline\n",
    "steps = [('scaler', StandardScaler()),\n",
    "         ('SVM', SVC())]\n",
    "\n",
    "pipeline = Pipeline(steps)\n",
    "\n",
    "# Specify the hyperparameter space\n",
    "parameters = {'SVM__C':[1, 10, 100],\n",
    "              'SVM__gamma':[0.1, 0.01]}\n",
    "\n",
    "# Create train and test sets\n",
    "X_train, X_test, y_train, y_test = train_test_split(X,y,test_size=0.2,random_state=21)\n",
    "\n",
    "# Instantiate the GridSearchCV object: cv\n",
    "cv = GridSearchCV(pipeline,param_grid=parameters,cv=3)\n",
    "\n",
    "# Fit to the training set\n",
    "cv.fit(X_train,y_train)\n",
    "\n",
    "# Predict the labels of the test set: y_pred\n",
    "y_pred = cv.predict(X_test)\n",
    "\n",
    "# Compute and print metrics\n",
    "print(\"Accuracy: {}\".format(cv.score(X_test, y_test)))\n",
    "print(classification_report(y_test, y_pred))\n",
    "print(\"Tuned Model Parameters: {}\".format(cv.best_params_))\n"
   ]
  },
  {
   "cell_type": "code",
   "execution_count": 97,
   "metadata": {},
   "outputs": [
    {
     "name": "stdout",
     "output_type": "stream",
     "text": [
      "   population  fertility  HIV        CO2  BMI_male      GDP  BMI_female  life  \\\n",
      "0  34811059.0       2.73  0.1   3.328945  24.59620  12314.0    129.9049  75.3   \n",
      "1  19842251.0       6.43  2.0   1.474353  22.25083   7103.0    130.1247  58.3   \n",
      "2  40381860.0       2.24  0.5   4.785170  27.50170  14646.0    118.8915  75.5   \n",
      "3   2975029.0       1.40  0.1   1.804106  25.35542   7383.0    132.8108  72.5   \n",
      "4  21370348.0       1.96  0.1  18.016313  27.56373  41312.0    117.3755  81.5   \n",
      "\n",
      "   child_mortality                      Region  \n",
      "0             29.5  Middle East & North Africa  \n",
      "1            192.0          Sub-Saharan Africa  \n",
      "2             15.4                     America  \n",
      "3             20.0       Europe & Central Asia  \n",
      "4              5.2         East Asia & Pacific  \n"
     ]
    }
   ],
   "source": [
    "# Read the CSV file into a DataFrame: df\n",
    "df_gap = pd.read_csv(\"../Machine_Learning_basics/data/gm_2008_region.csv\")\n",
    "print(df_gap.head())\n",
    "# Create arrays for features and target variable\n",
    "X = df_gap.drop([\"life\",\"Region\"],axis=1).values\n",
    "y = df_gap[\"life\"].values"
   ]
  },
  {
   "cell_type": "code",
   "execution_count": 105,
   "metadata": {},
   "outputs": [
    {
     "name": "stderr",
     "output_type": "stream",
     "text": [
      "/Users/XavierTang/anaconda3/lib/python3.7/site-packages/sklearn/linear_model/coordinate_descent.py:475: ConvergenceWarning: Objective did not converge. You might want to increase the number of iterations. Duality gap: 734.4148861851661, tolerance: 0.4518648363636364\n",
      "  positive)\n",
      "/Users/XavierTang/anaconda3/lib/python3.7/site-packages/sklearn/linear_model/coordinate_descent.py:475: ConvergenceWarning: Objective did not converge. You might want to increase the number of iterations. Duality gap: 762.6366738748761, tolerance: 0.5123628000000001\n",
      "  positive)\n",
      "/Users/XavierTang/anaconda3/lib/python3.7/site-packages/sklearn/linear_model/coordinate_descent.py:475: ConvergenceWarning: Objective did not converge. You might want to increase the number of iterations. Duality gap: 763.990191410857, tolerance: 0.4854468571428572\n",
      "  positive)\n"
     ]
    },
    {
     "name": "stdout",
     "output_type": "stream",
     "text": [
      "Tuned ElasticNet Alpha: {'elasticnet__l1_ratio': 1.0}\n",
      "Tuned ElasticNet R squared: 0.8862016570888217\n"
     ]
    },
    {
     "name": "stderr",
     "output_type": "stream",
     "text": [
      "/Users/XavierTang/anaconda3/lib/python3.7/site-packages/sklearn/model_selection/_search.py:813: DeprecationWarning: The default of the `iid` parameter will change from True to False in version 0.22 and will be removed in 0.24. This will change numeric results when test-set sizes are unequal.\n",
      "  DeprecationWarning)\n"
     ]
    }
   ],
   "source": [
    "from sklearn.linear_model import ElasticNet\n",
    "from sklearn.impute import SimpleImputer\n",
    "# Setup the pipeline steps: steps\n",
    "steps = [('imputation', SimpleImputer(missing_values=np.nan, strategy='mean')),\n",
    "         ('scaler', StandardScaler()),\n",
    "         ('elasticnet', ElasticNet())]\n",
    "\n",
    "# Create the pipeline: pipeline \n",
    "pipeline = Pipeline(steps)\n",
    "\n",
    "# Specify the hyperparameter space\n",
    "parameters = {'elasticnet__l1_ratio':np.linspace(0,1,30)}\n",
    "\n",
    "# Create train and test sets\n",
    "X_train, X_test, y_train, y_test = train_test_split(X,y,test_size=0.4, random_state=42)\n",
    "\n",
    "# Create the GridSearchCV object: gm_cv\n",
    "gm_cv = GridSearchCV(pipeline,param_grid=parameters, cv=3)\n",
    "\n",
    "# Fit to the training set\n",
    "gm_cv.fit(X_train,y_train)\n",
    "\n",
    "# Compute and print the metrics\n",
    "r2 = gm_cv.score(X_test, y_test)\n",
    "print(\"Tuned ElasticNet Alpha: {}\".format(gm_cv.best_params_))\n",
    "print(\"Tuned ElasticNet R squared: {}\".format(r2))\n"
   ]
  },
  {
   "cell_type": "markdown",
   "metadata": {},
   "source": [
    "## 10. Log loss function\n",
    "\n",
    "It is a loss function and it is a measurement of error.    \n",
    "We want to minimise this error (unlike accuracy)    \n",
    "\n",
    "Log loss for **binary** classification:    \n",
    "actual value: y={1=yes,0=no}      \n",
    "prediction (**probability that the value is 1**): p      \n",
    "$\\text{log loss} = -\\frac{1}{N} \\sum^{N}_{i=1}(y_i \\log(p_i) + (1-y_i)\\log(1-p_i))$     \n",
    "\n",
    "For example:     \n",
    "1) True label = 0, but we predict 1 with p = 0.9 -> logloss = 2.3      \n",
    "2) True label = 1, but we predict 0 with p = 0.5 -> logloss = 0.69      \n",
    "\n",
    "It is better to be less confident than it is to be confident and wrong.     \n"
   ]
  },
  {
   "cell_type": "code",
   "execution_count": 106,
   "metadata": {},
   "outputs": [],
   "source": [
    "def compute_log_loss(predicted, actual, eps=1e-14):\n",
    "    \"\"\" Computes the logarithmic loss between predicted and \n",
    "    actual when these are 1D arrays.\n",
    "    \n",
    "    :param predicted: the predicted probability as floats between 0-1\n",
    "    :param actual: the actual binary labels, either 0 or 1\n",
    "    :param eps (optional): log(0) is inf, so we need to offset our predicted values slightly \n",
    "    from 0 or 1.\"\"\"\n",
    "    \n",
    "    predicted = np.clip(predicted, eps, 1-eps)\n",
    "    loss = -1 * np.mean(actual * np.log(predicted) + (1 - actual)*np.log(1 - predicted))\n",
    "    \n",
    "    return loss"
   ]
  },
  {
   "cell_type": "code",
   "execution_count": 110,
   "metadata": {},
   "outputs": [
    {
     "name": "stdout",
     "output_type": "stream",
     "text": [
      "2.302585092994046\n",
      "0.6931471805599453\n"
     ]
    }
   ],
   "source": [
    "print(compute_log_loss(predicted=0.9, actual=0))\n",
    "print(compute_log_loss(predicted=0.5, actual=1))"
   ]
  },
  {
   "cell_type": "code",
   "execution_count": 111,
   "metadata": {},
   "outputs": [
    {
     "name": "stdout",
     "output_type": "stream",
     "text": [
      "0.16251892949777494\n",
      "4.605170185988091\n",
      "0.7133498878774648\n"
     ]
    }
   ],
   "source": [
    "print(compute_log_loss(predicted=0.85, actual=1))\n",
    "print(compute_log_loss(predicted=0.99, actual=0))\n",
    "print(compute_log_loss(predicted=0.51, actual=0))"
   ]
  },
  {
   "cell_type": "markdown",
   "metadata": {},
   "source": [
    "## 11. Multi-class classification VS Multi-label classication AND Imbalanced dataset\n",
    "\n",
    "**Multiclass Classification**:   \n",
    "A classification task with more than two classes; e.g., classify a set of images of fruits which may be oranges, apples, or pears. Multi-class classification makes the assumption that each sample is assigned to one and only one label: a fruit can be either an apple or a pear but not both at the same time. This means that there is only 1 target variable (i.e. 1 label) in the table. (of course, with multiple features)        \n",
    "\n",
    "**Multi-label Classification**:\n",
    "multi-label classification are variants of the classification problem where *multiple labels* may be assigned to *each instance(data point)*. Multi-label classification is a generalization of multiclass classification, which is the single-label problem of categorizing instances into precisely one of more than two classes; in the multi-label problem there is no constraint on how many of the classes the instance can be assigned to. You can think of it as there are multiple target variable (the labels) assigend to each data point (each row in the table).          \n",
    "\n",
    "**Imbalacned dataset**:      \n",
    "Imbalanced data typically refers to a problem with classification problems where the classes are not represented equally. For example, you may have a 3-class classification problem of set of fruits to classify as oranges, apples or pears with total 100 instances . A total of 80 instances are labeled with Class-1 (Oranges), 10 instances with Class-2 (Apples) and the remaining 10 instances are labeled with Class-3 (Pears). This is an imbalanced dataset and the ratio of 8:1:1. Most classification data sets do not have exactly equal number of instances in each class, but a small difference often does not matter. There are problems where a class imbalance is not just common, it is expected. For example, in datasets like those that characterize fraudulent transactions are imbalanced. The vast majority of the transactions will be in the “Not-Fraud” class and a very small minority will be in the “Fraud” class.      \n",
    "\n",
    "\n",
    "**Splitting a multi-class dataset**:       \n",
    "Recall that we usually split our data into traning set and test set. For some of the multi-class dataset the simple train_test_split will not work. This is because some of the labels (target variable) only appear in a small fraction of the data set. If we split the dataset randomly, we may end up with labels in our test set that is not seen before in the training set.      \n",
    "We can use StratifiedShuffleSplit seen earlier as one of the argument in the train_test_split method. However, this scikit-learn function only works with 1 target variable. So a utility function can be used for this purpose (multilabel_train_test_split) to ensure all the class are represented in training and test set."
   ]
  },
  {
   "cell_type": "code",
   "execution_count": null,
   "metadata": {},
   "outputs": [],
   "source": [
    "#sample usage, Don't run, no data linked\n",
    "data_to_train = df[NUMERIC_COLUMNS] #subset df for features, X\n",
    "labels_to_use = pd.get_dummies(df[LABELS]) # get the target variable, y, in binary form\n",
    "X_trian, X_test, y_train, y_test = multilabel_trian_test_split(data_to_train, label_to_use, size=0.2, seed=123)"
   ]
  },
  {
   "cell_type": "code",
   "execution_count": null,
   "metadata": {},
   "outputs": [],
   "source": [
    "# OneVsRestClassifier\n",
    "# it treats each col of y independently\n",
    "# fits a separate classicier for each of the cols of y\n",
    "from sklearn.multiclass import OneVsRestClassifier\n",
    "from sklearn.linear_model import LogisticRegression\n",
    "\n",
    "clf = OneVsRestClassifier(LogisticRegression())\n",
    "clf.fit(X_train, y_train)"
   ]
  },
  {
   "cell_type": "code",
   "execution_count": null,
   "metadata": {},
   "outputs": [],
   "source": [
    "# full code for the utility function\n",
    "# provided by Peter Bull from DrivenData\n",
    "from warnings import warn\n",
    "\n",
    "import numpy as np\n",
    "import pandas as pd\n",
    "\n",
    "def multilabel_sample(y, size=1000, min_count=5, seed=None):\n",
    "    \"\"\" Takes a matrix of binary labels `y` and returns\n",
    "        the indices for a sample of size `size` if\n",
    "        `size` > 1 or `size` * len(y) if size =< 1.\n",
    "        The sample is guaranteed to have > `min_count` of\n",
    "        each label.\n",
    "    \"\"\"\n",
    "    try:\n",
    "        if (np.unique(y).astype(int) != np.array([0, 1])).any():\n",
    "            raise ValueError()\n",
    "    except (TypeError, ValueError):\n",
    "        raise ValueError('multilabel_sample only works with binary indicator matrices')\n",
    "\n",
    "    if (y.sum(axis=0) < min_count).any():\n",
    "        raise ValueError('Some classes do not have enough examples. Change min_count if necessary.')\n",
    "\n",
    "    if size <= 1:\n",
    "        size = np.floor(y.shape[0] * size)\n",
    "\n",
    "    if y.shape[1] * min_count > size:\n",
    "        msg = \"Size less than number of columns * min_count, returning {} items instead of {}.\"\n",
    "        warn(msg.format(y.shape[1] * min_count, size))\n",
    "        size = y.shape[1] * min_count\n",
    "\n",
    "    rng = np.random.RandomState(seed if seed is not None else np.random.randint(1))\n",
    "\n",
    "    if isinstance(y, pd.DataFrame):\n",
    "        choices = y.index\n",
    "        y = y.values\n",
    "    else:\n",
    "        choices = np.arange(y.shape[0])\n",
    "\n",
    "    sample_idxs = np.array([], dtype=choices.dtype)\n",
    "\n",
    "    # first, guarantee > min_count of each label\n",
    "    for j in range(y.shape[1]):\n",
    "        label_choices = choices[y[:, j] == 1]\n",
    "        label_idxs_sampled = rng.choice(label_choices, size=min_count, replace=False)\n",
    "        sample_idxs = np.concatenate([label_idxs_sampled, sample_idxs])\n",
    "\n",
    "    sample_idxs = np.unique(sample_idxs)\n",
    "\n",
    "    # now that we have at least min_count of each, we can just random sample\n",
    "    sample_count = int(size - sample_idxs.shape[0])\n",
    "\n",
    "    # get sample_count indices from remaining choices\n",
    "    remaining_choices = np.setdiff1d(choices, sample_idxs)\n",
    "    remaining_sampled = rng.choice(remaining_choices,\n",
    "                                   size=sample_count,\n",
    "                                   replace=False)\n",
    "\n",
    "    return np.concatenate([sample_idxs, remaining_sampled])\n",
    "\n",
    "\n",
    "def multilabel_sample_dataframe(df, labels, size, min_count=5, seed=None):\n",
    "    \"\"\" Takes a dataframe `df` and returns a sample of size `size` where all\n",
    "        classes in the binary matrix `labels` are represented at\n",
    "        least `min_count` times.\n",
    "    \"\"\"\n",
    "    idxs = multilabel_sample(labels, size=size, min_count=min_count, seed=seed)\n",
    "    return df.loc[idxs]\n",
    "\n",
    "\n",
    "def multilabel_train_test_split(X, Y, size, min_count=5, seed=None):\n",
    "    \"\"\" Takes a features matrix `X` and a label matrix `Y` and\n",
    "        returns (X_train, X_test, Y_train, Y_test) where all\n",
    "        classes in Y are represented at least `min_count` times.\n",
    "    \"\"\"\n",
    "    index = Y.index if isinstance(Y, pd.DataFrame) else np.arange(Y.shape[0])\n",
    "\n",
    "    test_set_idxs = multilabel_sample(Y, size=size, min_count=min_count, seed=seed)\n",
    "    train_set_idxs = np.setdiff1d(index, test_set_idxs)\n",
    "\n",
    "    test_set_mask = index.isin(test_set_idxs)\n",
    "    train_set_mask = ~test_set_mask\n",
    "\n",
    "    return (X[train_set_mask], X[test_set_mask], Y[train_set_mask], Y[test_set_mask])"
   ]
  },
  {
   "cell_type": "markdown",
   "metadata": {},
   "source": [
    "## 12. Natural Language Processing (NLP)\n",
    "\n",
    "When we have data that is text, we often want to process this text to create features for our algorithms. This is called NLP.      \n",
    "\n",
    "**Tokenisation**:     \n",
    "It is the process of splitting a long string into segments. Usually this means that taking a string and splitting it into a list of strings where we have one string for each word.     \n",
    "e.g. \"Naural Language Processing\" -> [\"Natural\",\"Language\",\"Processing\"]      \n",
    "e.g. \"PETRO-VEND FUEL AND FLUIDS\"      \n",
    "-> PETRO-VEND | Fuel | AND | FLUIDS (4 tokens)      \n",
    "(tokenise them on whitespace, that is split into words when there is space, tab or return)       \n",
    "-> PETRO | VEND | FUEL | AND | FLUIDS (5 tokens)      \n",
    "(tokenise them on whitespace and punctuation)     \n",
    "\n",
    "**Bag of words**:      \n",
    "\n",
    "Simplest way to represent text in a machine learning algorithm.       \n",
    "Discards information about grammar and word order and assumes that the number of times a word occurs is enough informaiton.    \n",
    "In scikit-learn we can use CountVectorizer():      \n",
    "It works by taking an array of strings and doing 3 things:        \n",
    "1) tokenise all of the strings     \n",
    "2) it makes note of all of the words that appear, which we call the vocabulary      \n",
    "3) it counts the number of times that each token in the vocabulary appears in every given row\n",
    "\n",
    "\n",
    "Count the number of times that a particular token appears in a row (like a dict).      \n",
    "Do not have information about word order.      \n",
    "\n",
    "**n-grams**:         \n",
    "\n",
    "In addition to a column for every token we see i.e. 1-gram:       \n",
    "PETRO | VEND | FUEL | AND | FLUIDS ->         \n",
    "[PETRO][VEND][FUEL][AND][FLUIDS]       \n",
    "and we maybe have a column for every ordered pair of two words: 2-gram:      \n",
    "PETRO | VEND | FUEL | AND | FLUIDS ->         \n",
    "[PETRO VEND][VEND FUEL][FUEL AND][AND FLUIDS] (4 token)     \n",
    "or n-grams       \n",
    "\n",
    "\n"
   ]
  },
  {
   "cell_type": "code",
   "execution_count": 13,
   "metadata": {},
   "outputs": [
    {
     "name": "stdout",
     "output_type": "stream",
     "text": [
      "    name Program_Description\n",
      "0  James    I have an apple \n",
      "1    Leo      This is sweet \n",
      "2    Kim       This is good \n",
      "There are 8 tokens in Program_Description if tokens are any non_whitespace\n",
      "['an', 'apple', 'good', 'have', 'i', 'is', 'sweet', 'this']\n",
      "There are 14 tokens in Program_Description if tokens are any non_whitespace\n",
      "['an', 'an apple', 'apple', 'good', 'have', 'have an', 'i', 'i have', 'is', 'is good', 'is sweet', 'sweet', 'this', 'this is']\n"
     ]
    }
   ],
   "source": [
    "# CountVectorizer\n",
    "from sklearn.feature_extraction.text import CountVectorizer\n",
    "import pandas as pd\n",
    "import re\n",
    "\n",
    "dict_try={\"name\":[\"James\",\"Leo\",\"Kim\"],\n",
    "         \"Program_Description\":[\"I have an apple \",\"This is sweet \",\"This is good \"]}\n",
    "df = pd.DataFrame(dict_try)\n",
    "print(df)\n",
    "# regular expression that does a split in whitespace\n",
    "TOKEN_BASICS = \"\\\\S+(?=\\\\s+)\"\n",
    "\n",
    "# make sure data has no NaN values, replace them with empty string\n",
    "df.Program_Description.fillna(\"\", inplace=True)\n",
    "\n",
    "# create the object, which can be used to create bag of words representation of text\n",
    "vec_basic = CountVectorizer(token_pattern=TOKEN_BASICS)\n",
    "# n-grams: include 1-gram and 2-gram in the vecotorisation\n",
    "vec_complex = CountVectorizer(token_pattern=TOKEN_BASICS, ngram_range=(1,2))\n",
    "\n",
    "\n",
    "# CountVectorizer object can be used with fit and transform pattern \n",
    "# fit will parse all of the strings for token and then create the vocabulary\n",
    "# vocab here means all the token appeared in the dataset\n",
    "vec_basic.fit(df.Program_Description)\n",
    "vec_complex.fit(df.Program_Description)\n",
    "msg = \"There are {} tokens in Program_Description if tokens are any non_whitespace\"\n",
    "print(msg.format(len(vec_basic.get_feature_names())))\n",
    "print(vec_basic.get_feature_names())\n",
    "print(msg.format(len(vec_complex.get_feature_names())))\n",
    "print(vec_complex.get_feature_names())\n",
    "#trans will tokenise the text and then product teh array of counts\n"
   ]
  },
  {
   "cell_type": "markdown",
   "metadata": {},
   "source": [
    "In order to get a bag-of-words representation for all of the text data in our DataFrame, you must first convert the text data in each row of the DataFrame into a single string.        \n",
    "\n",
    "In the previous block, this wasn't necessary because you only looked at one column of data, so each row was already just a single string. CountVectorizer expects each row to just be a single string, so in order to use all of the text columns, you'll need a method to turn a list of strings into a single string.          \n",
    "\n",
    "Here, you'll complete the function definition combine_text_columns(). When completed, this function will convert all training text data in your DataFrame to a single string per row that can be passed to the vectorizer object and made into a bag-of-words using the .fit_transform() method."
   ]
  },
  {
   "cell_type": "code",
   "execution_count": 2,
   "metadata": {},
   "outputs": [],
   "source": [
    "def combine_text_columns(data_frame, to_drop):\n",
    "    \"\"\" converts all text in each row of data_frame to single vector\n",
    "    to_drop expect a list of column name to drop\"\"\"\n",
    "    \n",
    "    # Drop non-text columns that are in the df\n",
    "    to_drop = set(to_drop) & set(data_frame.columns.tolist())\n",
    "    text_data = data_frame.drop(to_drop, axis=1)\n",
    "    \n",
    "    # Replace nans with blanks\n",
    "    text_data.fillna(\"\",inplace=True)\n",
    "    \n",
    "    # Join all text items in a row that have a space in between\n",
    "    return text_data.apply(lambda x: \" \".join(x), axis=1)"
   ]
  },
  {
   "cell_type": "code",
   "execution_count": 11,
   "metadata": {},
   "outputs": [
    {
     "name": "stdout",
     "output_type": "stream",
     "text": [
      "    name Program_Description    random\n",
      "0  James    I have an apple   This is \n",
      "1    Leo      This is sweet    A nice \n",
      "2    Kim       This is good       Bag \n",
      "There are 11 tokens in the dataset\n",
      "['an', 'apple', 'good', 'have', 'i', 'is', 'james', 'kim', 'leo', 'sweet', 'this']\n",
      "{'james': 6, 'i': 4, 'have': 3, 'an': 0, 'apple': 1, 'leo': 8, 'this': 10, 'is': 5, 'sweet': 9, 'kim': 7, 'good': 2}\n",
      "<class 'sklearn.feature_extraction.text.CountVectorizer'>\n"
     ]
    }
   ],
   "source": [
    "from sklearn.feature_extraction.text import CountVectorizer\n",
    "import pandas as pd\n",
    "import re\n",
    "\n",
    "dict_try={\"name\":[\"James\",\"Leo\",\"Kim\"],\n",
    "         \"Program_Description\":[\"I have an apple \",\"This is sweet \",\"This is good \"],\n",
    "         \"random\":[\"This is \",\"A nice \",\"Bag \"]}\n",
    "df = pd.DataFrame(dict_try)\n",
    "print(df)\n",
    "# regular expression that does a split in whitespace\n",
    "TOKENS_BASICS = \"\\\\S+(?=\\\\s+)\"\n",
    "\n",
    "# Instantiate basic CountVectorizer: vec_basic\n",
    "vec_basic = CountVectorizer(token_pattern=TOKENS_BASICS)\n",
    "\n",
    "# Create the text vector\n",
    "text_vector = combine_text_columns(df,[\"random\"]) #drop bag\n",
    "\n",
    "# Fit and transform vec_basic\n",
    "vec_basic.fit_transform(text_vector)\n",
    "\n",
    "# Print number of tokens of vec_basic\n",
    "print(\"There are {} tokens in the dataset\".format(len(vec_basic.get_feature_names())))\n",
    "print(vec_basic.get_feature_names())\n",
    "print(vec_basic.vocabulary_)"
   ]
  },
  {
   "cell_type": "markdown",
   "metadata": {},
   "source": [
    "## 13. Preprossing with multiple dtypes\n",
    "\n",
    "We would like to use *all* available features in one pipeline.     \n",
    "But we cannot just have a pipeline that has a CountVectorizer step, Imputation step and then a classifier.      \n",
    "Pipeline steps for numeric and texting preprocessing cannot follow each other. e.g. output of CountVectorizer cannot be input to Imputer. The CountVectorizer won't know what to do with the numeric columns and we dont want to perform imputation on the text columns.     \n",
    "\n",
    "In order to build the pipeline, we need to separately operate on the text columns and on the numeric collumns.     \n",
    "\n",
    "Soluitions: there are two tools we can use: **FunctionTransformer** and **FeatureUnion**.      \n",
    "\n",
    "**FunctionTransformer**:      \n",
    "Take a Python function and turn it into an object that the scikit-learn pipeline can understand.     \n",
    "We need to write two functions for pipeline preprocessing:     \n",
    "1) Takes the whole dataframe, and returns just the numeric columns      \n",
    "2) Take the whole dataframe and return just the text columns     \n",
    "We can build a separate pipeline for our numeric data and for our text data.     \n",
    "\n"
   ]
  },
  {
   "cell_type": "code",
   "execution_count": null,
   "metadata": {},
   "outputs": [],
   "source": [
    "# no data, don't run\n",
    "# First we use train_test_split on the entire data set\n",
    "X_train, X_test, y_train, y_test = train_test_split(sample_df[[\"numeric\",\"with_missing\",\"text\"]],pd.get_dummies(sample_df[\"label\"]),random_state=2)\n",
    "\n",
    "from sklearn.preprocessing import FunctionTransformer\n",
    "from sklearn.pipeline import FeatureUnion\n",
    "\n",
    "# next we create two function transformer object\n",
    "# these two func transformer obj let us set up separate pipeline that operate on the selected cols only\n",
    "# validete = False: tells sklearn it doesnt need to check with NaNs or validate the dtyps of the input\n",
    "get_text_data = FunctionTransformer(lambda x:x[\"text\"],validate=False) # return col \"text\"\n",
    "get_numeric_data = FunctionTransformer(lambda x:x[[\"numeric\",\"with_missing\"]],validate=False) # return col \"numeric\" and \"with_missing\"\n",
    "\n",
    "# We knew our text pipeline generate the array on the left, our text features\n",
    "# and our numerical pipeline generate the array on the right, our numeric features.\n",
    "# FeatureUnion puts these two sets of features together as a single array that will be the input to our classifier\n",
    "union = FeatureUnion([\n",
    "    (\"numeric\", numeric_pipeline),\n",
    "    (\"text\",text_pipeline)\n",
    "])\n",
    "\n",
    "# entire pipeline, which processes our text and numeric data to get text and numeric features\n",
    "numeric_pipeline = Pipeline([(\"selector\", get_numeric_data), (\"imputer\",Imputer())])\n",
    "text_pipeline = Pipeline([(\"selector\", get_text_data), (\"vectorizer\",CountVectorizer())])\n",
    "\n",
    "# create overall pipeline, which has two steps\n",
    "# first, the Feature union takes a list of obj, calls each one, and then concatenates the output into a wide array our of all the results\n",
    "# once we have this array of all our features, we can pass it to our classier\n",
    "pl = Pipeline([\n",
    "    (\"union\", FeatureUnion([\n",
    "        (\"numeric\", numeric_pipeline),\n",
    "        (\"text\", text_pipeline)\n",
    "    ])),\n",
    "    (\"clf\", OneVsRestClassifier(LogisticRegresson()))\n",
    "    ])\n",
    "\n",
    "# use fit method as usual\n",
    "pl.fit(X_train,y_train)\n",
    "\n",
    "# use score method as usual\n",
    "pipeline.score(X_test, y_test)\n"
   ]
  },
  {
   "cell_type": "markdown",
   "metadata": {},
   "source": [
    "## 14. Interaction terms\n",
    "\n",
    "We use bigrams (2-grams) to account for when words appear in certain order. However, what if terms are not next to each other ?      \n",
    "e.g. \"English Teacher for 2nd Grade\" and \"2nd Grade - budget for English teacher\"       \n",
    "If we want to identify this line itme as a staff position for an elementary school, it helps to know that both \"2nd grade\" and \"English teacher\" appear.     \n",
    "\n",
    "Interaction terms let us mathematically descirbe when tokens appear together.      \n",
    "\n",
    "**Interaction terms (coulping)** for simple linear model:      \n",
    "$\\beta_1 x_1 + \\beta_2 x_2 + \\beta_3(x_1 x_2)$         \n",
    "\n",
    "$x_1$ and $x_2$ represent whether or not a particular token appears in the row.       \n",
    "$\\beta$ are the coefficients represent how important that particular token is (weight).       \n",
    "the 3rd term is the interaction term. as $x_1$ and $x_2$ are either 0 or 1, when we multiply them, we only get 1 if both occur.     \n",
    "\n",
    "| $x_1$ | $x_2$ | $x_3$ |\n",
    "| ------| ------| -----|\n",
    "| 0 | 1 | $x_1 x_2 = 0\\times1 = 0$ |\n",
    "| 1| 1 | $x_1 x_2 = 1\\times1 = 1$ |      \n",
    "\n",
    "Adding interaction terms makes your X array grow exponentially.      \n",
    "Because of computational concerns, CountVectorizer returns an object called a sparse matrix to save memory.       \n",
    "Standard PolynominalFeaturess object is not compatible with a sparse matrix.      \n",
    "So a function is provided below that works with a sparse matrix, called SparseInteractions, only need to pass degree parameter to work."
   ]
  },
  {
   "cell_type": "code",
   "execution_count": 17,
   "metadata": {},
   "outputs": [
    {
     "data": {
      "text/plain": [
       "array([[0., 1., 0.],\n",
       "       [1., 1., 1.]])"
      ]
     },
     "execution_count": 17,
     "metadata": {},
     "output_type": "execute_result"
    }
   ],
   "source": [
    "# in scikit-learn this functionality is PolynomialFeatures\n",
    "from sklearn.preprocessing import PolynomialFeatures\n",
    "dict_try = {\"x1\":[0,1],\"x2\":[1,1]}\n",
    "df_try = pd.DataFrame(dict_try,index=[\"a\",\"b\"])\n",
    "#print(df_try)\n",
    "\n",
    "# we looked at multiplying 2 cols together to see if they co-occured, hence degree = 2\n",
    "# interaction_only = True: we dont need to multiply a col by itself\n",
    "# include_bias = False: no need to offset the y-axis\n",
    "# bias term allows model to haven non-zero y value when x-value is 0\n",
    "interaction = PolynomialFeatures(degree=2,interaction_only=True,include_bias=False)\n",
    "\n",
    "#the table as above\n",
    "interaction.fit_transform(df_try)"
   ]
  },
  {
   "cell_type": "code",
   "execution_count": null,
   "metadata": {},
   "outputs": [],
   "source": [
    "from itertools import combinations\n",
    "\n",
    "import numpy as np\n",
    "from scipy import sparse\n",
    "from sklearn.base import BaseEstimator, TransformerMixin\n",
    "\n",
    "\n",
    "class SparseInteractions(BaseEstimator, TransformerMixin):\n",
    "    def __init__(self, degree=2, feature_name_separator=\"_\"):\n",
    "        self.degree = degree\n",
    "        self.feature_name_separator = feature_name_separator\n",
    "\n",
    "    def fit(self, X, y=None):\n",
    "        return self\n",
    "\n",
    "    def transform(self, X):\n",
    "        if not sparse.isspmatrix_csc(X):\n",
    "            X = sparse.csc_matrix(X)\n",
    "\n",
    "        if hasattr(X, \"columns\"):\n",
    "            self.orig_col_names = X.columns\n",
    "        else:\n",
    "            self.orig_col_names = np.array([str(i) for i in range(X.shape[1])])\n",
    "\n",
    "        spi = self._create_sparse_interactions(X)\n",
    "        return spi\n",
    "\n",
    "    def get_feature_names(self):\n",
    "        return self.feature_names\n",
    "\n",
    "    def _create_sparse_interactions(self, X):\n",
    "        out_mat = []\n",
    "        self.feature_names = self.orig_col_names.tolist()\n",
    "\n",
    "        for sub_degree in range(2, self.degree + 1):\n",
    "            for col_ixs in combinations(range(X.shape[1]), sub_degree):\n",
    "                # add name for new column\n",
    "                name = self.feature_name_separator.join(self.orig_col_names[list(col_ixs)])\n",
    "                self.feature_names.append(name)\n",
    "\n",
    "                # get column multiplications value\n",
    "                out = X[:, col_ixs[0]]\n",
    "                for j in col_ixs[1:]:\n",
    "                    out = out.multiply(X[:, j])\n",
    "\n",
    "                out_mat.append(out)\n",
    "\n",
    "        return sparse.hstack([X] + out_mat)"
   ]
  },
  {
   "cell_type": "markdown",
   "metadata": {},
   "source": [
    "## 15. Hashing\n",
    "\n",
    "We need to balance adding new features with the computational cost of additional columns. e.g. adding n-grams will increase the size of the array.      \n",
    "\n",
    "Hashing is a way of increase memory efficiency without sacrificing too much model accuracy.     \n",
    "\n",
    "A hash function takes an input (in this case a token) and outputs a hash value:      \n",
    "PETRO -> 2954       \n",
    "VEND -> 9384      \n",
    "FUEL -> 4569      \n",
    "AND -> 1197      \n",
    "FLUIDS -> 8947      \n",
    "\n",
    "We explicitly state how many possible outputs the hashing function may have. e.g. we may say that we will only have 250 outputs of the hash function. The HashingVectorizer then maps every token to one of these 250 columns. Some columns will have multiple tokens that map to them (i.e. not 1-to-1 mapping). The original paper about the hasing function demonstrates that even if 2 tokens hash to the same value, there is very little effect on model accuracy in real world problems.      \n",
    "\n",
    "Hashing is good when we want to make array of features smaller (dimensionality reduction), and is particularly useful when we have large amount of text data."
   ]
  },
  {
   "cell_type": "code",
   "execution_count": 25,
   "metadata": {},
   "outputs": [
    {
     "name": "stdout",
     "output_type": "stream",
     "text": [
      "None\n"
     ]
    }
   ],
   "source": [
    "# instead of use CountVecotrizer() which gives the bag of words representation, use HashingVectorizer\n",
    "from sklearn.feature_extraction.text import HashingVectorizer\n",
    "\n",
    "TOKEN_BASICS = \"\\\\S+(?=\\\\s+)\"\n",
    "vec = HashingVectorizer(ngram_range=(1,2),token_pattern=TOKEN_BASICS,norm=None)\n",
    "\n",
    "dict_try={\"name\":[\"James\",\"Leo\",\"Kim\"],\n",
    "         \"Program_Description\":[\"I have an apple \",\"This is sweet \",\"This is good \"]}\n",
    "df = pd.DataFrame(dict_try)\n",
    "vec.fit(df.Program_Description)\n",
    "msg = \"There are {} tokens in Program_Description if tokens are any non_whitespace\"\n",
    "#print(msg.format(len(vec.get_stop_words())))\n",
    "print(vec.get_stop_words())"
   ]
  },
  {
   "cell_type": "markdown",
   "metadata": {},
   "source": [
    "## 16. Unsupervised learning\n",
    "\n",
    "Unsupervised learning is a class of machine learning technique for discovering patterns in data.      \n",
    "e.g. finding the natural \"cluster\" of customers based on their purchase histories (*clustering*) or searching for patterns and correlations among these purchases, and using these patterns to express the data in compressed form (*dimension reduction*).     \n",
    "\n",
    "Supervised vs unsupervised learning:      \n",
    "Supervised learning finds patterns for a prediction task.      \n",
    "e.g. measurement of tumors to classify them as benign or cancerous. The pattern discovery is guided or \"supervised\", so the patterns are as useful as possible for predicting the label: benign or cancerous.      \n",
    "\n",
    "Unsupervised learning is learning without labels. It is pure pattern discovery, unguided by a prediction task. \n",
    "\n"
   ]
  },
  {
   "cell_type": "markdown",
   "metadata": {},
   "source": [
    "## 16.1 some more terminology\n",
    "\n",
    "Dimension of the dataset = number of features (e.g. iris dataset, the samples are points in 4 dimensional space)      \n"
   ]
  },
  {
   "cell_type": "markdown",
   "metadata": {},
   "source": [
    "## 17. k-means clustering \n",
    "\n",
    "k-means finds a specified number of clusters in the samples. The number of clusters must be specified.      \n",
    "After training the model, if someone comes along with some new iris samples,k-means can determine to which clusters they belong without starting over.      \n",
    "k-means does this by remembering the mean (or average) of the samples in each cluster. These are called **centroids**.     \n",
    "New samples are assigned to cluster whose centroid is closest.     \n"
   ]
  },
  {
   "cell_type": "code",
   "execution_count": 4,
   "metadata": {},
   "outputs": [
    {
     "data": {
      "text/plain": [
       "array([0, 0, 0, 0, 0, 0, 0, 0, 0, 0, 0, 0, 0, 0, 0, 0, 0, 0, 0, 0, 0, 0,\n",
       "       0, 0, 0, 0, 0, 0, 0, 0, 0, 0, 0, 0, 0, 0, 0, 0, 0, 0, 0, 0, 0, 0,\n",
       "       0, 0, 0, 0, 0, 0, 1, 1, 1, 1, 1, 1, 1, 1, 1, 1, 1, 1, 1, 1, 1, 1,\n",
       "       1, 1, 1, 1, 1, 1, 1, 1, 1, 1, 1, 1, 1, 1, 1, 1, 1, 1, 1, 1, 1, 1,\n",
       "       1, 1, 1, 1, 1, 1, 1, 1, 1, 1, 1, 1, 2, 2, 2, 2, 2, 2, 2, 2, 2, 2,\n",
       "       2, 2, 2, 2, 2, 2, 2, 2, 2, 2, 2, 2, 2, 2, 2, 2, 2, 2, 2, 2, 2, 2,\n",
       "       2, 2, 2, 2, 2, 2, 2, 2, 2, 2, 2, 2, 2, 2, 2, 2, 2, 2])"
      ]
     },
     "execution_count": 4,
     "metadata": {},
     "output_type": "execute_result"
    }
   ],
   "source": [
    "# from iris data set in sklearn, data and target from the dataset\n",
    "# they are in np array\n",
    "#iris.data\n",
    "#iris.target"
   ]
  },
  {
   "cell_type": "code",
   "execution_count": 21,
   "metadata": {},
   "outputs": [
    {
     "name": "stdout",
     "output_type": "stream",
     "text": [
      "[0 0 0 0 0 0 0 0 0 0 0 0 0 0 0 0 0 0 0 0 0 0 0 0 0 0 0 0 0 0 0 0 0 0 0 0 0\n",
      " 0 0 0 0 0 0 0 0 0 0 0 0 0 1 1 2 1 1 1 1 1 1 1 1 1 1 1 1 1 1 1 1 1 1 1 1 1\n",
      " 1 1 1 2 1 1 1 1 1 1 1 1 1 1 1 1 1 1 1 1 1 1 1 1 1 1 2 1 2 2 2 2 1 2 2 2 2\n",
      " 2 2 1 1 2 2 2 2 1 2 1 2 1 2 2 1 1 2 2 2 2 2 1 2 2 2 2 1 2 2 2 1 2 2 2 1 2\n",
      " 2 1]\n",
      "78.85144142614601\n"
     ]
    }
   ],
   "source": [
    "from sklearn.cluster import KMeans\n",
    "\n",
    "#create the kmeans model (instiate)\n",
    "#specifiy the number of cluster you want to find\n",
    "iris_sample = iris.data\n",
    "model = KMeans(n_clusters=3)\n",
    "\n",
    "#fits the model to the data by locating and rememberingthe regions where the differnt clusters occur\n",
    "model.fit(iris_sample)\n",
    "\n",
    "# use the predict method of the model on these same samples\n",
    "# this returns a cluster label for each sample, indicating to which cluster a sample belongs\n",
    "labels = model.predict(iris_sample)\n",
    "print(labels)\n",
    "\n",
    "print(model.inertia_)"
   ]
  },
  {
   "cell_type": "code",
   "execution_count": 4,
   "metadata": {},
   "outputs": [
    {
     "name": "stdout",
     "output_type": "stream",
     "text": [
      "[0 2 1]\n"
     ]
    }
   ],
   "source": [
    "#predict on new samples\n",
    "new_samples = np.array([[5.7,4.4,1.5,0.4],\n",
    "                      [6.5,3,5.5,1.8],\n",
    "                      [5.8,2.7,5.1,1.9]])\n",
    "\n",
    "new_labels = model.predict(new_samples)\n",
    "print(new_labels)"
   ]
  },
  {
   "cell_type": "code",
   "execution_count": 7,
   "metadata": {},
   "outputs": [
    {
     "data": {
      "image/png": "[encoded data removed]",
      "text/plain": [
       "<Figure size 432x288 with 1 Axes>"
      ]
     },
     "metadata": {
      "needs_background": "light"
     },
     "output_type": "display_data"
    }
   ],
   "source": [
    "xs = iris_sample[:,0] # sepal lengh\n",
    "ys = iris_sample[:,2] # petal length\n",
    "\n",
    "plt.scatter(xs,ys,c=labels) #color by cluster label\n",
    "\n",
    "# Assign the cluster centers: centroids\n",
    "centroids = model.cluster_centers_\n",
    "\n",
    "# Assign the columns of centroids: centroids_x, centroids_y\n",
    "centroids_x = centroids[:,0]\n",
    "centroids_y = centroids[:,2]\n",
    "\n",
    "# Make a scatter plot of centroids_x and centroids_y\n",
    "plt.scatter(centroids_x,centroids_y,marker=\"D\",s=50)\n",
    "\n",
    "plt.show()\n",
    "\n"
   ]
  },
  {
   "cell_type": "code",
   "execution_count": 6,
   "metadata": {},
   "outputs": [
    {
     "data": {
      "text/plain": [
       "array([[5.006     , 3.428     , 1.462     , 0.246     ],\n",
       "       [5.9016129 , 2.7483871 , 4.39354839, 1.43387097],\n",
       "       [6.85      , 3.07368421, 5.74210526, 2.07105263]])"
      ]
     },
     "execution_count": 6,
     "metadata": {},
     "output_type": "execute_result"
    }
   ],
   "source": [
    "centroids"
   ]
  },
  {
   "cell_type": "markdown",
   "metadata": {},
   "source": [
    "### 17.1 Evaluating the qualify of a clustering\n",
    "\n",
    "A direct approach is to compare the clusters with correspondence (e.g. iris species).       \n",
    "For iris data set, k-means found 3 clusters amongst the iris sample, and we can check do the clusters correspond to the species. Clusters vs species is a \"cross-tabulation\".      \n",
    "\n",
    "Another problem is to how to measure the quality of a clustering in a way that doesn't require our samples to come pre-grouped into species. Because in most datasets, the samples are not labelled by species. Once we do that, this measure of quality can then be used to to make an informed choice about the number of clusters to look for.     \n",
    "\n",
    "We need a way to measure the quality of a clustering that uses only the clusters and the samples themselves.       \n",
    "A good clustering has tight clusters, meaning the samples in each cluter are bunced together, not spread out.     \n",
    "\n",
    "**inertia**: a measure of how spread out the samples within each cluster are. Intuitively, inertia measures how far samples are from their centroids. We want clusters that are not spread out, so lower values of the interia are better. The inertia of a kmeans model is measured automatically when any of the the fit methods are called, and is availabe afterwards as the inertia attribute. In fact, kmeans aims to place clusters ina way that minimises the inertia.    \n",
    "\n",
    "Usually the inertia decreases with increasing number of cluster defined.      \n",
    "\n",
    "A good cluster has tight cluster (i.e. low inertia) but it also doesn't have too many clusters. A good rule is where inertia begins to decrease more slowly. "
   ]
  },
  {
   "cell_type": "code",
   "execution_count": 18,
   "metadata": {},
   "outputs": [],
   "source": [
    "iris_target_list = iris.target.tolist()\n",
    "dict_iris = {0:\"setosa\",1:\"versicolor\",2:\"virginca\"}\n",
    "iris_target_string_list = [dict_iris[x] for x in iris_target_list]"
   ]
  },
  {
   "cell_type": "code",
   "execution_count": 20,
   "metadata": {},
   "outputs": [
    {
     "name": "stdout",
     "output_type": "stream",
     "text": [
      "     labels   species\n",
      "0         0    setosa\n",
      "1         0    setosa\n",
      "2         0    setosa\n",
      "3         0    setosa\n",
      "4         0    setosa\n",
      "..      ...       ...\n",
      "145       2  virginca\n",
      "146       1  virginca\n",
      "147       2  virginca\n",
      "148       2  virginca\n",
      "149       1  virginca\n",
      "\n",
      "[150 rows x 2 columns]\n",
      "species  setosa  versicolor  virginca\n",
      "labels                               \n",
      "0            50           0         0\n",
      "1             0          48        14\n",
      "2             0           2        36\n"
     ]
    }
   ],
   "source": [
    "#create cross-tabulation\n",
    "#1st col: labels predicted (training set)\n",
    "#2nd col: true label from training set\n",
    "# so each row is a cluster label and species of a single sample\n",
    "df_crosstable = pd.DataFrame({\"labels\":labels, \"species\":iris_target_string_list})\n",
    "print(df_crosstable)\n",
    "ct = pd.crosstab(df_crosstable[\"labels\"],df_crosstable[\"species\"])\n",
    "print(ct)"
   ]
  },
  {
   "cell_type": "markdown",
   "metadata": {},
   "source": [
    "## Example: how many clusters of grain ?\n",
    "\n",
    "You are given an array samples containing the measurements (such as area, perimeter, length, and several others) of samples of grain. What's a good number of clusters in this case?"
   ]
  },
  {
   "cell_type": "code",
   "execution_count": 3,
   "metadata": {},
   "outputs": [
    {
     "data": {
      "text/html": [
       "<div>\n",
       "<style scoped>\n",
       "    .dataframe tbody tr th:only-of-type {\n",
       "        vertical-align: middle;\n",
       "    }\n",
       "\n",
       "    .dataframe tbody tr th {\n",
       "        vertical-align: top;\n",
       "    }\n",
       "\n",
       "    .dataframe thead th {\n",
       "        text-align: right;\n",
       "    }\n",
       "</style>\n",
       "<table border=\"1\" class=\"dataframe\">\n",
       "  <thead>\n",
       "    <tr style=\"text-align: right;\">\n",
       "      <th></th>\n",
       "      <th>0</th>\n",
       "      <th>1</th>\n",
       "      <th>2</th>\n",
       "      <th>3</th>\n",
       "      <th>4</th>\n",
       "      <th>5</th>\n",
       "      <th>6</th>\n",
       "    </tr>\n",
       "  </thead>\n",
       "  <tbody>\n",
       "    <tr>\n",
       "      <th>0</th>\n",
       "      <td>15.26</td>\n",
       "      <td>14.84</td>\n",
       "      <td>0.8710</td>\n",
       "      <td>5.763</td>\n",
       "      <td>3.312</td>\n",
       "      <td>2.221</td>\n",
       "      <td>5.220</td>\n",
       "    </tr>\n",
       "    <tr>\n",
       "      <th>1</th>\n",
       "      <td>14.88</td>\n",
       "      <td>14.57</td>\n",
       "      <td>0.8811</td>\n",
       "      <td>5.554</td>\n",
       "      <td>3.333</td>\n",
       "      <td>1.018</td>\n",
       "      <td>4.956</td>\n",
       "    </tr>\n",
       "    <tr>\n",
       "      <th>2</th>\n",
       "      <td>14.29</td>\n",
       "      <td>14.09</td>\n",
       "      <td>0.9050</td>\n",
       "      <td>5.291</td>\n",
       "      <td>3.337</td>\n",
       "      <td>2.699</td>\n",
       "      <td>4.825</td>\n",
       "    </tr>\n",
       "    <tr>\n",
       "      <th>3</th>\n",
       "      <td>13.84</td>\n",
       "      <td>13.94</td>\n",
       "      <td>0.8955</td>\n",
       "      <td>5.324</td>\n",
       "      <td>3.379</td>\n",
       "      <td>2.259</td>\n",
       "      <td>4.805</td>\n",
       "    </tr>\n",
       "    <tr>\n",
       "      <th>4</th>\n",
       "      <td>16.14</td>\n",
       "      <td>14.99</td>\n",
       "      <td>0.9034</td>\n",
       "      <td>5.658</td>\n",
       "      <td>3.562</td>\n",
       "      <td>1.355</td>\n",
       "      <td>5.175</td>\n",
       "    </tr>\n",
       "  </tbody>\n",
       "</table>\n",
       "</div>"
      ],
      "text/plain": [
       "       0      1       2      3      4      5      6\n",
       "0  15.26  14.84  0.8710  5.763  3.312  2.221  5.220\n",
       "1  14.88  14.57  0.8811  5.554  3.333  1.018  4.956\n",
       "2  14.29  14.09  0.9050  5.291  3.337  2.699  4.825\n",
       "3  13.84  13.94  0.8955  5.324  3.379  2.259  4.805\n",
       "4  16.14  14.99  0.9034  5.658  3.562  1.355  5.175"
      ]
     },
     "execution_count": 3,
     "metadata": {},
     "output_type": "execute_result"
    }
   ],
   "source": [
    "df_grain=pd.read_csv(\"../Machine_Learning_basics/data/Grains/seeds.csv\",header=None,usecols = [i for i in range(7)])\n",
    "df_grain.head()"
   ]
  },
  {
   "cell_type": "code",
   "execution_count": 4,
   "metadata": {},
   "outputs": [],
   "source": [
    "grain_array = df_grain.values"
   ]
  },
  {
   "cell_type": "code",
   "execution_count": 35,
   "metadata": {},
   "outputs": [
    {
     "data": {
      "image/png": "[encoded data removed]",
      "text/plain": [
       "<Figure size 432x288 with 1 Axes>"
      ]
     },
     "metadata": {
      "needs_background": "light"
     },
     "output_type": "display_data"
    }
   ],
   "source": [
    "ks = range(1, 6)\n",
    "inertias = []\n",
    "\n",
    "for k in ks:\n",
    "    # Create a KMeans instance with k clusters: model\n",
    "    model = KMeans(n_clusters=k)\n",
    "    \n",
    "    # Fit model to samples\n",
    "    model.fit(grain_array)\n",
    "    \n",
    "    # Append the inertia to the list of inertias\n",
    "    inertias.append(model.inertia_)\n",
    "    \n",
    "# Plot ks vs inertias\n",
    "plt.plot(ks, inertias, '-o')\n",
    "plt.xlabel('number of clusters, k')\n",
    "plt.ylabel('inertia')\n",
    "plt.xticks(ks)\n",
    "plt.show()"
   ]
  },
  {
   "cell_type": "code",
   "execution_count": 7,
   "metadata": {},
   "outputs": [],
   "source": [
    "df_grain_label=pd.read_csv(\"../Machine_Learning_basics/data/Grains/seeds.csv\",header=None,usecols = [7],squeeze=True)\n",
    "grain_label_list = df_grain_label.values.tolist()\n",
    "dict_grain = {1:\"Kama wheat\",2:\"Rosa wheat\",3:\"Canadian wheat\"}\n",
    "grain_label_string_list = [dict_grain[x] for x in grain_label_list]"
   ]
  },
  {
   "cell_type": "code",
   "execution_count": 49,
   "metadata": {},
   "outputs": [
    {
     "name": "stdout",
     "output_type": "stream",
     "text": [
      "varieties  Canadian wheat  Kama wheat  Rosa wheat\n",
      "labels                                           \n",
      "0                       2          60          10\n",
      "1                       0           1          60\n",
      "2                      68           9           0\n"
     ]
    }
   ],
   "source": [
    "# Create a KMeans model with 3 clusters: model\n",
    "model = KMeans(n_clusters=3)\n",
    "\n",
    "# Use fit_predict to fit model and obtain cluster labels: labels\n",
    "# .fit_predict is same as .fit() then .predict()\n",
    "labels = model.fit_predict(grain_array)\n",
    "\n",
    "# Create a DataFrame with labels and varieties as columns: df\n",
    "df = pd.DataFrame({'labels': labels, 'varieties': grain_label_string_list})\n",
    "\n",
    "# Create crosstab: ct\n",
    "ct = pd.crosstab(df[\"labels\"],df[\"varieties\"])\n",
    "\n",
    "# Display ct\n",
    "print(ct)\n",
    "\n"
   ]
  },
  {
   "cell_type": "markdown",
   "metadata": {},
   "source": [
    "### 17.2 Transforming features for better clusterings\n",
    "\n",
    "If the features of the dataset have very different variances (spread of its values), then we will have a problem to cluster dataset.       \n",
    "\n",
    "In Kmeans clustering, the variance of a feture corresponds to its influence on the clustering algorithm. To give every feature a chance, the data needs to be transformed so that features have equal variance.      \n",
    "\n",
    "**StandardScaler** transforms each feature to have mean 0 and variance 1.     \n",
    "\n",
    "You can create a StandardScaler object and use its .fit() method to fit it to the samples (training set). The transform method of this object can be used to standardize any samples (the same old training set, or new ones).     \n",
    "\n",
    "StandardScaler transforms the data, so use fit()/transform() method, (or fit_transform())            \n",
    "KMeans assigns cluster labels to sample with prediction, so use fit()/predict() method, (or fit_predict())        \n",
    "\n",
    "Similiar to StandardScaler, other preprocess method incluses **Normalizer**,  which rescales each sample independently of the other."
   ]
  },
  {
   "cell_type": "code",
   "execution_count": 17,
   "metadata": {},
   "outputs": [],
   "source": [
    "df_fish_sample = pd.read_csv(\"../Machine_Learning_basics/data/fish.csv\",header=None,usecols=[1,2,3,4,5,6])\n",
    "fish_sample_array = df_fish_sample.values"
   ]
  },
  {
   "cell_type": "code",
   "execution_count": 6,
   "metadata": {},
   "outputs": [],
   "source": [
    "df_fish_label = pd.read_csv(\"../Machine_Learning_basics/data/fish.csv\",header=None,usecols=[0],squeeze=True)\n",
    "fish_label_list = df_fish_label.tolist()"
   ]
  },
  {
   "cell_type": "code",
   "execution_count": 62,
   "metadata": {},
   "outputs": [],
   "source": [
    "# Perform the necessary imports\n",
    "from sklearn.pipeline import make_pipeline\n",
    "from sklearn.preprocessing import StandardScaler\n",
    "from sklearn.cluster import KMeans\n",
    "\n",
    "# Create scaler: scaler\n",
    "scaler = StandardScaler()\n",
    "\n",
    "# Create KMeans instance: kmeans\n",
    "kmeans = KMeans(n_clusters=4)\n",
    "\n",
    "# Create pipeline: pipeline\n",
    "pipeline = make_pipeline(scaler,kmeans)\n"
   ]
  },
  {
   "cell_type": "code",
   "execution_count": 63,
   "metadata": {},
   "outputs": [
    {
     "name": "stdout",
     "output_type": "stream",
     "text": [
      "species  Bream  Pike  Roach  Smelt\n",
      "labels                            \n",
      "0           33     0      1      0\n",
      "1            0     0      0     13\n",
      "2            0    17      0      0\n",
      "3            1     0     19      1\n"
     ]
    }
   ],
   "source": [
    "# Fit the pipeline to samples\n",
    "pipeline.fit(fish_sample_array)\n",
    "\n",
    "# Calculate the cluster labels: labels\n",
    "labels = pipeline.predict(fish_sample_array)\n",
    "\n",
    "# Create a DataFrame with labels and species as columns: df\n",
    "df = pd.DataFrame({\"labels\":labels,\"species\":fish_label_list})\n",
    "\n",
    "# Create crosstab: ct\n",
    "ct = pd.crosstab(df[\"labels\"],df[\"species\"])\n",
    "\n",
    "# Display ct\n",
    "print(ct)\n"
   ]
  },
  {
   "cell_type": "markdown",
   "metadata": {},
   "source": [
    "In this exercise, you'll cluster companies using their daily stock price movements (i.e. the dollar difference between the closing and opening prices for each trading day). The daily price movements from 2010 to 2015 (obtained from Yahoo! Finance), where each row corresponds to a company, and each column corresponds to a trading day is given.         \n",
    "\n",
    "Some stocks are more expensive than others. To account for this, include a Normalizer at the beginning of your pipeline. The Normalizer will separately transform each company's stock price to a relative scale before the clustering begins."
   ]
  },
  {
   "cell_type": "code",
   "execution_count": 3,
   "metadata": {},
   "outputs": [],
   "source": [
    "df_stock_value = pd.read_csv(\"../Machine_Learning_basics/data/company-stock-movements-2010-2015-incl.csv\").iloc[:, 1:]\n",
    "#print(df_stock_value.head())\n",
    "stock_value_array = df_stock_value.values"
   ]
  },
  {
   "cell_type": "code",
   "execution_count": 4,
   "metadata": {},
   "outputs": [],
   "source": [
    "df_stock_company = pd.read_csv(\"../Machine_Learning_basics/data/company-stock-movements-2010-2015-incl.csv\",usecols=[0],squeeze=True)\n",
    "stock_company_list = df_stock_company.tolist()"
   ]
  },
  {
   "cell_type": "code",
   "execution_count": 78,
   "metadata": {},
   "outputs": [
    {
     "data": {
      "text/plain": [
       "Pipeline(memory=None,\n",
       "         steps=[('normalizer', Normalizer(copy=True, norm='l2')),\n",
       "                ('kmeans',\n",
       "                 KMeans(algorithm='auto', copy_x=True, init='k-means++',\n",
       "                        max_iter=300, n_clusters=10, n_init=10, n_jobs=None,\n",
       "                        precompute_distances='auto', random_state=None,\n",
       "                        tol=0.0001, verbose=0))],\n",
       "         verbose=False)"
      ]
     },
     "execution_count": 78,
     "metadata": {},
     "output_type": "execute_result"
    }
   ],
   "source": [
    "# Import Normalizer\n",
    "from sklearn.preprocessing import Normalizer\n",
    "\n",
    "# Create a normalizer: normalizer\n",
    "normalizer = Normalizer()\n",
    "\n",
    "# Create a KMeans model with 10 clusters: kmeans\n",
    "kmeans = KMeans(n_clusters=10)\n",
    "\n",
    "# Make a pipeline chaining normalizer and kmeans: pipeline\n",
    "pipeline = make_pipeline(normalizer,kmeans)\n",
    "\n",
    "# Fit pipeline to the daily price movements\n",
    "pipeline.fit(stock_value_array)"
   ]
  },
  {
   "cell_type": "code",
   "execution_count": 79,
   "metadata": {},
   "outputs": [
    {
     "name": "stdout",
     "output_type": "stream",
     "text": [
      "    labels                           companies\n",
      "29       0                     Lookheed Martin\n",
      "50       0  Taiwan Semiconductor Manufacturing\n",
      "36       0                    Northrop Grumman\n",
      "30       0                          MasterCard\n",
      "20       0                          Home Depot\n",
      "59       0                               Yahoo\n",
      "3        0                    American express\n",
      "4        0                              Boeing\n",
      "28       1                           Coca Cola\n",
      "9        1                   Colgate-Palmolive\n",
      "31       1                           McDonalds\n",
      "38       1                               Pepsi\n",
      "41       1                       Philip Morris\n",
      "26       2                      JPMorgan Chase\n",
      "22       2                                  HP\n",
      "18       2                       Goldman Sachs\n",
      "5        2                     Bank of America\n",
      "15       2                                Ford\n",
      "1        2                                 AIG\n",
      "55       2                         Wells Fargo\n",
      "34       3                          Mitsubishi\n",
      "45       3                                Sony\n",
      "7        3                               Canon\n",
      "48       3                              Toyota\n",
      "21       3                               Honda\n",
      "14       4                                Dell\n",
      "47       4                            Symantec\n",
      "33       4                           Microsoft\n",
      "11       4                               Cisco\n",
      "0        5                               Apple\n",
      "17       5                     Google/Alphabet\n",
      "2        5                              Amazon\n",
      "43       6                                 SAP\n",
      "46       6                      Sanofi-Aventis\n",
      "49       6                               Total\n",
      "52       6                            Unilever\n",
      "42       6                   Royal Dutch Shell\n",
      "6        6            British American Tobacco\n",
      "19       6                     GlaxoSmithKline\n",
      "37       6                            Novartis\n",
      "24       7                               Intel\n",
      "23       7                                 IBM\n",
      "51       7                   Texas instruments\n",
      "39       8                              Pfizer\n",
      "40       8                      Procter Gamble\n",
      "27       8                      Kimberly-Clark\n",
      "25       8                   Johnson & Johnson\n",
      "56       8                            Wal-Mart\n",
      "54       8                            Walgreen\n",
      "35       9                            Navistar\n",
      "57       9                               Exxon\n",
      "8        9                         Caterpillar\n",
      "53       9                       Valero Energy\n",
      "16       9                   General Electrics\n",
      "12       9                             Chevron\n",
      "13       9                   DuPont de Nemours\n",
      "44       9                        Schlumberger\n",
      "58       9                               Xerox\n",
      "10       9                      ConocoPhillips\n",
      "32       9                                  3M\n"
     ]
    }
   ],
   "source": [
    "# which companys moves together ?\n",
    "\n",
    "# Predict the cluster labels: labels\n",
    "labels = pipeline.predict(stock_value_array)\n",
    "\n",
    "# Create a DataFrame aligning labels and companies: df\n",
    "df = pd.DataFrame({'labels': labels, 'companies': stock_company_list})\n",
    "\n",
    "# Display df sorted by cluster label\n",
    "print(df.sort_values(\"labels\"))"
   ]
  },
  {
   "cell_type": "markdown",
   "metadata": {},
   "source": [
    "## 18. Unsupervised technique for visualisations\n",
    "\n"
   ]
  },
  {
   "cell_type": "markdown",
   "metadata": {},
   "source": [
    "### 18.1 Hierarchical clustering\n",
    "\n",
    "Living things can be organised into small narrow groups, e.g. human, apes, snakes or into larger broader group like mammals and reptiles or even broader groups like animal and plants. These groups contains one another and form a hierarchy.    \n",
    "\n",
    "\n",
    "Analogously, hierarchical clustering arranges samples into a hierarchy of clusters.    \n",
    "\n",
    "Hierarchical clustering can organise any sort of data into a hierarchy, not just samples of plants and animals.      \n",
    "\n",
    "For one example, we consider Eurovision scoring dataset, where contries gave scores to songs performed at the Eurovision 2016. It is 2D array of scores: rows are countries, cols are songs.     \n",
    "\n",
    "The result of applying hierarchical clustering to the Eurovision scores can be visualised as a tree-like diagram called a \"dendrogram\".    \n",
    "\n",
    "Hierarchical clustering proceeds in steps:    \n",
    "1) every country is its own cluster: there are as many clusters as there are countries     \n",
    "2) at each step, the two closest clusters are merged       \n",
    "3) continue until there is only one cluster left, and it contains all the countries      \n",
    "\n",
    "This particular type of hierarchical clustering is called \"agglomerative\" (the opposite is called \"divisive clustering\").     \n",
    "\n"
   ]
  },
  {
   "cell_type": "code",
   "execution_count": 85,
   "metadata": {},
   "outputs": [
    {
     "data": {
      "image/png": "[encoded data removed]",
      "text/plain": [
       "<Figure size 432x288 with 1 Axes>"
      ]
     },
     "metadata": {
      "needs_background": "light"
     },
     "output_type": "display_data"
    }
   ],
   "source": [
    "from scipy.cluster.hierarchy import linkage, dendrogram\n",
    "\n",
    "mergings = linkage(grain_array, method = \"complete\") #this function performs hierarchical clustering\n",
    "dendrogram(mergings, labels = grain_label_string_list, leaf_rotation = 90, leaf_font_size=6)\n",
    "plt.show()"
   ]
  },
  {
   "cell_type": "code",
   "execution_count": 32,
   "metadata": {},
   "outputs": [
    {
     "data": {
      "image/png": "[encoded data removed]",
      "text/plain": [
       "<Figure size 432x288 with 1 Axes>"
      ]
     },
     "metadata": {
      "needs_background": "light"
     },
     "output_type": "display_data"
    }
   ],
   "source": [
    "# another example on stock\n",
    "#  SciPy hierarchical clustering doesn't fit into a sklearn pipeline, \n",
    "# so you'll need to use the normalize() function from sklearn.preprocessing instead of Normalizer\n",
    "# Import normalize\n",
    "from sklearn.preprocessing import normalize\n",
    "\n",
    "# Normalize the movements: normalized_movements\n",
    "normalized_movements = normalize(stock_value_array)\n",
    "\n",
    "# Calculate the linkage: mergings\n",
    "mergings = linkage(normalized_movements,method=\"complete\")\n",
    "\n",
    "# Plot the dendrogram\n",
    "dendrogram(mergings, labels = stock_company_list, leaf_rotation = 90, leaf_font_size=6)\n",
    "plt.show()\n"
   ]
  },
  {
   "cell_type": "markdown",
   "metadata": {},
   "source": [
    "## 18.1.1 Cluster labels in hierarchical clustering\n",
    "\n",
    "Hierarachical clustering is not only a visualisation tools, the cluster labels at any intermediate stage can be recovered. These cluster labels can then be used in further computation, such as cross tabulation, just like the cluster labels from k-means.      \n",
    "\n",
    "An intermediate stage in the hierarchical clustering is specified by choosing a height on the dendrogram. This height can be checked on the dendrogram on the y-axis. An joint below the height are belong to the clustering.      \n",
    "\n",
    "What is the meaning of the height?       \n",
    "The y-axis of the dendrogram encodes the distance between merging clusters.     \n",
    "\n",
    "Height on dendrogram specifies maximum distance between merging clusters. The height that specifies an intermediate clustering corresponds to a distance. This specifies that the hierarchical clustering should stop merging clusters when all clusters are at least this far apart.     \n",
    "\n",
    "The distance between two clusters is measured using a \"linkage method\". Here we used \"complete\" linkage, where the distance between two clusters is the maximum of the distance between their samples. i.e. In complete linkage, the distance between clusters is the distance between the furthest points of the clusters.           \n",
    "\n",
    "The cluster labels for any intermediate stage of the hierarchical clustering can be extracted using fcluster function. It returns a NumPy array of cluster labels. "
   ]
  },
  {
   "cell_type": "code",
   "execution_count": 13,
   "metadata": {},
   "outputs": [
    {
     "name": "stdout",
     "output_type": "stream",
     "text": [
      "[1 3 2 3 5 3 6 3 3 4 3 1 3 3 1 3 3 2 3 6 4 3 1 3 1 6 3 4 4 5 6 6 3 1 3 3 5\n",
      " 6 4 6 4 4 6 6 3 3 6 1 3 6 1 1 6 3 5 3 4 3 3 2]\n",
      "    labels                             company\n",
      "0        1                               Apple\n",
      "51       1                   Texas instruments\n",
      "50       1  Taiwan Semiconductor Manufacturing\n",
      "47       1                            Symantec\n",
      "33       1                           Microsoft\n",
      "24       1                               Intel\n",
      "22       1                                  HP\n",
      "14       1                                Dell\n",
      "11       1                               Cisco\n",
      "17       2                     Google/Alphabet\n",
      "59       2                               Yahoo\n",
      "2        2                              Amazon\n",
      "35       3                            Navistar\n",
      "44       3                        Schlumberger\n",
      "10       3                      ConocoPhillips\n",
      "34       3                          Mitsubishi\n",
      "45       3                                Sony\n",
      "32       3                                  3M\n",
      "3        3                    American express\n",
      "48       3                              Toyota\n",
      "58       3                               Xerox\n",
      "1        3                                 AIG\n",
      "26       3                      JPMorgan Chase\n",
      "53       3                       Valero Energy\n",
      "5        3                     Bank of America\n",
      "23       3                                 IBM\n",
      "55       3                         Wells Fargo\n",
      "21       3                               Honda\n",
      "57       3                               Exxon\n",
      "18       3                       Goldman Sachs\n",
      "7        3                               Canon\n",
      "16       3                   General Electrics\n",
      "15       3                                Ford\n",
      "8        3                         Caterpillar\n",
      "13       3                   DuPont de Nemours\n",
      "12       3                             Chevron\n",
      "56       4                            Wal-Mart\n",
      "41       4                       Philip Morris\n",
      "40       4                      Procter Gamble\n",
      "9        4                   Colgate-Palmolive\n",
      "38       4                               Pepsi\n",
      "20       4                          Home Depot\n",
      "27       4                      Kimberly-Clark\n",
      "28       4                           Coca Cola\n",
      "54       5                            Walgreen\n",
      "29       5                     Lookheed Martin\n",
      "36       5                    Northrop Grumman\n",
      "4        5                              Boeing\n",
      "46       6                      Sanofi-Aventis\n",
      "31       6                           McDonalds\n",
      "30       6                          MasterCard\n",
      "39       6                              Pfizer\n",
      "43       6                                 SAP\n",
      "52       6                            Unilever\n",
      "25       6                   Johnson & Johnson\n",
      "42       6                   Royal Dutch Shell\n",
      "6        6            British American Tobacco\n",
      "37       6                            Novartis\n",
      "19       6                     GlaxoSmithKline\n",
      "49       6                               Total\n"
     ]
    }
   ],
   "source": [
    "from sklearn.preprocessing import normalize\n",
    "from scipy.cluster.hierarchy import linkage, dendrogram\n",
    "\n",
    "# Normalize the movements: normalized_movements\n",
    "normalized_movements = normalize(stock_value_array)\n",
    "\n",
    "# Calculate the linkage: mergings\n",
    "mergings = linkage(normalized_movements,method=\"complete\")\n",
    "\n",
    "from scipy.cluster.hierarchy import fcluster\n",
    "\n",
    "#return array containing the cluster labels for the company\n",
    "cluster_labels = fcluster(mergings, 1.2,criterion=\"distance\")\n",
    "print(cluster_labels)\n",
    "\n",
    "# to inspace the cluster labels, we need alght cluster labels with company name\n",
    "pairs = pd.DataFrame({\"labels\":cluster_labels, \"company\":stock_company_list})\n",
    "\n",
    "print(pairs.sort_values(\"labels\"))"
   ]
  },
  {
   "cell_type": "code",
   "execution_count": 21,
   "metadata": {},
   "outputs": [
    {
     "name": "stdout",
     "output_type": "stream",
     "text": [
      "     labels       varieties\n",
      "0         2      Kama wheat\n",
      "1         2      Kama wheat\n",
      "2         2      Kama wheat\n",
      "3         2      Kama wheat\n",
      "4         2      Kama wheat\n",
      "..      ...             ...\n",
      "205       3  Canadian wheat\n",
      "206       3  Canadian wheat\n",
      "207       3  Canadian wheat\n",
      "208       3  Canadian wheat\n",
      "209       3  Canadian wheat\n",
      "\n",
      "[210 rows x 2 columns]\n",
      "varieties  Canadian wheat  Kama wheat  Rosa wheat\n",
      "labels                                           \n",
      "1                       0           0          47\n",
      "2                       0          52          23\n",
      "3                      70          18           0\n"
     ]
    }
   ],
   "source": [
    "#grain example again, at height = 8 there are 3 cluster\n",
    "# we get the cluster label for this intermediate clustering, and comapre with labels witht eh grain varietid using cross\n",
    "#tabulation\n",
    "from scipy.cluster.hierarchy import linkage, dendrogram\n",
    "\n",
    "mergings = linkage(grain_array, method = \"complete\") #this function performs hierarchical clustering\n",
    "# Use fcluster to extract labels: labels\n",
    "grain_labels = fcluster(mergings,8,criterion=\"distance\")\n",
    "\n",
    "# Create a DataFrame with labels and varieties as columns: df\n",
    "df_grain_compare = pd.DataFrame({'labels': grain_labels, 'varieties': grain_label_string_list})\n",
    "\n",
    "# Create crosstab: ct\n",
    "ct = pd.crosstab(df_grain_compare[\"labels\"],df_grain_compare[\"varieties\"])\n",
    "\n",
    "# Display ct\n",
    "print(df_grain_compare)\n",
    "print(ct)\n",
    "\n"
   ]
  },
  {
   "cell_type": "markdown",
   "metadata": {},
   "source": [
    "### 18.2 t-SNE \n",
    "\n",
    "Stands for: t-distributed stochastic neightbor embedding      \n",
    "\n",
    "It maps samples from their high-dimensional space into a 2-d or 3d- space so they can be visualised.    \n",
    "\n",
    "Creates a 2D map of a dataset and converys useful information about the proximity of the samples to one another.       \n",
    "\n",
    "Map approximately preserves nearness of samples.      \n",
    "\n",
    "e.g. iris dataset has 4 measurement, therefore the samples are 4-dimensional.    \n",
    "t-SNE was given only the measurements of the iris samples, and in particular it wasn't given any information about the three species of iris. If we color species differently on the scatter plot, we see that t-SNE has kept the species separate.      \n",
    "\"versicolor and \"virginica\" is harder to distinguish from one another.      \n",
    "\n",
    "t-SNE has only fit_transform() method, no separate method -> you cannot extend the map to include new data samples.     \n",
    "\n",
    "The learning rate makes the use of t-SNE more complicated than some other techniques, this number needs to be tuned:        \n",
    "wrong choice: points bunch together in the scatter plot, usually the values is between 50-200.     \n",
    "\n",
    "The axis of a t-SNE plot do not have any interpretable meaning. **The graph change each time with same code and data**       \n",
    "The variatey (or color) have same position relative to one another.     \n",
    "\n"
   ]
  },
  {
   "cell_type": "code",
   "execution_count": 31,
   "metadata": {},
   "outputs": [
    {
     "data": {
      "image/png": "[encoded data removed]",
      "text/plain": [
       "<Figure size 432x288 with 1 Axes>"
      ]
     },
     "metadata": {
      "needs_background": "light"
     },
     "output_type": "display_data"
    }
   ],
   "source": [
    "# iris dataset preloaded\n",
    "#iris.data #feature, 4D\n",
    "#iris.target # target label\n",
    "\n",
    "from sklearn.manifold import TSNE\n",
    "\n",
    "model = TSNE(learning_rate=100)\n",
    "\n",
    "transformed = model.fit_transform(iris.data)\n",
    "\n",
    "xs = transformed[:,0]\n",
    "ys = transformed[:,1]\n",
    "\n",
    "plt.scatter(xs,ys,c=iris.target)\n",
    "\n",
    "plt.show()\n"
   ]
  },
  {
   "cell_type": "code",
   "execution_count": 33,
   "metadata": {},
   "outputs": [
    {
     "data": {
      "image/png": "[encoded data removed]",
      "text/plain": [
       "<Figure size 432x288 with 1 Axes>"
      ]
     },
     "metadata": {
      "needs_background": "light"
     },
     "output_type": "display_data"
    }
   ],
   "source": [
    "# company stocks\n",
    "\n",
    "# Create a TSNE instance: model\n",
    "model = TSNE(learning_rate=50)\n",
    "\n",
    "# Apply fit_transform to normalized_movements: tsne_features\n",
    "tsne_features = model.fit_transform(normalized_movements)\n",
    "\n",
    "# Select the 0th feature: xs\n",
    "xs = tsne_features[:,0]\n",
    "\n",
    "# Select the 1th feature: ys\n",
    "ys = tsne_features[:,1]\n",
    "\n",
    "# Scatter plot\n",
    "plt.scatter(xs,ys,alpha=0.5)\n",
    "\n",
    "# Annotate the points\n",
    "for x, y, company in zip(xs, ys, stock_company_list):\n",
    "    plt.annotate(company, (x, y), fontsize=5, alpha=0.75)\n",
    "plt.show()\n"
   ]
  },
  {
   "cell_type": "markdown",
   "metadata": {},
   "source": [
    "## 19. Dimension reduction\n",
    "\n",
    "Dimension reduction finds patterns in data, and uses these patterns to re-express it in a compressed form. This makes subsequent computation with the data much more efficient.     \n",
    "\n",
    "The most important function of dimension reduction is to reduct a dataset to its\"bare bones\", discarding noisy features that cause big problems for supervised learning tasks like regression and classification. In many real-wrold applications, it's dimension reduction that makes prediction possible.     \n",
    "\n"
   ]
  },
  {
   "cell_type": "markdown",
   "metadata": {},
   "source": [
    "## 20. Principal Component Analysis (PCA)\n",
    "\n",
    "One of the most fundamental of dimension reduction technique.     \n",
    "PCA performs dimension reduction in 2 steps:     \n",
    "1) decorrelation: does not change the dimension of the data at all.      \n",
    "2) reduce dimension     \n",
    "\n",
    "In the first step, PCA rotates the samples so that they are aligned with the coordinate axes. PCA also shifts the samples so that they have mean zero.     \n",
    "\n",
    "scikit-learn has an implementation of PCS, and it has .fit() and .transform() method just like StandarScaler.      \n",
    "\n",
    "The .fit() method learns how to shift and how to rotate the samples, but doesn't actually change them.      \n",
    "The .transform() method applies the transformation that .fit() learned, the .tranform() method can be applied to new, unseen samples.     \n",
    "\n",
    "After the model is being fit and transformed, it will return an array of transformed samples. This new array has the same number of rows and columns as the original sample arra. There is 1 row for each transformed sample. The columns of the new array correspond to \"PCA feature\", just as the original features corresponded to columns of the original array.     \n",
    "\n",
    "PCA features are **NOT** correlated:      \n",
    "It is often the case that the features of a dataset are correlated. However, PCA, due to the rotation it performs, decorrelates the data, in the sense that the columns of the transfomred array are not lienarly correlated. (if plotted out in 2D of two features, originally these two might be linearly correlated, after transformation the data points will be bunched near the original, since mean = 0 and not linaerly correlated)     \n",
    "\n",
    "Linaer correlation can be measured with the Pearson correlation. (-1 to 1, 0 means no linaer correlation).     \n",
    "\n",
    "PCA learns the \"principle components\" of the data. These are the directions in which the samples vary the most. It is the pricipal components that PCA aligns with the coordiate axes. After PCA model has been fit, the priciple compinents are available as the components_ attribute. It is a numpu array with one row for each pricipal component. (if two principal components are present, there will be 2 rows).    \n",
    "\n"
   ]
  },
  {
   "cell_type": "code",
   "execution_count": 15,
   "metadata": {},
   "outputs": [
    {
     "data": {
      "image/png": "[encoded data removed]",
      "text/plain": [
       "<Figure size 432x288 with 1 Axes>"
      ]
     },
     "metadata": {
      "needs_background": "light"
     },
     "output_type": "display_data"
    },
    {
     "name": "stdout",
     "output_type": "stream",
     "text": [
      "0.8604149377143466\n"
     ]
    }
   ],
   "source": [
    "# width and length of samples of grain. \n",
    "# You suspect that width and length will be correlated. \n",
    "# To confirm this, make a scatter plot of width vs length and measure their Pearson correlation.\n",
    "df_grain_small=pd.read_csv(\"../Machine_Learning_basics/data/Grains/seeds.csv\",header=None,usecols = [3,4])\n",
    "columnsTitles=[4,3]\n",
    "df_grain_small=df_grain_small.reindex(columns=columnsTitles)\n",
    "grain_array_small = df_grain_small.values\n",
    "#print(grain_array_small)\n",
    "# Perform the necessary imports\n",
    "import matplotlib.pyplot as plt\n",
    "from scipy.stats import pearsonr\n",
    "\n",
    "# Assign the 0th column of grains: width\n",
    "width = grain_array_small[:,0]\n",
    "\n",
    "# Assign the 1st column of grains: length\n",
    "length = grain_array_small[:,1]\n",
    "\n",
    "# Scatter plot width vs length\n",
    "plt.scatter(width, length)\n",
    "plt.axis('equal')\n",
    "plt.show()\n",
    "\n",
    "# Calculate the Pearson correlation\n",
    "correlation, pvalue = pearsonr(width, length)\n",
    "\n",
    "# Display the correlation\n",
    "print(correlation)"
   ]
  },
  {
   "cell_type": "code",
   "execution_count": 16,
   "metadata": {},
   "outputs": [
    {
     "data": {
      "image/png": "[encoded data removed]",
      "text/plain": [
       "<Figure size 432x288 with 1 Axes>"
      ]
     },
     "metadata": {
      "needs_background": "light"
     },
     "output_type": "display_data"
    },
    {
     "name": "stdout",
     "output_type": "stream",
     "text": [
      "1.3877787807814457e-16\n"
     ]
    }
   ],
   "source": [
    "# Import PCA\n",
    "from sklearn.decomposition import PCA\n",
    "\n",
    "# Create PCA instance: model\n",
    "model = PCA()\n",
    "\n",
    "# Apply the fit_transform method of model to grains: pca_features\n",
    "pca_features = model.fit_transform(grain_array_small)\n",
    "\n",
    "# Assign 0th column of pca_features: xs\n",
    "xs = pca_features[:,0]\n",
    "\n",
    "# Assign 1st column of pca_features: ys\n",
    "ys = pca_features[:,1]\n",
    "\n",
    "# Scatter plot xs vs ys\n",
    "plt.scatter(xs, ys)\n",
    "plt.axis('equal')\n",
    "plt.show()\n",
    "\n",
    "# Calculate the Pearson correlation of xs and ys\n",
    "correlation, pvalue = pearsonr(xs, ys)\n",
    "\n",
    "# Display the correlation\n",
    "print(correlation)"
   ]
  },
  {
   "cell_type": "markdown",
   "metadata": {},
   "source": [
    "### 20.1 Intrinsic dimension of data\n",
    "\n",
    "Consider the dataset with two features: latitude and longitude. These two features might track the flight of an airplane, for example. This dataset is 2D, yet it turns out that it can be closely, approximated using only one feature: the displacement along the flight path. This dataset is intrinsicaly 1D.     \n",
    "\n",
    "The **intrisic dimension** of a dataset is the number of features required to approximate the dataset.        \n",
    "\n",
    "The intrisic dimension informs dimension reduction (essential idea), because it tells us how muc a dataset can be compressed. i.e. what is the most compact representation of the samples ?       \n",
    "\n",
    "This intrinsic dimension can be detected with PCA.     \n",
    "\n",
    "For a quick example, if we look at the iris data set, in particular, the 3 features (sepal length, sepal width, and petal width) of the versicolor species. If we plot a 3D scatter diagram (with each sample as a point in the 3D plot) (axis: x:sepal length, y:sepal width,z:petal width), then we see that the point cluster is flat (like a sheet) in shape. This means the these data do not vary alot in the z-axis (petal width). This means the data can be approximated by using only two coordinates, without losing much information. So this dataset has intrinsic dimension 2.     \n",
    "\n",
    "Scatter plots work if samples have 3 features or less (3D or less). If we have lot of features, we cannot visualise on a scatter plot.      \n",
    "\n",
    "PCA identifies intrinsic dimension when samples have any number of features.    \n",
    "\n",
    "Intrinsic dimension = number of PCS features with significant variance.     \n",
    "\n",
    "If apply PCA on the iris versicolor 3D dataset, we will obtain 3 PCA feature with variance of 0.3,0.06 and 0.01, essentially we can count two of them and discard the smallest feature.    \n",
    "\n",
    "PCA is not alway unambiguous ! Variance between PCA features can be close !\n"
   ]
  },
  {
   "cell_type": "code",
   "execution_count": 20,
   "metadata": {},
   "outputs": [
    {
     "name": "stdout",
     "output_type": "stream",
     "text": [
      "[[ 0.63910027  0.76912343]\n",
      " [-0.76912343  0.63910027]]\n"
     ]
    },
    {
     "data": {
      "image/png": "[encoded data removed]",
      "text/plain": [
       "<Figure size 432x288 with 1 Axes>"
      ]
     },
     "metadata": {
      "needs_background": "light"
     },
     "output_type": "display_data"
    }
   ],
   "source": [
    "# The first principal component of the data is the direction in which the data varies the most. \n",
    "# In this exercise, your job is to use PCA to find the first principal component of the length and width \n",
    "# measurements of the grain samples, and represent it as an arrow on the scatter plot.\n",
    "\n",
    "# Make a scatter plot of the untransformed points\n",
    "plt.scatter(grain_array_small[:,0], grain_array_small[:,1],color=\"blue\")\n",
    "\n",
    "# Create a PCA instance: model\n",
    "model = PCA()\n",
    "\n",
    "# Fit model to points\n",
    "model.fit(grain_array_small)\n",
    "\n",
    "# Get the mean of the grain samples: mean\n",
    "# Extract the coordinates of the mean of the data using the .mean_ attribute of model\n",
    "mean = model.mean_\n",
    "\n",
    "print(model.components_)\n",
    "# Get the first principal component: first_pc\n",
    "first_pc = model.components_[0,:]\n",
    "\n",
    "# Plot first_pc as an arrow, starting at mean\n",
    "# plt.arrow(x, y, dx, dy, **kwargs)\n",
    "# This draws an arrow from (x, y) to (x+dx, y+dy)\n",
    "plt.arrow(mean[0], mean[1], first_pc[0], first_pc[1], color='red', width=0.01)\n",
    "\n",
    "# Keep axes on same scale\n",
    "plt.axis('equal')\n",
    "plt.show()"
   ]
  },
  {
   "cell_type": "code",
   "execution_count": 22,
   "metadata": {},
   "outputs": [
    {
     "data": {
      "image/png": "[encoded data removed]",
      "text/plain": [
       "<Figure size 432x288 with 1 Axes>"
      ]
     },
     "metadata": {
      "needs_background": "light"
     },
     "output_type": "display_data"
    }
   ],
   "source": [
    "# The fish dataset is 6-dimensional. But what is its intrinsic dimension? \n",
    "# Make a plot of the variances of the PCA features to find out\n",
    "# You'll need to standardize the features first\n",
    "\n",
    "# Perform the necessary imports\n",
    "from sklearn.decomposition import PCA\n",
    "from sklearn.preprocessing import StandardScaler\n",
    "from sklearn.pipeline import make_pipeline\n",
    "import matplotlib.pyplot as plt\n",
    "\n",
    "# Create scaler: scaler\n",
    "scaler = StandardScaler()\n",
    "\n",
    "# Create a PCA instance: pca\n",
    "pca = PCA()\n",
    "\n",
    "# Create pipeline: pipeline\n",
    "pipeline = make_pipeline(scaler,pca)\n",
    "\n",
    "# Fit the pipeline to 'samples'\n",
    "pipeline.fit(fish_sample_array)\n",
    "\n",
    "# Plot the explained variances\n",
    "features = range(pca.n_components_)\n",
    "plt.bar(features, pca.explained_variance_, color=\"blue\")\n",
    "plt.xlabel('PCA feature')\n",
    "plt.ylabel('variance')\n",
    "plt.xticks(features)\n",
    "plt.show()\n",
    "# looks like fish data set has 2 intrinsic dimension"
   ]
  },
  {
   "cell_type": "markdown",
   "metadata": {},
   "source": [
    "### 20.2 Dimension reduction with PCA\n",
    "\n",
    "Dimension reduction represents the same data, using less features, and is vita for building machine learning pipelines using real-world data.    \n",
    "\n",
    "PCA features are in decreasing order of variance. PCA performs dimension reduction by discarding the PCA features with lower variance, which it assumes to be noise, and retaining the higher variance PCA features, which it assumes to be informative.    \n",
    "\n",
    "To use PCA for dimension reduction, you need to specify how many PCA features to keep.    \n",
    "e.g. PCA(n_components=2) when creating a PCA model tells it to keep only the first 2 PCA features.    \n",
    "A good choice is the intrinsic dimension of the dataset, if you know it.    \n",
    "\n",
    "For iris dataset (full), we have 4 features represeting the 4 measurements, 3 species. We can use PCA to reduce the dimension of the iris dataset to only 2. From graph below, we see that important information preserved: species remain distinct.     \n",
    "\n",
    "Like all assumption, there are cases where it does not hold (low PCA variance = noise, high PCA variance = info).       \n",
    "Assumption typically holds for practice.     \n",
    "\n",
    "In some case, an alternative implementation of PCA needs to be used. e.g. in word frequency array. In such a dataset, each row corresponds to a document, and each column corresponds to a word from a fixed vocabulary. The entris of the word-frequency array measure how often each word appears in each document. Only some of the words from the vocab appear in any one document, so most entries of the word frequency array are 0. Arrays like this are said to be sparse and often represented using a special type of array called a \"csr_matrix\". csr_matrix save space by rememebering only the non-zero entries of the array. (scipy.sparse.csr_matrix)      \n",
    "\n",
    "scikit-learn's PCA doesn't support csr_matrix, and we will need to use scikit-learn TruncatedSVD instead. TruncatedSVD performs the same transformation as PCA, but accepts csr_matrices as input.\n",
    "\n"
   ]
  },
  {
   "cell_type": "code",
   "execution_count": 26,
   "metadata": {},
   "outputs": [
    {
     "name": "stdout",
     "output_type": "stream",
     "text": [
      "(150, 2)\n"
     ]
    },
    {
     "data": {
      "image/png": "[encoded data removed]",
      "text/plain": [
       "<Figure size 432x288 with 1 Axes>"
      ]
     },
     "metadata": {
      "needs_background": "light"
     },
     "output_type": "display_data"
    }
   ],
   "source": [
    "#iris.data\n",
    "#iris.target\n",
    "pca = PCA(n_components=2)\n",
    "pca.fit(iris.data)\n",
    "transformed = pca.transform(iris.data)\n",
    "print(transformed.shape)\n",
    "#we see there are only two features, as specified\n",
    "\n",
    "xs = transformed[:,0]\n",
    "ys = transformed[:,1]\n",
    "\n",
    "#plot and show the 2 PCA features\n",
    "#reduct dimension from 4 -> 2, species can still be distinguished, (from graph, there is no clustering performed here)\n",
    "# meaning the dataset after reduction can still be clustered (and not mixed up after transformation)\n",
    "\n",
    "plt.scatter(xs,ys,c=iris.target)\n",
    "plt.show()"
   ]
  },
  {
   "cell_type": "markdown",
   "metadata": {},
   "source": [
    "**A tf-idf word-frequency array**    \n",
    "\n",
    "In this exercise, you'll create a tf-idf word frequency array for a toy collection of documents. For this, use the TfidfVectorizer from sklearn. It transforms a list of documents into a word frequency array, which it outputs as a csr_matrix. It has fit() and transform() methods like other sklearn objects.     \n",
    "\n",
    "tf–idf or TFIDF, short for term frequency–inverse document frequency, is a numerical statistic that is intended to reflect how important a word is to a document in a collection.     \n",
    "\n",
    "The number of times a term occurs in a document is called its **term frequency**. \n",
    "Because the term \"the\" is so common, term frequency will tend to incorrectly emphasize documents which happen to use the word \"the\" more frequently, without giving enough weight to the more meaningful terms \"brown\" and \"cow\". The term \"the\" is not a good keyword to distinguish relevant and non-relevant documents and terms, unlike the less-common words \"brown\" and \"cow\". Hence an **inverse document frequency** factor is incorporated which diminishes the weight of terms that occur very frequently in the document set and increases the weight of terms that occur rarely.\n"
   ]
  },
  {
   "cell_type": "code",
   "execution_count": 27,
   "metadata": {},
   "outputs": [
    {
     "name": "stdout",
     "output_type": "stream",
     "text": [
      "[[0.51785612 0.         0.         0.68091856 0.51785612 0.        ]\n",
      " [0.         0.         0.51785612 0.         0.51785612 0.68091856]\n",
      " [0.51785612 0.68091856 0.51785612 0.         0.         0.        ]]\n",
      "['cats', 'chase', 'dogs', 'meow', 'say', 'woof']\n"
     ]
    }
   ],
   "source": [
    "# Import TfidfVectorizer\n",
    "from sklearn.feature_extraction.text import TfidfVectorizer\n",
    "\n",
    "documents= ['cats say meow', 'dogs say woof', 'dogs chase cats']\n",
    "# Create a TfidfVectorizer: tfidf\n",
    "tfidf = TfidfVectorizer()\n",
    "\n",
    "# Apply fit_transform to document: csr_mat\n",
    "# This is a word-frequency array in csr_matrix format\n",
    "csr_mat = tfidf.fit_transform(documents)\n",
    "\n",
    "# Print result of toarray() method\n",
    "print(csr_mat.toarray())\n",
    "\n",
    "# Get the words: words\n",
    "# The columns of the array correspond to words. \n",
    "# rows correspond to item in documents list\n",
    "# Get the list of words by calling the .get_feature_names() method of tfidf\n",
    "words = tfidf.get_feature_names()\n",
    "\n",
    "# Print words\n",
    "print(words)\n"
   ]
  },
  {
   "cell_type": "markdown",
   "metadata": {},
   "source": [
    "## Example: Clustering Widipedia\n",
    "\n",
    "Combine your knowledge of TruncatedSVD and k-means to cluster some popular pages from Wikipedia"
   ]
  },
  {
   "cell_type": "code",
   "execution_count": 28,
   "metadata": {},
   "outputs": [],
   "source": [
    "import pandas as pd\n",
    "from scipy.sparse import csr_matrix\n",
    "\n",
    "#The reason for taking this transpose is that without it, there would be 13,000 columns \n",
    "# (corresponding to the 13,000 words in the file), which is a lot of columns for a CSV to have.\n",
    " # we've precomputed the word-frequency matrix for you, so there's no need for a TfidfVectorizer\n",
    "df = pd.read_csv('../Machine_Learning_basics/data/Wikipedia articles/wikipedia-vectors.csv', index_col=0)\n",
    "articles = csr_matrix(df.transpose())\n",
    "titles = list(df.columns)"
   ]
  },
  {
   "cell_type": "code",
   "execution_count": 29,
   "metadata": {},
   "outputs": [],
   "source": [
    "# Perform the necessary imports\n",
    "from sklearn.decomposition import TruncatedSVD\n",
    "from sklearn.cluster import KMeans\n",
    "from sklearn.pipeline import make_pipeline\n",
    "\n",
    "# Create a TruncatedSVD instance: svd\n",
    "svd = TruncatedSVD(n_components=50)\n",
    "\n",
    "# Create a KMeans instance: kmeans\n",
    "kmeans = KMeans(n_clusters=6)\n",
    "\n",
    "# Create a pipeline: pipeline\n",
    "pipeline = make_pipeline(svd,kmeans)"
   ]
  },
  {
   "cell_type": "code",
   "execution_count": 30,
   "metadata": {},
   "outputs": [
    {
     "name": "stdout",
     "output_type": "stream",
     "text": [
      "    label                                        article\n",
      "48      0                                     Gabapentin\n",
      "47      0                                          Fever\n",
      "46      0                                     Prednisone\n",
      "45      0                                    Hepatitis C\n",
      "44      0                                           Gout\n",
      "43      0                                       Leukemia\n",
      "42      0                                    Doxycycline\n",
      "41      0                                    Hepatitis B\n",
      "40      0                                    Tonsillitis\n",
      "49      0                                       Lymphoma\n",
      "39      1                                  Franck Ribéry\n",
      "30      1                  France national football team\n",
      "31      1                              Cristiano Ronaldo\n",
      "32      1                                   Arsenal F.C.\n",
      "33      1                                 Radamel Falcao\n",
      "34      1                             Zlatan Ibrahimović\n",
      "35      1                Colombia national football team\n",
      "36      1              2014 FIFA World Cup qualification\n",
      "37      1                                       Football\n",
      "38      1                                         Neymar\n",
      "58      2                                         Sepsis\n",
      "59      2                                    Adam Levine\n",
      "50      2                                   Chad Kroeger\n",
      "57      2                          Red Hot Chili Peppers\n",
      "56      2                                       Skrillex\n",
      "55      2                                  Black Sabbath\n",
      "54      2                                 Arctic Monkeys\n",
      "53      2                                   Stevie Nicks\n",
      "52      2                                     The Wanted\n",
      "51      2                                     Nate Ruess\n",
      "17      3  Greenhouse gas emissions by the United States\n",
      "10      3                                 Global warming\n",
      "11      3       Nationally Appropriate Mitigation Action\n",
      "12      3                                   Nigel Lawson\n",
      "13      3                               Connie Hedegaard\n",
      "14      3                                 Climate change\n",
      "15      3                                 Kyoto Protocol\n",
      "16      3                                        350.org\n",
      "18      3  2010 United Nations Climate Change Conference\n",
      "19      3  2007 United Nations Climate Change Conference\n",
      "29      4                               Jennifer Aniston\n",
      "27      4                                 Dakota Fanning\n",
      "26      4                                     Mila Kunis\n",
      "25      4                                  Russell Crowe\n",
      "24      4                                   Jessica Biel\n",
      "23      4                           Catherine Zeta-Jones\n",
      "22      4                              Denzel Washington\n",
      "21      4                             Michael Fassbender\n",
      "20      4                                 Angelina Jolie\n",
      "28      4                                  Anne Hathaway\n",
      "1       5                                 Alexa Internet\n",
      "2       5                              Internet Explorer\n",
      "3       5                                    HTTP cookie\n",
      "4       5                                  Google Search\n",
      "8       5                                        Firefox\n",
      "6       5                    Hypertext Transfer Protocol\n",
      "7       5                                  Social search\n",
      "9       5                                       LinkedIn\n",
      "5       5                                         Tumblr\n",
      "0       5                                       HTTP 404\n"
     ]
    }
   ],
   "source": [
    "# Fit the pipeline to articles\n",
    "pipeline.fit(articles)\n",
    "\n",
    "# Calculate the cluster labels: labels\n",
    "labels = pipeline.predict(articles)\n",
    "\n",
    "# Create a DataFrame aligning labels and titles: df\n",
    "df = pd.DataFrame({'label': labels, 'article': titles})\n",
    "\n",
    "# Display df sorted by cluster label\n",
    "print(df.sort_values(\"label\"))"
   ]
  },
  {
   "cell_type": "code",
   "execution_count": null,
   "metadata": {},
   "outputs": [],
   "source": []
  },
  {
   "cell_type": "code",
   "execution_count": null,
   "metadata": {},
   "outputs": [],
   "source": []
  },
  {
   "cell_type": "code",
   "execution_count": null,
   "metadata": {},
   "outputs": [],
   "source": [
    "\n"
   ]
  },
  {
   "cell_type": "code",
   "execution_count": 18,
   "metadata": {},
   "outputs": [
    {
     "data": {
      "text/plain": [
       "array([[ 242. ,   23.2,   25.4,   30. ,   38.4,   13.4],\n",
       "       [ 290. ,   24. ,   26.3,   31.2,   40. ,   13.8],\n",
       "       [ 340. ,   23.9,   26.5,   31.1,   39.8,   15.1],\n",
       "       [ 363. ,   26.3,   29. ,   33.5,   38. ,   13.3],\n",
       "       [ 430. ,   26.5,   29. ,   34. ,   36.6,   15.1],\n",
       "       [ 450. ,   26.8,   29.7,   34.7,   39.2,   14.2],\n",
       "       [ 500. ,   26.8,   29.7,   34.5,   41.1,   15.3],\n",
       "       [ 390. ,   27.6,   30. ,   35. ,   36.2,   13.4],\n",
       "       [ 450. ,   27.6,   30. ,   35.1,   39.9,   13.8],\n",
       "       [ 500. ,   28.5,   30.7,   36.2,   39.3,   13.7],\n",
       "       [ 475. ,   28.4,   31. ,   36.2,   39.4,   14.1],\n",
       "       [ 500. ,   28.7,   31. ,   36.2,   39.7,   13.3],\n",
       "       [ 500. ,   29.1,   31.5,   36.4,   37.8,   12. ],\n",
       "       [ 600. ,   29.4,   32. ,   37.2,   40.2,   13.9],\n",
       "       [ 600. ,   29.4,   32. ,   37.2,   41.5,   15. ],\n",
       "       [ 700. ,   30.4,   33. ,   38.3,   38.8,   13.8],\n",
       "       [ 700. ,   30.4,   33. ,   38.5,   38.8,   13.5],\n",
       "       [ 610. ,   30.9,   33.5,   38.6,   40.5,   13.3],\n",
       "       [ 650. ,   31. ,   33.5,   38.7,   37.4,   14.8],\n",
       "       [ 575. ,   31.3,   34. ,   39.5,   38.3,   14.1],\n",
       "       [ 685. ,   31.4,   34. ,   39.2,   40.8,   13.7],\n",
       "       [ 620. ,   31.5,   34.5,   39.7,   39.1,   13.3],\n",
       "       [ 680. ,   31.8,   35. ,   40.6,   38.1,   15.1],\n",
       "       [ 700. ,   31.9,   35. ,   40.5,   40.1,   13.8],\n",
       "       [ 725. ,   31.8,   35. ,   40.9,   40. ,   14.8],\n",
       "       [ 720. ,   32. ,   35. ,   40.6,   40.3,   15. ],\n",
       "       [ 714. ,   32.7,   36. ,   41.5,   39.8,   14.1],\n",
       "       [ 850. ,   32.8,   36. ,   41.6,   40.6,   14.9],\n",
       "       [1000. ,   33.5,   37. ,   42.6,   44.5,   15.5],\n",
       "       [ 920. ,   35. ,   38.5,   44.1,   40.9,   14.3],\n",
       "       [ 955. ,   35. ,   38.5,   44. ,   41.1,   14.3],\n",
       "       [ 925. ,   36.2,   39.5,   45.3,   41.4,   14.9],\n",
       "       [ 975. ,   37.4,   41. ,   45.9,   40.6,   14.7],\n",
       "       [ 950. ,   38. ,   41. ,   46.5,   37.9,   13.7],\n",
       "       [  40. ,   12.9,   14.1,   16.2,   25.6,   14. ],\n",
       "       [  69. ,   16.5,   18.2,   20.3,   26.1,   13.9],\n",
       "       [  78. ,   17.5,   18.8,   21.2,   26.3,   13.7],\n",
       "       [  87. ,   18.2,   19.8,   22.2,   25.3,   14.3],\n",
       "       [ 120. ,   18.6,   20. ,   22.2,   28. ,   16.1],\n",
       "       [   0. ,   19. ,   20.5,   22.8,   28.4,   14.7],\n",
       "       [ 110. ,   19.1,   20.8,   23.1,   26.7,   14.7],\n",
       "       [ 120. ,   19.4,   21. ,   23.7,   25.8,   13.9],\n",
       "       [ 150. ,   20.4,   22. ,   24.7,   23.5,   15.2],\n",
       "       [ 145. ,   20.5,   22. ,   24.3,   27.3,   14.6],\n",
       "       [ 160. ,   20.5,   22.5,   25.3,   27.8,   15.1],\n",
       "       [ 140. ,   21. ,   22.5,   25. ,   26.2,   13.3],\n",
       "       [ 160. ,   21.1,   22.5,   25. ,   25.6,   15.2],\n",
       "       [ 169. ,   22. ,   24. ,   27.2,   27.7,   14.1],\n",
       "       [ 161. ,   22. ,   23.4,   26.7,   25.9,   13.6],\n",
       "       [ 200. ,   22.1,   23.5,   26.8,   27.6,   15.4],\n",
       "       [ 180. ,   23.6,   25.2,   27.9,   25.4,   14. ],\n",
       "       [ 290. ,   24. ,   26. ,   29.2,   30.4,   15.4],\n",
       "       [ 272. ,   25. ,   27. ,   30.6,   28. ,   15.6],\n",
       "       [ 390. ,   29.5,   31.7,   35. ,   27.1,   15.3],\n",
       "       [   6.7,    9.3,    9.8,   10.8,   16.1,    9.7],\n",
       "       [   7.5,   10. ,   10.5,   11.6,   17. ,   10. ],\n",
       "       [   7. ,   10.1,   10.6,   11.6,   14.9,    9.9],\n",
       "       [   9.7,   10.4,   11. ,   12. ,   18.3,   11.5],\n",
       "       [   9.8,   10.7,   11.2,   12.4,   16.8,   10.3],\n",
       "       [   8.7,   10.8,   11.3,   12.6,   15.7,   10.2],\n",
       "       [  10. ,   11.3,   11.8,   13.1,   16.9,    9.8],\n",
       "       [   9.9,   11.3,   11.8,   13.1,   16.9,    8.9],\n",
       "       [   9.8,   11.4,   12. ,   13.2,   16.7,    8.7],\n",
       "       [  12.2,   11.5,   12.2,   13.4,   15.6,   10.4],\n",
       "       [  13.4,   11.7,   12.4,   13.5,   18. ,    9.4],\n",
       "       [  12.2,   12.1,   13. ,   13.8,   16.5,    9.1],\n",
       "       [  19.7,   13.2,   14.3,   15.2,   18.9,   13.6],\n",
       "       [  19.9,   13.8,   15. ,   16.2,   18.1,   11.6],\n",
       "       [ 200. ,   30. ,   32.3,   34.8,   16. ,    9.7],\n",
       "       [ 300. ,   31.7,   34. ,   37.8,   15.1,   11. ],\n",
       "       [ 300. ,   32.7,   35. ,   38.8,   15.3,   11.3],\n",
       "       [ 300. ,   34.8,   37.3,   39.8,   15.8,   10.1],\n",
       "       [ 430. ,   35.5,   38. ,   40.5,   18. ,   11.3],\n",
       "       [ 345. ,   36. ,   38.5,   41. ,   15.6,    9.7],\n",
       "       [ 456. ,   40. ,   42.5,   45.5,   16. ,    9.5],\n",
       "       [ 510. ,   40. ,   42.5,   45.5,   15. ,    9.8],\n",
       "       [ 540. ,   40.1,   43. ,   45.8,   17. ,   11.2],\n",
       "       [ 500. ,   42. ,   45. ,   48. ,   14.5,   10.2],\n",
       "       [ 567. ,   43.2,   46. ,   48.7,   16. ,   10. ],\n",
       "       [ 770. ,   44.8,   48. ,   51.2,   15. ,   10.5],\n",
       "       [ 950. ,   48.3,   51.7,   55.1,   16.2,   11.2],\n",
       "       [1250. ,   52. ,   56. ,   59.7,   17.9,   11.7],\n",
       "       [1600. ,   56. ,   60. ,   64. ,   15. ,    9.6],\n",
       "       [1550. ,   56. ,   60. ,   64. ,   15. ,    9.6],\n",
       "       [1650. ,   59. ,   63.4,   68. ,   15.9,   11. ]])"
      ]
     },
     "execution_count": 18,
     "metadata": {},
     "output_type": "execute_result"
    }
   ],
   "source": []
  },
  {
   "cell_type": "code",
   "execution_count": null,
   "metadata": {},
   "outputs": [],
   "source": []
  }
 ],
 "metadata": {
  "kernelspec": {
   "display_name": "Python 3",
   "language": "python",
   "name": "python3"
  },
  "language_info": {
   "codemirror_mode": {
    "name": "ipython",
    "version": 3
   },
   "file_extension": ".py",
   "mimetype": "text/x-python",
   "name": "python",
   "nbconvert_exporter": "python",
   "pygments_lexer": "ipython3",
   "version": "3.7.4"
  }
 },
 "nbformat": 4,
 "nbformat_minor": 4
}
